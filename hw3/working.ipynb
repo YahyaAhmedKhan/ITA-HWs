{
  "cells": [
    {
      "cell_type": "code",
      "execution_count": 1,
      "metadata": {
        "colab": {
          "base_uri": "https://localhost:8080/"
        },
        "id": "q45vnn0SszGV",
        "outputId": "e1b31d0f-dbe9-4cd5-a343-0da8e2b0056f"
      },
      "outputs": [
        {
          "name": "stdout",
          "output_type": "stream",
          "text": [
            "Cloning into 'ITA-HWs'...\n",
            "remote: Enumerating objects: 25, done.\u001b[K\n",
            "remote: Counting objects: 100% (25/25), done.\u001b[K\n",
            "remote: Compressing objects: 100% (17/17), done.\u001b[K\n",
            "remote: Total 25 (delta 4), reused 24 (delta 3), pack-reused 0 (from 0)\u001b[K\n",
            "Receiving objects: 100% (25/25), 346.30 KiB | 1.23 MiB/s, done.\n",
            "Resolving deltas: 100% (4/4), done.\n"
          ]
        }
      ],
      "source": [
        "!git clone https://github.com/YahyaAhmedKhan/ITA-HWs.git\n",
        "!mv ITA-HWs/hw3/news_Feb_14.csv /content/\n"
      ]
    },
    {
      "cell_type": "code",
      "execution_count": 2,
      "metadata": {
        "id": "j04n_2BiFPWw"
      },
      "outputs": [],
      "source": [
        "import re\n",
        "import nltk\n",
        "from nltk.corpus import stopwords\n",
        "from nltk.tokenize import word_tokenize\n",
        "import pandas as pd\n",
        "\n",
        "nltk.download('punkt', quiet=True)\n",
        "nltk.download('punkt_tab', quiet=True)\n",
        "nltk.download('stopwords', quiet=True)\n",
        "\n",
        "file_name = \"news_Feb_14.csv\"\n",
        "df = pd.read_csv(file_name)\n",
        "del df[\"date\"]\n",
        "\n",
        "stop_words = set(stopwords.words('english'))\n",
        "\n",
        "def preprocess_df(df: pd.DataFrame) -> pd.DataFrame:\n",
        "    df[\"tokens\"] = df[\"title\"].str.lower()\n",
        "    df[\"tokens\"] = df[\"tokens\"].str.replace('[^a-zA-Z]', ' ', regex=True)  # Clean text\n",
        "    df[\"tokens\"] = df[\"tokens\"].apply(lambda x: ' '.join([word for word in x.split() if word not in stop_words]))  # Remove stopwords\n",
        "    df[\"tokens\"] = df[\"tokens\"].apply(word_tokenize)  # Tokenize words\n",
        "    return df"
      ]
    },
    {
      "cell_type": "code",
      "execution_count": 3,
      "metadata": {
        "id": "_4DdWAZUw7qf"
      },
      "outputs": [],
      "source": [
        "def get_tokenized_df(file_name=file_name):\n",
        "  df = pd.read_csv(file_name)\n",
        "  del df[\"date\"]\n",
        "  preprocess_df(df)\n",
        "  return df\n"
      ]
    },
    {
      "cell_type": "code",
      "execution_count": 4,
      "metadata": {
        "colab": {
          "base_uri": "https://localhost:8080/"
        },
        "id": "pOcdNmxSO17N",
        "outputId": "f2536bee-4908-4957-9578-2e0d29584e95"
      },
      "outputs": [
        {
          "name": "stdout",
          "output_type": "stream",
          "text": [
            "[==================================================] 100.0% 958.5/958.4MB downloaded\n"
          ]
        }
      ],
      "source": [
        "import gensim.downloader as api\n",
        "fasttext_model = api.load(\"fasttext-wiki-news-subwords-300\")\n"
      ]
    },
    {
      "cell_type": "code",
      "execution_count": 5,
      "metadata": {
        "id": "r7g6QBN8zSoy"
      },
      "outputs": [],
      "source": [
        "import numpy as np\n",
        "\n",
        "def sentence_to_vector(sentence, model, dim=300):\n",
        "    \"\"\"Convert a tokenized sentence into a single vector by averaging word embeddings.\"\"\"\n",
        "    vectors = [model[word] for word in sentence if word in model]  # Get vectors for known words\n",
        "    return np.mean(vectors, axis=0) if vectors else np.zeros(dim)  #Return average vector\n",
        "\n",
        "df = get_tokenized_df()\n",
        "\n",
        "# Apply to the DataFrame\n",
        "df[\"vector\"] = df[\"tokens\"].apply(lambda x: sentence_to_vector(x, fasttext_model))\n"
      ]
    },
    {
      "cell_type": "code",
      "execution_count": 6,
      "metadata": {
        "colab": {
          "base_uri": "https://localhost:8080/",
          "height": 424
        },
        "id": "9ARXWUhkJI0c",
        "outputId": "5a215e97-48b3-4abf-fd5f-6a38e7931c3d"
      },
      "outputs": [
        {
          "data": {
            "application/vnd.google.colaboratory.intrinsic+json": {
              "summary": "{\n  \"name\": \"df\",\n  \"rows\": 453,\n  \"fields\": [\n    {\n      \"column\": \"title\",\n      \"properties\": {\n        \"dtype\": \"string\",\n        \"num_unique_values\": 450,\n        \"samples\": [\n          \"Bid to desecrate Holy Quran foiled outside Turkish Consulate in London\",\n          \"Pakistan Petroleum Limited secures 10-year lease extension for Sui Gas Field operations\",\n          \"Sharaa speaks of \\u2018strong strategic ties\\u2019 with Russia in Putin phone call\"\n        ],\n        \"semantic_type\": \"\",\n        \"description\": \"\"\n      }\n    },\n    {\n      \"column\": \"tokens\",\n      \"properties\": {\n        \"dtype\": \"object\",\n        \"semantic_type\": \"\",\n        \"description\": \"\"\n      }\n    },\n    {\n      \"column\": \"vector\",\n      \"properties\": {\n        \"dtype\": \"object\",\n        \"semantic_type\": \"\",\n        \"description\": \"\"\n      }\n    }\n  ]\n}",
              "type": "dataframe",
              "variable_name": "df"
            },
            "text/html": [
              "\n",
              "  <div id=\"df-e80517b0-1371-4499-b674-dba7faec177a\" class=\"colab-df-container\">\n",
              "    <div>\n",
              "<style scoped>\n",
              "    .dataframe tbody tr th:only-of-type {\n",
              "        vertical-align: middle;\n",
              "    }\n",
              "\n",
              "    .dataframe tbody tr th {\n",
              "        vertical-align: top;\n",
              "    }\n",
              "\n",
              "    .dataframe thead th {\n",
              "        text-align: right;\n",
              "    }\n",
              "</style>\n",
              "<table border=\"1\" class=\"dataframe\">\n",
              "  <thead>\n",
              "    <tr style=\"text-align: right;\">\n",
              "      <th></th>\n",
              "      <th>title</th>\n",
              "      <th>tokens</th>\n",
              "      <th>vector</th>\n",
              "    </tr>\n",
              "  </thead>\n",
              "  <tbody>\n",
              "    <tr>\n",
              "      <th>0</th>\n",
              "      <td>ECC endorses purchase of $582mn capital shares...</td>\n",
              "      <td>[ecc, endorses, purchase, mn, capital, shares,...</td>\n",
              "      <td>[0.025826892, -0.0181117, 0.0011411912, -0.000...</td>\n",
              "    </tr>\n",
              "    <tr>\n",
              "      <th>1</th>\n",
              "      <td>Netanyahu’s statement to establish Palestinian...</td>\n",
              "      <td>[netanyahu, statement, establish, palestinian,...</td>\n",
              "      <td>[-0.00908397, -0.0288392, 0.0026446395, -0.005...</td>\n",
              "    </tr>\n",
              "    <tr>\n",
              "      <th>2</th>\n",
              "      <td>India, US agree to resolve trade and tariff ro...</td>\n",
              "      <td>[india, us, agree, resolve, trade, tariff, row...</td>\n",
              "      <td>[-0.0030669407, 0.009051299, 0.026817769, -0.0...</td>\n",
              "    </tr>\n",
              "    <tr>\n",
              "      <th>3</th>\n",
              "      <td>Aurangzeb discusses Pakistan’s structural refo...</td>\n",
              "      <td>[aurangzeb, discusses, pakistan, structural, r...</td>\n",
              "      <td>[-0.0130836675, -0.033663083, 0.005895166, -0....</td>\n",
              "    </tr>\n",
              "    <tr>\n",
              "      <th>4</th>\n",
              "      <td>HBL, S&amp;P Global launch Pakistan’s first manufa...</td>\n",
              "      <td>[hbl, p, global, launch, pakistan, first, manu...</td>\n",
              "      <td>[-0.0054678866, -0.0356399, 0.014165485, 0.000...</td>\n",
              "    </tr>\n",
              "    <tr>\n",
              "      <th>...</th>\n",
              "      <td>...</td>\n",
              "      <td>...</td>\n",
              "      <td>...</td>\n",
              "    </tr>\n",
              "    <tr>\n",
              "      <th>448</th>\n",
              "      <td>SBP grants FPT clearance to Zia Ijaz as Askari...</td>\n",
              "      <td>[sbp, grants, fpt, clearance, zia, ijaz, askar...</td>\n",
              "      <td>[-0.00060196756, -0.04227778, -0.008535344, -0...</td>\n",
              "    </tr>\n",
              "    <tr>\n",
              "      <th>449</th>\n",
              "      <td>India’s Modi brings a tariff ‘gift’ to Trump t...</td>\n",
              "      <td>[india, modi, brings, tariff, gift, trump, talks]</td>\n",
              "      <td>[-0.0068469304, -0.009761572, 0.021141728, -0....</td>\n",
              "    </tr>\n",
              "    <tr>\n",
              "      <th>450</th>\n",
              "      <td>Oil prices decline on optimism over potential ...</td>\n",
              "      <td>[oil, prices, decline, optimism, potential, ru...</td>\n",
              "      <td>[0.05173111, -0.006429289, 0.016058058, 0.0052...</td>\n",
              "    </tr>\n",
              "    <tr>\n",
              "      <th>451</th>\n",
              "      <td>Google partners with Poland to expand AI adopt...</td>\n",
              "      <td>[google, partners, poland, expand, ai, adoptio...</td>\n",
              "      <td>[0.030098362, -0.037125237, 0.022560664, 0.011...</td>\n",
              "    </tr>\n",
              "    <tr>\n",
              "      <th>452</th>\n",
              "      <td>US regulator opens probe into 129,092 Honda ve...</td>\n",
              "      <td>[us, regulator, opens, probe, honda, vehicles,...</td>\n",
              "      <td>[0.0031477504, -0.027680788, 0.038726, 0.02771...</td>\n",
              "    </tr>\n",
              "  </tbody>\n",
              "</table>\n",
              "<p>453 rows × 3 columns</p>\n",
              "</div>\n",
              "    <div class=\"colab-df-buttons\">\n",
              "\n",
              "  <div class=\"colab-df-container\">\n",
              "    <button class=\"colab-df-convert\" onclick=\"convertToInteractive('df-e80517b0-1371-4499-b674-dba7faec177a')\"\n",
              "            title=\"Convert this dataframe to an interactive table.\"\n",
              "            style=\"display:none;\">\n",
              "\n",
              "  <svg xmlns=\"http://www.w3.org/2000/svg\" height=\"24px\" viewBox=\"0 -960 960 960\">\n",
              "    <path d=\"M120-120v-720h720v720H120Zm60-500h600v-160H180v160Zm220 220h160v-160H400v160Zm0 220h160v-160H400v160ZM180-400h160v-160H180v160Zm440 0h160v-160H620v160ZM180-180h160v-160H180v160Zm440 0h160v-160H620v160Z\"/>\n",
              "  </svg>\n",
              "    </button>\n",
              "\n",
              "  <style>\n",
              "    .colab-df-container {\n",
              "      display:flex;\n",
              "      gap: 12px;\n",
              "    }\n",
              "\n",
              "    .colab-df-convert {\n",
              "      background-color: #E8F0FE;\n",
              "      border: none;\n",
              "      border-radius: 50%;\n",
              "      cursor: pointer;\n",
              "      display: none;\n",
              "      fill: #1967D2;\n",
              "      height: 32px;\n",
              "      padding: 0 0 0 0;\n",
              "      width: 32px;\n",
              "    }\n",
              "\n",
              "    .colab-df-convert:hover {\n",
              "      background-color: #E2EBFA;\n",
              "      box-shadow: 0px 1px 2px rgba(60, 64, 67, 0.3), 0px 1px 3px 1px rgba(60, 64, 67, 0.15);\n",
              "      fill: #174EA6;\n",
              "    }\n",
              "\n",
              "    .colab-df-buttons div {\n",
              "      margin-bottom: 4px;\n",
              "    }\n",
              "\n",
              "    [theme=dark] .colab-df-convert {\n",
              "      background-color: #3B4455;\n",
              "      fill: #D2E3FC;\n",
              "    }\n",
              "\n",
              "    [theme=dark] .colab-df-convert:hover {\n",
              "      background-color: #434B5C;\n",
              "      box-shadow: 0px 1px 3px 1px rgba(0, 0, 0, 0.15);\n",
              "      filter: drop-shadow(0px 1px 2px rgba(0, 0, 0, 0.3));\n",
              "      fill: #FFFFFF;\n",
              "    }\n",
              "  </style>\n",
              "\n",
              "    <script>\n",
              "      const buttonEl =\n",
              "        document.querySelector('#df-e80517b0-1371-4499-b674-dba7faec177a button.colab-df-convert');\n",
              "      buttonEl.style.display =\n",
              "        google.colab.kernel.accessAllowed ? 'block' : 'none';\n",
              "\n",
              "      async function convertToInteractive(key) {\n",
              "        const element = document.querySelector('#df-e80517b0-1371-4499-b674-dba7faec177a');\n",
              "        const dataTable =\n",
              "          await google.colab.kernel.invokeFunction('convertToInteractive',\n",
              "                                                    [key], {});\n",
              "        if (!dataTable) return;\n",
              "\n",
              "        const docLinkHtml = 'Like what you see? Visit the ' +\n",
              "          '<a target=\"_blank\" href=https://colab.research.google.com/notebooks/data_table.ipynb>data table notebook</a>'\n",
              "          + ' to learn more about interactive tables.';\n",
              "        element.innerHTML = '';\n",
              "        dataTable['output_type'] = 'display_data';\n",
              "        await google.colab.output.renderOutput(dataTable, element);\n",
              "        const docLink = document.createElement('div');\n",
              "        docLink.innerHTML = docLinkHtml;\n",
              "        element.appendChild(docLink);\n",
              "      }\n",
              "    </script>\n",
              "  </div>\n",
              "\n",
              "\n",
              "<div id=\"df-3f3f5937-f633-49c6-a240-0732fcdd73a2\">\n",
              "  <button class=\"colab-df-quickchart\" onclick=\"quickchart('df-3f3f5937-f633-49c6-a240-0732fcdd73a2')\"\n",
              "            title=\"Suggest charts\"\n",
              "            style=\"display:none;\">\n",
              "\n",
              "<svg xmlns=\"http://www.w3.org/2000/svg\" height=\"24px\"viewBox=\"0 0 24 24\"\n",
              "     width=\"24px\">\n",
              "    <g>\n",
              "        <path d=\"M19 3H5c-1.1 0-2 .9-2 2v14c0 1.1.9 2 2 2h14c1.1 0 2-.9 2-2V5c0-1.1-.9-2-2-2zM9 17H7v-7h2v7zm4 0h-2V7h2v10zm4 0h-2v-4h2v4z\"/>\n",
              "    </g>\n",
              "</svg>\n",
              "  </button>\n",
              "\n",
              "<style>\n",
              "  .colab-df-quickchart {\n",
              "      --bg-color: #E8F0FE;\n",
              "      --fill-color: #1967D2;\n",
              "      --hover-bg-color: #E2EBFA;\n",
              "      --hover-fill-color: #174EA6;\n",
              "      --disabled-fill-color: #AAA;\n",
              "      --disabled-bg-color: #DDD;\n",
              "  }\n",
              "\n",
              "  [theme=dark] .colab-df-quickchart {\n",
              "      --bg-color: #3B4455;\n",
              "      --fill-color: #D2E3FC;\n",
              "      --hover-bg-color: #434B5C;\n",
              "      --hover-fill-color: #FFFFFF;\n",
              "      --disabled-bg-color: #3B4455;\n",
              "      --disabled-fill-color: #666;\n",
              "  }\n",
              "\n",
              "  .colab-df-quickchart {\n",
              "    background-color: var(--bg-color);\n",
              "    border: none;\n",
              "    border-radius: 50%;\n",
              "    cursor: pointer;\n",
              "    display: none;\n",
              "    fill: var(--fill-color);\n",
              "    height: 32px;\n",
              "    padding: 0;\n",
              "    width: 32px;\n",
              "  }\n",
              "\n",
              "  .colab-df-quickchart:hover {\n",
              "    background-color: var(--hover-bg-color);\n",
              "    box-shadow: 0 1px 2px rgba(60, 64, 67, 0.3), 0 1px 3px 1px rgba(60, 64, 67, 0.15);\n",
              "    fill: var(--button-hover-fill-color);\n",
              "  }\n",
              "\n",
              "  .colab-df-quickchart-complete:disabled,\n",
              "  .colab-df-quickchart-complete:disabled:hover {\n",
              "    background-color: var(--disabled-bg-color);\n",
              "    fill: var(--disabled-fill-color);\n",
              "    box-shadow: none;\n",
              "  }\n",
              "\n",
              "  .colab-df-spinner {\n",
              "    border: 2px solid var(--fill-color);\n",
              "    border-color: transparent;\n",
              "    border-bottom-color: var(--fill-color);\n",
              "    animation:\n",
              "      spin 1s steps(1) infinite;\n",
              "  }\n",
              "\n",
              "  @keyframes spin {\n",
              "    0% {\n",
              "      border-color: transparent;\n",
              "      border-bottom-color: var(--fill-color);\n",
              "      border-left-color: var(--fill-color);\n",
              "    }\n",
              "    20% {\n",
              "      border-color: transparent;\n",
              "      border-left-color: var(--fill-color);\n",
              "      border-top-color: var(--fill-color);\n",
              "    }\n",
              "    30% {\n",
              "      border-color: transparent;\n",
              "      border-left-color: var(--fill-color);\n",
              "      border-top-color: var(--fill-color);\n",
              "      border-right-color: var(--fill-color);\n",
              "    }\n",
              "    40% {\n",
              "      border-color: transparent;\n",
              "      border-right-color: var(--fill-color);\n",
              "      border-top-color: var(--fill-color);\n",
              "    }\n",
              "    60% {\n",
              "      border-color: transparent;\n",
              "      border-right-color: var(--fill-color);\n",
              "    }\n",
              "    80% {\n",
              "      border-color: transparent;\n",
              "      border-right-color: var(--fill-color);\n",
              "      border-bottom-color: var(--fill-color);\n",
              "    }\n",
              "    90% {\n",
              "      border-color: transparent;\n",
              "      border-bottom-color: var(--fill-color);\n",
              "    }\n",
              "  }\n",
              "</style>\n",
              "\n",
              "  <script>\n",
              "    async function quickchart(key) {\n",
              "      const quickchartButtonEl =\n",
              "        document.querySelector('#' + key + ' button');\n",
              "      quickchartButtonEl.disabled = true;  // To prevent multiple clicks.\n",
              "      quickchartButtonEl.classList.add('colab-df-spinner');\n",
              "      try {\n",
              "        const charts = await google.colab.kernel.invokeFunction(\n",
              "            'suggestCharts', [key], {});\n",
              "      } catch (error) {\n",
              "        console.error('Error during call to suggestCharts:', error);\n",
              "      }\n",
              "      quickchartButtonEl.classList.remove('colab-df-spinner');\n",
              "      quickchartButtonEl.classList.add('colab-df-quickchart-complete');\n",
              "    }\n",
              "    (() => {\n",
              "      let quickchartButtonEl =\n",
              "        document.querySelector('#df-3f3f5937-f633-49c6-a240-0732fcdd73a2 button');\n",
              "      quickchartButtonEl.style.display =\n",
              "        google.colab.kernel.accessAllowed ? 'block' : 'none';\n",
              "    })();\n",
              "  </script>\n",
              "</div>\n",
              "\n",
              "  <div id=\"id_042398ed-d9ff-462f-a5e1-269164e13a2e\">\n",
              "    <style>\n",
              "      .colab-df-generate {\n",
              "        background-color: #E8F0FE;\n",
              "        border: none;\n",
              "        border-radius: 50%;\n",
              "        cursor: pointer;\n",
              "        display: none;\n",
              "        fill: #1967D2;\n",
              "        height: 32px;\n",
              "        padding: 0 0 0 0;\n",
              "        width: 32px;\n",
              "      }\n",
              "\n",
              "      .colab-df-generate:hover {\n",
              "        background-color: #E2EBFA;\n",
              "        box-shadow: 0px 1px 2px rgba(60, 64, 67, 0.3), 0px 1px 3px 1px rgba(60, 64, 67, 0.15);\n",
              "        fill: #174EA6;\n",
              "      }\n",
              "\n",
              "      [theme=dark] .colab-df-generate {\n",
              "        background-color: #3B4455;\n",
              "        fill: #D2E3FC;\n",
              "      }\n",
              "\n",
              "      [theme=dark] .colab-df-generate:hover {\n",
              "        background-color: #434B5C;\n",
              "        box-shadow: 0px 1px 3px 1px rgba(0, 0, 0, 0.15);\n",
              "        filter: drop-shadow(0px 1px 2px rgba(0, 0, 0, 0.3));\n",
              "        fill: #FFFFFF;\n",
              "      }\n",
              "    </style>\n",
              "    <button class=\"colab-df-generate\" onclick=\"generateWithVariable('df')\"\n",
              "            title=\"Generate code using this dataframe.\"\n",
              "            style=\"display:none;\">\n",
              "\n",
              "  <svg xmlns=\"http://www.w3.org/2000/svg\" height=\"24px\"viewBox=\"0 0 24 24\"\n",
              "       width=\"24px\">\n",
              "    <path d=\"M7,19H8.4L18.45,9,17,7.55,7,17.6ZM5,21V16.75L18.45,3.32a2,2,0,0,1,2.83,0l1.4,1.43a1.91,1.91,0,0,1,.58,1.4,1.91,1.91,0,0,1-.58,1.4L9.25,21ZM18.45,9,17,7.55Zm-12,3A5.31,5.31,0,0,0,4.9,8.1,5.31,5.31,0,0,0,1,6.5,5.31,5.31,0,0,0,4.9,4.9,5.31,5.31,0,0,0,6.5,1,5.31,5.31,0,0,0,8.1,4.9,5.31,5.31,0,0,0,12,6.5,5.46,5.46,0,0,0,6.5,12Z\"/>\n",
              "  </svg>\n",
              "    </button>\n",
              "    <script>\n",
              "      (() => {\n",
              "      const buttonEl =\n",
              "        document.querySelector('#id_042398ed-d9ff-462f-a5e1-269164e13a2e button.colab-df-generate');\n",
              "      buttonEl.style.display =\n",
              "        google.colab.kernel.accessAllowed ? 'block' : 'none';\n",
              "\n",
              "      buttonEl.onclick = () => {\n",
              "        google.colab.notebook.generateWithVariable('df');\n",
              "      }\n",
              "      })();\n",
              "    </script>\n",
              "  </div>\n",
              "\n",
              "    </div>\n",
              "  </div>\n"
            ],
            "text/plain": [
              "                                                 title  \\\n",
              "0    ECC endorses purchase of $582mn capital shares...   \n",
              "1    Netanyahu’s statement to establish Palestinian...   \n",
              "2    India, US agree to resolve trade and tariff ro...   \n",
              "3    Aurangzeb discusses Pakistan’s structural refo...   \n",
              "4    HBL, S&P Global launch Pakistan’s first manufa...   \n",
              "..                                                 ...   \n",
              "448  SBP grants FPT clearance to Zia Ijaz as Askari...   \n",
              "449  India’s Modi brings a tariff ‘gift’ to Trump t...   \n",
              "450  Oil prices decline on optimism over potential ...   \n",
              "451  Google partners with Poland to expand AI adopt...   \n",
              "452  US regulator opens probe into 129,092 Honda ve...   \n",
              "\n",
              "                                                tokens  \\\n",
              "0    [ecc, endorses, purchase, mn, capital, shares,...   \n",
              "1    [netanyahu, statement, establish, palestinian,...   \n",
              "2    [india, us, agree, resolve, trade, tariff, row...   \n",
              "3    [aurangzeb, discusses, pakistan, structural, r...   \n",
              "4    [hbl, p, global, launch, pakistan, first, manu...   \n",
              "..                                                 ...   \n",
              "448  [sbp, grants, fpt, clearance, zia, ijaz, askar...   \n",
              "449  [india, modi, brings, tariff, gift, trump, talks]   \n",
              "450  [oil, prices, decline, optimism, potential, ru...   \n",
              "451  [google, partners, poland, expand, ai, adoptio...   \n",
              "452  [us, regulator, opens, probe, honda, vehicles,...   \n",
              "\n",
              "                                                vector  \n",
              "0    [0.025826892, -0.0181117, 0.0011411912, -0.000...  \n",
              "1    [-0.00908397, -0.0288392, 0.0026446395, -0.005...  \n",
              "2    [-0.0030669407, 0.009051299, 0.026817769, -0.0...  \n",
              "3    [-0.0130836675, -0.033663083, 0.005895166, -0....  \n",
              "4    [-0.0054678866, -0.0356399, 0.014165485, 0.000...  \n",
              "..                                                 ...  \n",
              "448  [-0.00060196756, -0.04227778, -0.008535344, -0...  \n",
              "449  [-0.0068469304, -0.009761572, 0.021141728, -0....  \n",
              "450  [0.05173111, -0.006429289, 0.016058058, 0.0052...  \n",
              "451  [0.030098362, -0.037125237, 0.022560664, 0.011...  \n",
              "452  [0.0031477504, -0.027680788, 0.038726, 0.02771...  \n",
              "\n",
              "[453 rows x 3 columns]"
            ]
          },
          "execution_count": 6,
          "metadata": {},
          "output_type": "execute_result"
        }
      ],
      "source": [
        "df"
      ]
    },
    {
      "cell_type": "code",
      "execution_count": 7,
      "metadata": {
        "colab": {
          "base_uri": "https://localhost:8080/",
          "height": 569
        },
        "id": "h9kDYpYTTJwS",
        "outputId": "a0607353-388e-4912-994e-69956a5f471d"
      },
      "outputs": [
        {
          "name": "stdout",
          "output_type": "stream",
          "text": [
            "k=5 | WSS: 57.4849 | Silhouette Score: 0.0378\n",
            "k=9 | WSS: 54.0525 | Silhouette Score: 0.0347\n",
            "k=13 | WSS: 51.8226 | Silhouette Score: 0.0366\n"
          ]
        },
        {
          "data": {
            "image/png": "[encoded data removed]",
            "text/plain": [
              "<Figure size 800x500 with 2 Axes>"
            ]
          },
          "metadata": {},
          "output_type": "display_data"
        }
      ],
      "source": [
        "import numpy as np\n",
        "import matplotlib.pyplot as plt\n",
        "from sklearn.cluster import KMeans\n",
        "from sklearn.metrics import silhouette_score\n",
        "\n",
        "# Assuming df['vectors'] contains sentence embeddings\n",
        "X = np.vstack(df['vector'].values)\n",
        "\n",
        "# Define cluster sizes to evaluate\n",
        "cluster_sizes = [5, 9, 13]\n",
        "\n",
        "# Store WSS and Silhouette Scores\n",
        "wss = []\n",
        "silhouette_scores = []\n",
        "\n",
        "for k in cluster_sizes:\n",
        "    kmeans = KMeans(n_clusters=k, random_state=24442, n_init=10)\n",
        "    labels = kmeans.fit_predict(X)\n",
        "\n",
        "    # Compute WSS (Inertia)\n",
        "    wss.append(kmeans.inertia_)\n",
        "\n",
        "    # Compute Silhouette Score\n",
        "    silhouette_avg = silhouette_score(X, labels)\n",
        "    silhouette_scores.append(silhouette_avg)\n",
        "\n",
        "    print(f'k={k} | WSS: {kmeans.inertia_:.4f} | Silhouette Score: {silhouette_avg:.4f}')\n",
        "\n",
        "# Plot WSS and Silhouette Score\n",
        "fig, ax1 = plt.subplots(figsize=(8, 5))\n",
        "\n",
        "ax1.set_xlabel('Number of Clusters (k)')\n",
        "ax1.set_ylabel('WSS (Inertia)', color='tab:blue')\n",
        "ax1.plot(cluster_sizes, wss, marker='o', linestyle='-', color='tab:blue', label='WSS')\n",
        "ax1.tick_params(axis='y', labelcolor='tab:blue')\n",
        "\n",
        "ax2 = ax1.twinx()\n",
        "ax2.set_ylabel('Silhouette Score', color='tab:red')\n",
        "ax2.plot(cluster_sizes, silhouette_scores, marker='s', linestyle='--', color='tab:red', label='Silhouette Score')\n",
        "ax2.tick_params(axis='y', labelcolor='tab:red')\n",
        "\n",
        "fig.suptitle('WSS and Silhouette Score for Different k')\n",
        "plt.show()\n"
      ]
    },
    {
      "cell_type": "markdown",
      "metadata": {
        "id": "Q9jgV4HKbx-c"
      },
      "source": [
        "# Training my own models\n"
      ]
    },
    {
      "cell_type": "code",
      "execution_count": 8,
      "metadata": {
        "id": "p5Hx9bJEcA5v"
      },
      "outputs": [],
      "source": [
        "from gensim.models import Word2Vec\n",
        "sentences = df['tokens']\n",
        "# Train CBOW model\n",
        "cbow_model = Word2Vec(sentences, vector_size=100, window=5, min_count=1, sg=0)\n",
        "\n",
        "# Train Skip-gram model\n",
        "skipgram_model = Word2Vec(sentences, vector_size=100, window=5, min_count=1, sg=1)"
      ]
    },
    {
      "cell_type": "markdown",
      "metadata": {
        "id": "trZ0wZ9R4L1l"
      },
      "source": [
        "## Training Word2Vec"
      ]
    },
    {
      "cell_type": "code",
      "execution_count": 9,
      "metadata": {
        "id": "Gt5qiKBscZrf"
      },
      "outputs": [],
      "source": [
        "\n",
        "# Function to get document embeddings (average of word embeddings)\n",
        "def get_doc_embedding(words, model):\n",
        "    vectors = [model.wv[word] for word in words if word in model.wv]\n",
        "    return np.mean(vectors, axis=0) if vectors else np.zeros(model.vector_size)\n",
        "\n",
        "# Getting an array of document embeddings (be averaging the word)\n",
        "doc_vectors = np.array([get_doc_embedding(words, cbow_model) for words in sentences])\n",
        "\n",
        "df['vector'] = list(doc_vectors)\n"
      ]
    },
    {
      "cell_type": "code",
      "execution_count": 10,
      "metadata": {
        "colab": {
          "base_uri": "https://localhost:8080/",
          "height": 569
        },
        "id": "xMSB4eLFd_x1",
        "outputId": "83c7a3f2-8d6b-41bd-b130-b016e3ffc77e"
      },
      "outputs": [
        {
          "name": "stdout",
          "output_type": "stream",
          "text": [
            "k=5 | WSS: 0.1889 | Silhouette Score: 0.0140\n",
            "k=9 | WSS: 0.1833 | Silhouette Score: 0.0130\n",
            "k=13 | WSS: 0.1787 | Silhouette Score: 0.0139\n"
          ]
        },
        {
          "data": {
            "image/png": "[encoded data removed]",
            "text/plain": [
              "<Figure size 800x500 with 2 Axes>"
            ]
          },
          "metadata": {},
          "output_type": "display_data"
        }
      ],
      "source": [
        "import numpy as np\n",
        "import matplotlib.pyplot as plt\n",
        "from sklearn.cluster import KMeans\n",
        "from sklearn.metrics import silhouette_score\n",
        "\n",
        "def cluster_and_evaluate(df, cluster_sizes=[5, 9, 13], random_state=24442):\n",
        "    X = np.vstack(df['vector'].values)\n",
        "\n",
        "    wss = []\n",
        "    silhouette_scores = []\n",
        "\n",
        "    for k in cluster_sizes:\n",
        "        kmeans = KMeans(n_clusters=k, random_state=random_state, n_init=10)\n",
        "        labels = kmeans.fit_predict(X)\n",
        "\n",
        "        wss.append(kmeans.inertia_)\n",
        "        silhouette_avg = silhouette_score(X, labels)\n",
        "        silhouette_scores.append(silhouette_avg)\n",
        "\n",
        "        print(f'k={k} | WSS: {kmeans.inertia_:.4f} | Silhouette Score: {silhouette_avg:.4f}')\n",
        "\n",
        "    # Plot WSS and Silhouette Score\n",
        "    fig, ax1 = plt.subplots(figsize=(8, 5))\n",
        "\n",
        "    ax1.set_xlabel('Number of Clusters (k)')\n",
        "    ax1.set_ylabel('WSS (Inertia)', color='tab:blue')\n",
        "    ax1.plot(cluster_sizes, wss, marker='o', linestyle='-', color='tab:blue', label='WSS')\n",
        "    ax1.tick_params(axis='y', labelcolor='tab:blue')\n",
        "\n",
        "    ax2 = ax1.twinx()\n",
        "    ax2.set_ylabel('Silhouette Score', color='tab:red')\n",
        "    ax2.plot(cluster_sizes, silhouette_scores, marker='s', linestyle='--', color='tab:red', label='Silhouette Score')\n",
        "    ax2.tick_params(axis='y', labelcolor='tab:red')\n",
        "\n",
        "    fig.suptitle('WSS and Silhouette Score for Different k')\n",
        "    plt.show()\n",
        "\n",
        "    return kmeans.labels_\n",
        "\n",
        "df['cluster'] = cluster_and_evaluate(df)\n"
      ]
    },
    {
      "cell_type": "code",
      "execution_count": 11,
      "metadata": {
        "colab": {
          "base_uri": "https://localhost:8080/",
          "height": 424
        },
        "id": "_dTlnYFhjZ6n",
        "outputId": "726c7f55-c9c4-4d2b-ef0e-58f72978466f"
      },
      "outputs": [
        {
          "data": {
            "application/vnd.google.colaboratory.intrinsic+json": {
              "summary": "{\n  \"name\": \"df\",\n  \"rows\": 453,\n  \"fields\": [\n    {\n      \"column\": \"title\",\n      \"properties\": {\n        \"dtype\": \"string\",\n        \"num_unique_values\": 450,\n        \"samples\": [\n          \"Bid to desecrate Holy Quran foiled outside Turkish Consulate in London\",\n          \"Pakistan Petroleum Limited secures 10-year lease extension for Sui Gas Field operations\",\n          \"Sharaa speaks of \\u2018strong strategic ties\\u2019 with Russia in Putin phone call\"\n        ],\n        \"semantic_type\": \"\",\n        \"description\": \"\"\n      }\n    },\n    {\n      \"column\": \"tokens\",\n      \"properties\": {\n        \"dtype\": \"object\",\n        \"semantic_type\": \"\",\n        \"description\": \"\"\n      }\n    },\n    {\n      \"column\": \"vector\",\n      \"properties\": {\n        \"dtype\": \"object\",\n        \"semantic_type\": \"\",\n        \"description\": \"\"\n      }\n    },\n    {\n      \"column\": \"cluster\",\n      \"properties\": {\n        \"dtype\": \"int32\",\n        \"num_unique_values\": 13,\n        \"samples\": [\n          1,\n          10,\n          5\n        ],\n        \"semantic_type\": \"\",\n        \"description\": \"\"\n      }\n    }\n  ]\n}",
              "type": "dataframe",
              "variable_name": "df"
            },
            "text/html": [
              "\n",
              "  <div id=\"df-9111dfdd-fa01-4daa-99c3-dce87b40baa7\" class=\"colab-df-container\">\n",
              "    <div>\n",
              "<style scoped>\n",
              "    .dataframe tbody tr th:only-of-type {\n",
              "        vertical-align: middle;\n",
              "    }\n",
              "\n",
              "    .dataframe tbody tr th {\n",
              "        vertical-align: top;\n",
              "    }\n",
              "\n",
              "    .dataframe thead th {\n",
              "        text-align: right;\n",
              "    }\n",
              "</style>\n",
              "<table border=\"1\" class=\"dataframe\">\n",
              "  <thead>\n",
              "    <tr style=\"text-align: right;\">\n",
              "      <th></th>\n",
              "      <th>title</th>\n",
              "      <th>tokens</th>\n",
              "      <th>vector</th>\n",
              "      <th>cluster</th>\n",
              "    </tr>\n",
              "  </thead>\n",
              "  <tbody>\n",
              "    <tr>\n",
              "      <th>0</th>\n",
              "      <td>ECC endorses purchase of $582mn capital shares...</td>\n",
              "      <td>[ecc, endorses, purchase, mn, capital, shares,...</td>\n",
              "      <td>[0.0032670654, -0.0006865518, -0.0013878802, 0...</td>\n",
              "      <td>5</td>\n",
              "    </tr>\n",
              "    <tr>\n",
              "      <th>1</th>\n",
              "      <td>Netanyahu’s statement to establish Palestinian...</td>\n",
              "      <td>[netanyahu, statement, establish, palestinian,...</td>\n",
              "      <td>[-0.0018275362, 0.0013291017, -0.0004009498, -...</td>\n",
              "      <td>4</td>\n",
              "    </tr>\n",
              "    <tr>\n",
              "      <th>2</th>\n",
              "      <td>India, US agree to resolve trade and tariff ro...</td>\n",
              "      <td>[india, us, agree, resolve, trade, tariff, row...</td>\n",
              "      <td>[-0.00028940284, 0.00033763045, -0.0018390116,...</td>\n",
              "      <td>2</td>\n",
              "    </tr>\n",
              "    <tr>\n",
              "      <th>3</th>\n",
              "      <td>Aurangzeb discusses Pakistan’s structural refo...</td>\n",
              "      <td>[aurangzeb, discusses, pakistan, structural, r...</td>\n",
              "      <td>[-0.0010896206, 0.0007711802, 0.004992255, 0.0...</td>\n",
              "      <td>9</td>\n",
              "    </tr>\n",
              "    <tr>\n",
              "      <th>4</th>\n",
              "      <td>HBL, S&amp;P Global launch Pakistan’s first manufa...</td>\n",
              "      <td>[hbl, p, global, launch, pakistan, first, manu...</td>\n",
              "      <td>[0.00058653613, 0.0003386506, -0.0020225907, 9...</td>\n",
              "      <td>9</td>\n",
              "    </tr>\n",
              "    <tr>\n",
              "      <th>...</th>\n",
              "      <td>...</td>\n",
              "      <td>...</td>\n",
              "      <td>...</td>\n",
              "      <td>...</td>\n",
              "    </tr>\n",
              "    <tr>\n",
              "      <th>448</th>\n",
              "      <td>SBP grants FPT clearance to Zia Ijaz as Askari...</td>\n",
              "      <td>[sbp, grants, fpt, clearance, zia, ijaz, askar...</td>\n",
              "      <td>[0.0025082561, -0.0032760655, 0.00027834094, 0...</td>\n",
              "      <td>7</td>\n",
              "    </tr>\n",
              "    <tr>\n",
              "      <th>449</th>\n",
              "      <td>India’s Modi brings a tariff ‘gift’ to Trump t...</td>\n",
              "      <td>[india, modi, brings, tariff, gift, trump, talks]</td>\n",
              "      <td>[-0.00084208685, -0.0006314997, -0.0012894071,...</td>\n",
              "      <td>11</td>\n",
              "    </tr>\n",
              "    <tr>\n",
              "      <th>450</th>\n",
              "      <td>Oil prices decline on optimism over potential ...</td>\n",
              "      <td>[oil, prices, decline, optimism, potential, ru...</td>\n",
              "      <td>[-0.0008124849, -0.0010768638, -0.00018153386,...</td>\n",
              "      <td>3</td>\n",
              "    </tr>\n",
              "    <tr>\n",
              "      <th>451</th>\n",
              "      <td>Google partners with Poland to expand AI adopt...</td>\n",
              "      <td>[google, partners, poland, expand, ai, adoptio...</td>\n",
              "      <td>[0.003230177, -0.00018593256, -0.0035100966, 0...</td>\n",
              "      <td>5</td>\n",
              "    </tr>\n",
              "    <tr>\n",
              "      <th>452</th>\n",
              "      <td>US regulator opens probe into 129,092 Honda ve...</td>\n",
              "      <td>[us, regulator, opens, probe, honda, vehicles,...</td>\n",
              "      <td>[-0.0026485482, 0.0015422256, 0.00024666544, -...</td>\n",
              "      <td>8</td>\n",
              "    </tr>\n",
              "  </tbody>\n",
              "</table>\n",
              "<p>453 rows × 4 columns</p>\n",
              "</div>\n",
              "    <div class=\"colab-df-buttons\">\n",
              "\n",
              "  <div class=\"colab-df-container\">\n",
              "    <button class=\"colab-df-convert\" onclick=\"convertToInteractive('df-9111dfdd-fa01-4daa-99c3-dce87b40baa7')\"\n",
              "            title=\"Convert this dataframe to an interactive table.\"\n",
              "            style=\"display:none;\">\n",
              "\n",
              "  <svg xmlns=\"http://www.w3.org/2000/svg\" height=\"24px\" viewBox=\"0 -960 960 960\">\n",
              "    <path d=\"M120-120v-720h720v720H120Zm60-500h600v-160H180v160Zm220 220h160v-160H400v160Zm0 220h160v-160H400v160ZM180-400h160v-160H180v160Zm440 0h160v-160H620v160ZM180-180h160v-160H180v160Zm440 0h160v-160H620v160Z\"/>\n",
              "  </svg>\n",
              "    </button>\n",
              "\n",
              "  <style>\n",
              "    .colab-df-container {\n",
              "      display:flex;\n",
              "      gap: 12px;\n",
              "    }\n",
              "\n",
              "    .colab-df-convert {\n",
              "      background-color: #E8F0FE;\n",
              "      border: none;\n",
              "      border-radius: 50%;\n",
              "      cursor: pointer;\n",
              "      display: none;\n",
              "      fill: #1967D2;\n",
              "      height: 32px;\n",
              "      padding: 0 0 0 0;\n",
              "      width: 32px;\n",
              "    }\n",
              "\n",
              "    .colab-df-convert:hover {\n",
              "      background-color: #E2EBFA;\n",
              "      box-shadow: 0px 1px 2px rgba(60, 64, 67, 0.3), 0px 1px 3px 1px rgba(60, 64, 67, 0.15);\n",
              "      fill: #174EA6;\n",
              "    }\n",
              "\n",
              "    .colab-df-buttons div {\n",
              "      margin-bottom: 4px;\n",
              "    }\n",
              "\n",
              "    [theme=dark] .colab-df-convert {\n",
              "      background-color: #3B4455;\n",
              "      fill: #D2E3FC;\n",
              "    }\n",
              "\n",
              "    [theme=dark] .colab-df-convert:hover {\n",
              "      background-color: #434B5C;\n",
              "      box-shadow: 0px 1px 3px 1px rgba(0, 0, 0, 0.15);\n",
              "      filter: drop-shadow(0px 1px 2px rgba(0, 0, 0, 0.3));\n",
              "      fill: #FFFFFF;\n",
              "    }\n",
              "  </style>\n",
              "\n",
              "    <script>\n",
              "      const buttonEl =\n",
              "        document.querySelector('#df-9111dfdd-fa01-4daa-99c3-dce87b40baa7 button.colab-df-convert');\n",
              "      buttonEl.style.display =\n",
              "        google.colab.kernel.accessAllowed ? 'block' : 'none';\n",
              "\n",
              "      async function convertToInteractive(key) {\n",
              "        const element = document.querySelector('#df-9111dfdd-fa01-4daa-99c3-dce87b40baa7');\n",
              "        const dataTable =\n",
              "          await google.colab.kernel.invokeFunction('convertToInteractive',\n",
              "                                                    [key], {});\n",
              "        if (!dataTable) return;\n",
              "\n",
              "        const docLinkHtml = 'Like what you see? Visit the ' +\n",
              "          '<a target=\"_blank\" href=https://colab.research.google.com/notebooks/data_table.ipynb>data table notebook</a>'\n",
              "          + ' to learn more about interactive tables.';\n",
              "        element.innerHTML = '';\n",
              "        dataTable['output_type'] = 'display_data';\n",
              "        await google.colab.output.renderOutput(dataTable, element);\n",
              "        const docLink = document.createElement('div');\n",
              "        docLink.innerHTML = docLinkHtml;\n",
              "        element.appendChild(docLink);\n",
              "      }\n",
              "    </script>\n",
              "  </div>\n",
              "\n",
              "\n",
              "<div id=\"df-9f0c3f04-9480-4f7d-9cfe-ccb7e6f81160\">\n",
              "  <button class=\"colab-df-quickchart\" onclick=\"quickchart('df-9f0c3f04-9480-4f7d-9cfe-ccb7e6f81160')\"\n",
              "            title=\"Suggest charts\"\n",
              "            style=\"display:none;\">\n",
              "\n",
              "<svg xmlns=\"http://www.w3.org/2000/svg\" height=\"24px\"viewBox=\"0 0 24 24\"\n",
              "     width=\"24px\">\n",
              "    <g>\n",
              "        <path d=\"M19 3H5c-1.1 0-2 .9-2 2v14c0 1.1.9 2 2 2h14c1.1 0 2-.9 2-2V5c0-1.1-.9-2-2-2zM9 17H7v-7h2v7zm4 0h-2V7h2v10zm4 0h-2v-4h2v4z\"/>\n",
              "    </g>\n",
              "</svg>\n",
              "  </button>\n",
              "\n",
              "<style>\n",
              "  .colab-df-quickchart {\n",
              "      --bg-color: #E8F0FE;\n",
              "      --fill-color: #1967D2;\n",
              "      --hover-bg-color: #E2EBFA;\n",
              "      --hover-fill-color: #174EA6;\n",
              "      --disabled-fill-color: #AAA;\n",
              "      --disabled-bg-color: #DDD;\n",
              "  }\n",
              "\n",
              "  [theme=dark] .colab-df-quickchart {\n",
              "      --bg-color: #3B4455;\n",
              "      --fill-color: #D2E3FC;\n",
              "      --hover-bg-color: #434B5C;\n",
              "      --hover-fill-color: #FFFFFF;\n",
              "      --disabled-bg-color: #3B4455;\n",
              "      --disabled-fill-color: #666;\n",
              "  }\n",
              "\n",
              "  .colab-df-quickchart {\n",
              "    background-color: var(--bg-color);\n",
              "    border: none;\n",
              "    border-radius: 50%;\n",
              "    cursor: pointer;\n",
              "    display: none;\n",
              "    fill: var(--fill-color);\n",
              "    height: 32px;\n",
              "    padding: 0;\n",
              "    width: 32px;\n",
              "  }\n",
              "\n",
              "  .colab-df-quickchart:hover {\n",
              "    background-color: var(--hover-bg-color);\n",
              "    box-shadow: 0 1px 2px rgba(60, 64, 67, 0.3), 0 1px 3px 1px rgba(60, 64, 67, 0.15);\n",
              "    fill: var(--button-hover-fill-color);\n",
              "  }\n",
              "\n",
              "  .colab-df-quickchart-complete:disabled,\n",
              "  .colab-df-quickchart-complete:disabled:hover {\n",
              "    background-color: var(--disabled-bg-color);\n",
              "    fill: var(--disabled-fill-color);\n",
              "    box-shadow: none;\n",
              "  }\n",
              "\n",
              "  .colab-df-spinner {\n",
              "    border: 2px solid var(--fill-color);\n",
              "    border-color: transparent;\n",
              "    border-bottom-color: var(--fill-color);\n",
              "    animation:\n",
              "      spin 1s steps(1) infinite;\n",
              "  }\n",
              "\n",
              "  @keyframes spin {\n",
              "    0% {\n",
              "      border-color: transparent;\n",
              "      border-bottom-color: var(--fill-color);\n",
              "      border-left-color: var(--fill-color);\n",
              "    }\n",
              "    20% {\n",
              "      border-color: transparent;\n",
              "      border-left-color: var(--fill-color);\n",
              "      border-top-color: var(--fill-color);\n",
              "    }\n",
              "    30% {\n",
              "      border-color: transparent;\n",
              "      border-left-color: var(--fill-color);\n",
              "      border-top-color: var(--fill-color);\n",
              "      border-right-color: var(--fill-color);\n",
              "    }\n",
              "    40% {\n",
              "      border-color: transparent;\n",
              "      border-right-color: var(--fill-color);\n",
              "      border-top-color: var(--fill-color);\n",
              "    }\n",
              "    60% {\n",
              "      border-color: transparent;\n",
              "      border-right-color: var(--fill-color);\n",
              "    }\n",
              "    80% {\n",
              "      border-color: transparent;\n",
              "      border-right-color: var(--fill-color);\n",
              "      border-bottom-color: var(--fill-color);\n",
              "    }\n",
              "    90% {\n",
              "      border-color: transparent;\n",
              "      border-bottom-color: var(--fill-color);\n",
              "    }\n",
              "  }\n",
              "</style>\n",
              "\n",
              "  <script>\n",
              "    async function quickchart(key) {\n",
              "      const quickchartButtonEl =\n",
              "        document.querySelector('#' + key + ' button');\n",
              "      quickchartButtonEl.disabled = true;  // To prevent multiple clicks.\n",
              "      quickchartButtonEl.classList.add('colab-df-spinner');\n",
              "      try {\n",
              "        const charts = await google.colab.kernel.invokeFunction(\n",
              "            'suggestCharts', [key], {});\n",
              "      } catch (error) {\n",
              "        console.error('Error during call to suggestCharts:', error);\n",
              "      }\n",
              "      quickchartButtonEl.classList.remove('colab-df-spinner');\n",
              "      quickchartButtonEl.classList.add('colab-df-quickchart-complete');\n",
              "    }\n",
              "    (() => {\n",
              "      let quickchartButtonEl =\n",
              "        document.querySelector('#df-9f0c3f04-9480-4f7d-9cfe-ccb7e6f81160 button');\n",
              "      quickchartButtonEl.style.display =\n",
              "        google.colab.kernel.accessAllowed ? 'block' : 'none';\n",
              "    })();\n",
              "  </script>\n",
              "</div>\n",
              "\n",
              "  <div id=\"id_bc685b78-3967-4e00-8c45-4ae01defa2e2\">\n",
              "    <style>\n",
              "      .colab-df-generate {\n",
              "        background-color: #E8F0FE;\n",
              "        border: none;\n",
              "        border-radius: 50%;\n",
              "        cursor: pointer;\n",
              "        display: none;\n",
              "        fill: #1967D2;\n",
              "        height: 32px;\n",
              "        padding: 0 0 0 0;\n",
              "        width: 32px;\n",
              "      }\n",
              "\n",
              "      .colab-df-generate:hover {\n",
              "        background-color: #E2EBFA;\n",
              "        box-shadow: 0px 1px 2px rgba(60, 64, 67, 0.3), 0px 1px 3px 1px rgba(60, 64, 67, 0.15);\n",
              "        fill: #174EA6;\n",
              "      }\n",
              "\n",
              "      [theme=dark] .colab-df-generate {\n",
              "        background-color: #3B4455;\n",
              "        fill: #D2E3FC;\n",
              "      }\n",
              "\n",
              "      [theme=dark] .colab-df-generate:hover {\n",
              "        background-color: #434B5C;\n",
              "        box-shadow: 0px 1px 3px 1px rgba(0, 0, 0, 0.15);\n",
              "        filter: drop-shadow(0px 1px 2px rgba(0, 0, 0, 0.3));\n",
              "        fill: #FFFFFF;\n",
              "      }\n",
              "    </style>\n",
              "    <button class=\"colab-df-generate\" onclick=\"generateWithVariable('df')\"\n",
              "            title=\"Generate code using this dataframe.\"\n",
              "            style=\"display:none;\">\n",
              "\n",
              "  <svg xmlns=\"http://www.w3.org/2000/svg\" height=\"24px\"viewBox=\"0 0 24 24\"\n",
              "       width=\"24px\">\n",
              "    <path d=\"M7,19H8.4L18.45,9,17,7.55,7,17.6ZM5,21V16.75L18.45,3.32a2,2,0,0,1,2.83,0l1.4,1.43a1.91,1.91,0,0,1,.58,1.4,1.91,1.91,0,0,1-.58,1.4L9.25,21ZM18.45,9,17,7.55Zm-12,3A5.31,5.31,0,0,0,4.9,8.1,5.31,5.31,0,0,0,1,6.5,5.31,5.31,0,0,0,4.9,4.9,5.31,5.31,0,0,0,6.5,1,5.31,5.31,0,0,0,8.1,4.9,5.31,5.31,0,0,0,12,6.5,5.46,5.46,0,0,0,6.5,12Z\"/>\n",
              "  </svg>\n",
              "    </button>\n",
              "    <script>\n",
              "      (() => {\n",
              "      const buttonEl =\n",
              "        document.querySelector('#id_bc685b78-3967-4e00-8c45-4ae01defa2e2 button.colab-df-generate');\n",
              "      buttonEl.style.display =\n",
              "        google.colab.kernel.accessAllowed ? 'block' : 'none';\n",
              "\n",
              "      buttonEl.onclick = () => {\n",
              "        google.colab.notebook.generateWithVariable('df');\n",
              "      }\n",
              "      })();\n",
              "    </script>\n",
              "  </div>\n",
              "\n",
              "    </div>\n",
              "  </div>\n"
            ],
            "text/plain": [
              "                                                 title  \\\n",
              "0    ECC endorses purchase of $582mn capital shares...   \n",
              "1    Netanyahu’s statement to establish Palestinian...   \n",
              "2    India, US agree to resolve trade and tariff ro...   \n",
              "3    Aurangzeb discusses Pakistan’s structural refo...   \n",
              "4    HBL, S&P Global launch Pakistan’s first manufa...   \n",
              "..                                                 ...   \n",
              "448  SBP grants FPT clearance to Zia Ijaz as Askari...   \n",
              "449  India’s Modi brings a tariff ‘gift’ to Trump t...   \n",
              "450  Oil prices decline on optimism over potential ...   \n",
              "451  Google partners with Poland to expand AI adopt...   \n",
              "452  US regulator opens probe into 129,092 Honda ve...   \n",
              "\n",
              "                                                tokens  \\\n",
              "0    [ecc, endorses, purchase, mn, capital, shares,...   \n",
              "1    [netanyahu, statement, establish, palestinian,...   \n",
              "2    [india, us, agree, resolve, trade, tariff, row...   \n",
              "3    [aurangzeb, discusses, pakistan, structural, r...   \n",
              "4    [hbl, p, global, launch, pakistan, first, manu...   \n",
              "..                                                 ...   \n",
              "448  [sbp, grants, fpt, clearance, zia, ijaz, askar...   \n",
              "449  [india, modi, brings, tariff, gift, trump, talks]   \n",
              "450  [oil, prices, decline, optimism, potential, ru...   \n",
              "451  [google, partners, poland, expand, ai, adoptio...   \n",
              "452  [us, regulator, opens, probe, honda, vehicles,...   \n",
              "\n",
              "                                                vector  cluster  \n",
              "0    [0.0032670654, -0.0006865518, -0.0013878802, 0...        5  \n",
              "1    [-0.0018275362, 0.0013291017, -0.0004009498, -...        4  \n",
              "2    [-0.00028940284, 0.00033763045, -0.0018390116,...        2  \n",
              "3    [-0.0010896206, 0.0007711802, 0.004992255, 0.0...        9  \n",
              "4    [0.00058653613, 0.0003386506, -0.0020225907, 9...        9  \n",
              "..                                                 ...      ...  \n",
              "448  [0.0025082561, -0.0032760655, 0.00027834094, 0...        7  \n",
              "449  [-0.00084208685, -0.0006314997, -0.0012894071,...       11  \n",
              "450  [-0.0008124849, -0.0010768638, -0.00018153386,...        3  \n",
              "451  [0.003230177, -0.00018593256, -0.0035100966, 0...        5  \n",
              "452  [-0.0026485482, 0.0015422256, 0.00024666544, -...        8  \n",
              "\n",
              "[453 rows x 4 columns]"
            ]
          },
          "execution_count": 11,
          "metadata": {},
          "output_type": "execute_result"
        }
      ],
      "source": [
        "df"
      ]
    },
    {
      "cell_type": "markdown",
      "metadata": {
        "id": "czrcDSfdznFH"
      },
      "source": [
        "## Training Doc to Vec (DM and DBoW)"
      ]
    },
    {
      "cell_type": "code",
      "execution_count": 5,
      "metadata": {
        "id": "JComICIT3h_k"
      },
      "outputs": [],
      "source": [
        "df = get_tokenized_df()"
      ]
    },
    {
      "cell_type": "code",
      "execution_count": 7,
      "metadata": {
        "colab": {
          "base_uri": "https://localhost:8080/"
        },
        "id": "T72G-DGe5auV",
        "outputId": "71064b75-5c7c-4482-9f82-225bbb66b906"
      },
      "outputs": [
        {
          "name": "stdout",
          "output_type": "stream",
          "text": [
            "Silhouette Score: 0.5158\n",
            "WSS Score: 7.5418\n"
          ]
        }
      ],
      "source": [
        "import numpy as np\n",
        "import pandas as pd\n",
        "import matplotlib.pyplot as plt\n",
        "from gensim.models.doc2vec import Doc2Vec, TaggedDocument\n",
        "from sklearn.cluster import KMeans\n",
        "from sklearn.metrics import silhouette_score\n",
        "\n",
        "# Assuming your DataFrame has columns 'title' and 'tokens'\n",
        "# where 'tokens' contains lists of tokenized words for each document\n",
        "\n",
        "# 1. Prepare the TaggedDocument objects\n",
        "tagged_data = [TaggedDocument(words=tokens, tags=[title])\n",
        "               for title, tokens in zip(df['title'], df['tokens'])]\n",
        "\n",
        "# 2. Train the Doc2Vec model\n",
        "# Choose parameters based on your data size and characteristics\n",
        "vector_size = 200\n",
        "window = 6\n",
        "min_count = 2  # Ignore words with frequency below this\n",
        "epochs = 40    # More epochs can improve quality\n",
        "\n",
        "# Doc2Vec parameters:\n",
        "# dm=1: Use PV-DM (distributed memory) - usually better quality\n",
        "# dm=0: Use PV-DBOW (distributed bag of words) - usually faster\n",
        "model = Doc2Vec(tagged_data, vector_size=vector_size, window=window,\n",
        "                min_count=min_count, workers=4, epochs=epochs, dm=1)\n",
        "\n",
        "# 3. Infer vectors for all documents\n",
        "document_vectors = np.array([model.infer_vector(doc.words) for doc in tagged_data])\n",
        "\n",
        "# 4. Clustering with K-means\n",
        "n_clusters = 5  # Adjust based on your data\n",
        "kmeans = KMeans(n_clusters=n_clusters, random_state=24442, n_init=10)\n",
        "clusters = kmeans.fit_predict(document_vectors)\n",
        "\n",
        "# 5. Evaluate clustering\n",
        "silhouette_avg = silhouette_score(document_vectors, clusters)\n",
        "print(f\"Silhouette Score: {silhouette_avg:.4f}\")\n",
        "\n",
        "# 6. Add clusters back to original dataframe\n",
        "df['cluster'] = clusters\n",
        "\n",
        "wss = kmeans.inertia_\n",
        "print(f\"WSS Score: {wss:.4f}\")"
      ]
    },
    {
      "cell_type": "markdown",
      "metadata": {
        "id": "VJIGVbb54ARg"
      },
      "source": [
        "## Using Grid Search on all params"
      ]
    },
    {
      "cell_type": "code",
      "execution_count": 8,
      "metadata": {
        "id": "c32zDPX69hTj"
      },
      "outputs": [],
      "source": [
        "df = get_tokenized_df()"
      ]
    },
    {
      "cell_type": "code",
      "execution_count": 9,
      "metadata": {
        "id": "7tTu-wB39TJe"
      },
      "outputs": [],
      "source": [
        "import numpy as np\n",
        "import pandas as pd\n",
        "import itertools\n",
        "import matplotlib.pyplot as plt\n",
        "from gensim.models import Word2Vec, Doc2Vec\n",
        "from gensim.models.doc2vec import TaggedDocument\n",
        "from sklearn.cluster import KMeans\n",
        "from sklearn.metrics import silhouette_score\n",
        "from tqdm import tqdm  # for progress bar\n",
        "\n",
        "def run_embedding_grid_search(df):\n",
        "    \"\"\"\n",
        "    Run grid search for document embedding methods and clustering parameters.\n",
        "\n",
        "    Args:\n",
        "        df: DataFrame with 'title' and 'tokens' columns where tokens is a list of strings\n",
        "\n",
        "    Returns:\n",
        "        DataFrame with results for each parameter combination\n",
        "    \"\"\"\n",
        "    # Define hyperparameter grid\n",
        "    param_grid = {\n",
        "        \"vector_size\": [100, 200, 300],\n",
        "        \"window\": [5, 8, 10],\n",
        "        \"epochs\": [20, 40],\n",
        "        \"model_type\": [\"word2vec_cbow\", \"word2vec_skipgram\", \"doc2vec_dm\", \"doc2vec_dbow\"],\n",
        "        \"cluster_size\": [5, 9, 13]\n",
        "    }\n",
        "\n",
        "    # Prepare results list\n",
        "    results = []\n",
        "\n",
        "    # Generate all parameter combinations\n",
        "    param_combinations = list(itertools.product(\n",
        "        param_grid[\"vector_size\"],\n",
        "        param_grid[\"window\"],\n",
        "        param_grid[\"epochs\"],\n",
        "        param_grid[\"model_type\"],\n",
        "        param_grid[\"cluster_size\"]\n",
        "    ))\n",
        "\n",
        "    # Train embeddings and evaluate clustering\n",
        "    for vector_size, window, epochs, model_type, k in tqdm(param_combinations):\n",
        "        print(f\"Training {model_type} | vec_size={vector_size} | window={window} | epochs={epochs} | k={k}\")\n",
        "        sg, dm = None, None\n",
        "\n",
        "        # Train Word2Vec\n",
        "        if model_type in [\"word2vec_cbow\", \"word2vec_skipgram\"]:\n",
        "            sg = 1 if model_type == \"word2vec_skipgram\" else 0\n",
        "            model = Word2Vec(df[\"tokens\"], vector_size=vector_size, window=window,\n",
        "                            min_count=1, sg=sg, epochs=epochs, workers=4)\n",
        "\n",
        "            # Get document embeddings by averaging word vectors\n",
        "            document_vectors = []\n",
        "            for tokens in df[\"tokens\"]:\n",
        "                # Get vectors for words that exist in the vocabulary\n",
        "                word_vectors = [model.wv[word] for word in tokens if word in model.wv]\n",
        "                # If no words in vocabulary, use zero vector\n",
        "                if len(word_vectors) == 0:\n",
        "                    document_vectors.append(np.zeros(vector_size))\n",
        "                else:\n",
        "                    # Take mean of word vectors\n",
        "                    doc_vector = np.mean(word_vectors, axis=0)\n",
        "                    document_vectors.append(doc_vector)\n",
        "\n",
        "            X = np.array(document_vectors)\n",
        "\n",
        "        # Train Doc2Vec\n",
        "        else:\n",
        "            dm = 1 if model_type == \"doc2vec_dm\" else 0\n",
        "            # Create TaggedDocument objects\n",
        "            tagged_data = [TaggedDocument(words=tokens, tags=[str(i)])\n",
        "                           for i, tokens in enumerate(df[\"tokens\"])]\n",
        "\n",
        "            model = Doc2Vec(tagged_data, vector_size=vector_size, window=window,\n",
        "                           min_count=1, dm=dm, epochs=epochs, workers=4)\n",
        "\n",
        "            # Get document vectors directly from the model\n",
        "            document_vectors = []\n",
        "            for i in range(len(df)):\n",
        "                document_vectors.append(model.dv[str(i)])\n",
        "\n",
        "            X = np.array(document_vectors)\n",
        "\n",
        "        # Normalize vectors (optional but can improve clustering)\n",
        "        norms = np.linalg.norm(X, axis=1, keepdims=True)\n",
        "        # Avoid division by zero\n",
        "        norms[norms == 0] = 1\n",
        "        X = X / norms\n",
        "\n",
        "        # Apply K-Means\n",
        "        kmeans = KMeans(n_clusters=k, random_state=42, n_init=10)\n",
        "        labels = kmeans.fit_predict(X)\n",
        "\n",
        "        # Compute WSS and Silhouette Score\n",
        "        wss = kmeans.inertia_\n",
        "        silhouette = silhouette_score(X, labels)\n",
        "\n",
        "        # Store results\n",
        "        results.append({\n",
        "            \"Vectorizer Type\": model_type,\n",
        "            \"vector_size\": vector_size,\n",
        "            \"window\": window,\n",
        "            \"Epochs Count\": epochs,\n",
        "            \"CBoW/Skipgram OR DM/DBoW\": \"Skip-gram\" if sg == 1 else\n",
        "                                       \"CBOW\" if sg == 0 else\n",
        "                                       \"DM\" if dm == 1 else \"DBoW\",\n",
        "            \"Silhouette Score\": silhouette,\n",
        "            \"WSS Score\": wss,\n",
        "            \"Cluster Size\": k\n",
        "        })\n",
        "        print(results[-1])\n",
        "\n",
        "    # Convert results to DataFrame\n",
        "    results_df = pd.DataFrame(results)\n",
        "    return results_df\n",
        "\n",
        "def visualize_results(results_df):\n",
        "    \"\"\"Generate visualizations from the grid search results\"\"\"\n",
        "\n",
        "    # Aggregate by model type and cluster size\n",
        "    model_cluster_df = results_df.groupby(['Vectorizer Type', 'Cluster Size'])['Silhouette Score'].mean().reset_index()\n",
        "\n",
        "    # Plot silhouette scores by model type and cluster size\n",
        "    plt.figure(figsize=(12, 6))\n",
        "    for model in results_df['Vectorizer Type'].unique():\n",
        "        model_data = model_cluster_df[model_cluster_df['Vectorizer Type'] == model]\n",
        "        plt.plot(model_data['Cluster Size'], model_data['Silhouette Score'], 'o-', label=model)\n",
        "\n",
        "    plt.xlabel('Number of Clusters')\n",
        "    plt.ylabel('Average Silhouette Score')\n",
        "    plt.title('Silhouette Score by Model Type and Cluster Size')\n",
        "    plt.legend()\n",
        "    plt.grid(True, alpha=0.3)\n",
        "    plt.show()\n",
        "\n",
        "    # Plot the top 10 configurations\n",
        "    top_configs = results_df.sort_values('Silhouette Score', ascending=False).head(10)\n",
        "    plt.figure(figsize=(12, 6))\n",
        "    plt.bar(\n",
        "        [f\"{row['Vectorizer Type']}\\nvs={row['vector_size']}, w={row['window']}, k={row['Cluster Size']}\"\n",
        "         for _, row in top_configs.iterrows()],\n",
        "        top_configs['Silhouette Score']\n",
        "    )\n",
        "    plt.xticks(rotation=45, ha='right')\n",
        "    plt.title('Top 10 Configurations by Silhouette Score')\n",
        "    plt.ylabel('Silhouette Score')\n",
        "    plt.tight_layout()\n",
        "    plt.show()\n",
        "\n",
        "    return top_configs\n"
      ]
    },
    {
      "cell_type": "code",
      "execution_count": 20,
      "metadata": {
        "colab": {
          "base_uri": "https://localhost:8080/",
          "height": 1000
        },
        "id": "4GzhpLeW9lT7",
        "outputId": "250718c9-1d3f-4f97-f92c-425d6eb2050f"
      },
      "outputs": [
        {
          "name": "stderr",
          "output_type": "stream",
          "text": [
            "\r  0%|          | 0/216 [00:00<?, ?it/s]"
          ]
        },
        {
          "name": "stdout",
          "output_type": "stream",
          "text": [
            "Training word2vec_cbow | vec_size=100 | window=5 | epochs=20 | k=5\n"
          ]
        },
        {
          "name": "stderr",
          "output_type": "stream",
          "text": [
            "\r  0%|          | 1/216 [00:00<01:02,  3.45it/s]"
          ]
        },
        {
          "name": "stdout",
          "output_type": "stream",
          "text": [
            "{'Vectorizer Type': 'word2vec_cbow', 'vector_size': 100, 'window': 5, 'Epochs Count': 20, 'CBoW/Skipgram OR DM/DBoW': 'CBOW', 'Silhouette Score': -0.00825735, 'WSS Score': 293.06640625, 'Cluster Size': 5}\n",
            "Training word2vec_cbow | vec_size=100 | window=5 | epochs=20 | k=9\n"
          ]
        },
        {
          "name": "stderr",
          "output_type": "stream",
          "text": [
            "\r  1%|          | 2/216 [00:00<01:09,  3.09it/s]"
          ]
        },
        {
          "name": "stdout",
          "output_type": "stream",
          "text": [
            "{'Vectorizer Type': 'word2vec_cbow', 'vector_size': 100, 'window': 5, 'Epochs Count': 20, 'CBoW/Skipgram OR DM/DBoW': 'CBOW', 'Silhouette Score': -0.0035770165, 'WSS Score': 283.8517761230469, 'Cluster Size': 9}\n",
            "Training word2vec_cbow | vec_size=100 | window=5 | epochs=20 | k=13\n"
          ]
        },
        {
          "name": "stderr",
          "output_type": "stream",
          "text": [
            "\r  1%|▏         | 3/216 [00:01<01:14,  2.84it/s]"
          ]
        },
        {
          "name": "stdout",
          "output_type": "stream",
          "text": [
            "{'Vectorizer Type': 'word2vec_cbow', 'vector_size': 100, 'window': 5, 'Epochs Count': 20, 'CBoW/Skipgram OR DM/DBoW': 'CBOW', 'Silhouette Score': -0.0013161096, 'WSS Score': 276.8826904296875, 'Cluster Size': 13}\n",
            "Training word2vec_skipgram | vec_size=100 | window=5 | epochs=20 | k=5\n"
          ]
        },
        {
          "name": "stderr",
          "output_type": "stream",
          "text": [
            "\r  2%|▏         | 4/216 [00:01<01:31,  2.33it/s]"
          ]
        },
        {
          "name": "stdout",
          "output_type": "stream",
          "text": [
            "{'Vectorizer Type': 'word2vec_skipgram', 'vector_size': 100, 'window': 5, 'Epochs Count': 20, 'CBoW/Skipgram OR DM/DBoW': 'Skip-gram', 'Silhouette Score': 0.033407785, 'WSS Score': 6.611342430114746, 'Cluster Size': 5}\n",
            "Training word2vec_skipgram | vec_size=100 | window=5 | epochs=20 | k=9\n"
          ]
        },
        {
          "name": "stderr",
          "output_type": "stream",
          "text": [
            "\r  2%|▏         | 5/216 [00:02<01:41,  2.07it/s]"
          ]
        },
        {
          "name": "stdout",
          "output_type": "stream",
          "text": [
            "{'Vectorizer Type': 'word2vec_skipgram', 'vector_size': 100, 'window': 5, 'Epochs Count': 20, 'CBoW/Skipgram OR DM/DBoW': 'Skip-gram', 'Silhouette Score': 0.043901425, 'WSS Score': 6.357903003692627, 'Cluster Size': 9}\n",
            "Training word2vec_skipgram | vec_size=100 | window=5 | epochs=20 | k=13\n"
          ]
        },
        {
          "name": "stderr",
          "output_type": "stream",
          "text": [
            "\r  3%|▎         | 6/216 [00:02<01:48,  1.93it/s]"
          ]
        },
        {
          "name": "stdout",
          "output_type": "stream",
          "text": [
            "{'Vectorizer Type': 'word2vec_skipgram', 'vector_size': 100, 'window': 5, 'Epochs Count': 20, 'CBoW/Skipgram OR DM/DBoW': 'Skip-gram', 'Silhouette Score': 0.0069259997, 'WSS Score': 5.969820499420166, 'Cluster Size': 13}\n",
            "Training doc2vec_dm | vec_size=100 | window=5 | epochs=20 | k=5\n"
          ]
        },
        {
          "name": "stderr",
          "output_type": "stream",
          "text": [
            "\r  3%|▎         | 7/216 [00:03<01:52,  1.86it/s]"
          ]
        },
        {
          "name": "stdout",
          "output_type": "stream",
          "text": [
            "{'Vectorizer Type': 'doc2vec_dm', 'vector_size': 100, 'window': 5, 'Epochs Count': 20, 'CBoW/Skipgram OR DM/DBoW': 'DM', 'Silhouette Score': 0.010380543, 'WSS Score': 426.760498046875, 'Cluster Size': 5}\n",
            "Training doc2vec_dm | vec_size=100 | window=5 | epochs=20 | k=9\n"
          ]
        },
        {
          "name": "stderr",
          "output_type": "stream",
          "text": [
            "\r  4%|▎         | 8/216 [00:03<01:55,  1.80it/s]"
          ]
        },
        {
          "name": "stdout",
          "output_type": "stream",
          "text": [
            "{'Vectorizer Type': 'doc2vec_dm', 'vector_size': 100, 'window': 5, 'Epochs Count': 20, 'CBoW/Skipgram OR DM/DBoW': 'DM', 'Silhouette Score': 0.009223464, 'WSS Score': 417.3336181640625, 'Cluster Size': 9}\n",
            "Training doc2vec_dm | vec_size=100 | window=5 | epochs=20 | k=13\n"
          ]
        },
        {
          "name": "stderr",
          "output_type": "stream",
          "text": [
            "\r  4%|▍         | 9/216 [00:04<01:58,  1.75it/s]"
          ]
        },
        {
          "name": "stdout",
          "output_type": "stream",
          "text": [
            "{'Vectorizer Type': 'doc2vec_dm', 'vector_size': 100, 'window': 5, 'Epochs Count': 20, 'CBoW/Skipgram OR DM/DBoW': 'DM', 'Silhouette Score': 0.008108972, 'WSS Score': 409.4656066894531, 'Cluster Size': 13}\n",
            "Training doc2vec_dbow | vec_size=100 | window=5 | epochs=20 | k=5\n"
          ]
        },
        {
          "name": "stderr",
          "output_type": "stream",
          "text": [
            "\r  5%|▍         | 10/216 [00:04<01:48,  1.89it/s]"
          ]
        },
        {
          "name": "stdout",
          "output_type": "stream",
          "text": [
            "{'Vectorizer Type': 'doc2vec_dbow', 'vector_size': 100, 'window': 5, 'Epochs Count': 20, 'CBoW/Skipgram OR DM/DBoW': 'DBoW', 'Silhouette Score': 0.01078461, 'WSS Score': 416.05035400390625, 'Cluster Size': 5}\n",
            "Training doc2vec_dbow | vec_size=100 | window=5 | epochs=20 | k=9\n"
          ]
        },
        {
          "name": "stderr",
          "output_type": "stream",
          "text": [
            "\r  5%|▌         | 11/216 [00:05<01:42,  2.01it/s]"
          ]
        },
        {
          "name": "stdout",
          "output_type": "stream",
          "text": [
            "{'Vectorizer Type': 'doc2vec_dbow', 'vector_size': 100, 'window': 5, 'Epochs Count': 20, 'CBoW/Skipgram OR DM/DBoW': 'DBoW', 'Silhouette Score': 0.009226336, 'WSS Score': 407.14031982421875, 'Cluster Size': 9}\n",
            "Training doc2vec_dbow | vec_size=100 | window=5 | epochs=20 | k=13\n"
          ]
        },
        {
          "name": "stderr",
          "output_type": "stream",
          "text": [
            "\r  6%|▌         | 12/216 [00:05<01:38,  2.08it/s]"
          ]
        },
        {
          "name": "stdout",
          "output_type": "stream",
          "text": [
            "{'Vectorizer Type': 'doc2vec_dbow', 'vector_size': 100, 'window': 5, 'Epochs Count': 20, 'CBoW/Skipgram OR DM/DBoW': 'DBoW', 'Silhouette Score': 0.008561734, 'WSS Score': 399.0057373046875, 'Cluster Size': 13}\n",
            "Training word2vec_cbow | vec_size=100 | window=5 | epochs=40 | k=5\n"
          ]
        },
        {
          "name": "stderr",
          "output_type": "stream",
          "text": [
            "\r  6%|▌         | 13/216 [00:06<01:37,  2.08it/s]"
          ]
        },
        {
          "name": "stdout",
          "output_type": "stream",
          "text": [
            "{'Vectorizer Type': 'word2vec_cbow', 'vector_size': 100, 'window': 5, 'Epochs Count': 40, 'CBoW/Skipgram OR DM/DBoW': 'CBOW', 'Silhouette Score': 0.024779987, 'WSS Score': 10.592997550964355, 'Cluster Size': 5}\n",
            "Training word2vec_cbow | vec_size=100 | window=5 | epochs=40 | k=9\n"
          ]
        },
        {
          "name": "stderr",
          "output_type": "stream",
          "text": [
            "\r  6%|▋         | 14/216 [00:07<01:50,  1.82it/s]"
          ]
        },
        {
          "name": "stdout",
          "output_type": "stream",
          "text": [
            "{'Vectorizer Type': 'word2vec_cbow', 'vector_size': 100, 'window': 5, 'Epochs Count': 40, 'CBoW/Skipgram OR DM/DBoW': 'CBOW', 'Silhouette Score': -0.008959111, 'WSS Score': 9.950698852539062, 'Cluster Size': 9}\n",
            "Training word2vec_cbow | vec_size=100 | window=5 | epochs=40 | k=13\n"
          ]
        },
        {
          "name": "stderr",
          "output_type": "stream",
          "text": [
            "\r  7%|▋         | 15/216 [00:07<02:00,  1.67it/s]"
          ]
        },
        {
          "name": "stdout",
          "output_type": "stream",
          "text": [
            "{'Vectorizer Type': 'word2vec_cbow', 'vector_size': 100, 'window': 5, 'Epochs Count': 40, 'CBoW/Skipgram OR DM/DBoW': 'CBOW', 'Silhouette Score': 0.034531776, 'WSS Score': 9.481847763061523, 'Cluster Size': 13}\n",
            "Training word2vec_skipgram | vec_size=100 | window=5 | epochs=40 | k=5\n"
          ]
        },
        {
          "name": "stderr",
          "output_type": "stream",
          "text": [
            "\r  7%|▋         | 16/216 [00:09<02:46,  1.20it/s]"
          ]
        },
        {
          "name": "stdout",
          "output_type": "stream",
          "text": [
            "{'Vectorizer Type': 'word2vec_skipgram', 'vector_size': 100, 'window': 5, 'Epochs Count': 40, 'CBoW/Skipgram OR DM/DBoW': 'Skip-gram', 'Silhouette Score': 0.23180039, 'WSS Score': 4.6038665771484375, 'Cluster Size': 5}\n",
            "Training word2vec_skipgram | vec_size=100 | window=5 | epochs=40 | k=9\n"
          ]
        },
        {
          "name": "stderr",
          "output_type": "stream",
          "text": [
            "\r  8%|▊         | 17/216 [00:10<02:53,  1.15it/s]"
          ]
        },
        {
          "name": "stdout",
          "output_type": "stream",
          "text": [
            "{'Vectorizer Type': 'word2vec_skipgram', 'vector_size': 100, 'window': 5, 'Epochs Count': 40, 'CBoW/Skipgram OR DM/DBoW': 'Skip-gram', 'Silhouette Score': 0.20913053, 'WSS Score': 3.532396078109741, 'Cluster Size': 9}\n",
            "Training word2vec_skipgram | vec_size=100 | window=5 | epochs=40 | k=13\n"
          ]
        },
        {
          "name": "stderr",
          "output_type": "stream",
          "text": [
            "\r  8%|▊         | 18/216 [00:11<02:59,  1.10it/s]"
          ]
        },
        {
          "name": "stdout",
          "output_type": "stream",
          "text": [
            "{'Vectorizer Type': 'word2vec_skipgram', 'vector_size': 100, 'window': 5, 'Epochs Count': 40, 'CBoW/Skipgram OR DM/DBoW': 'Skip-gram', 'Silhouette Score': 0.19829221, 'WSS Score': 2.9459598064422607, 'Cluster Size': 13}\n",
            "Training doc2vec_dm | vec_size=100 | window=5 | epochs=40 | k=5\n"
          ]
        },
        {
          "name": "stderr",
          "output_type": "stream",
          "text": [
            "\r  9%|▉         | 19/216 [00:12<03:05,  1.06it/s]"
          ]
        },
        {
          "name": "stdout",
          "output_type": "stream",
          "text": [
            "{'Vectorizer Type': 'doc2vec_dm', 'vector_size': 100, 'window': 5, 'Epochs Count': 40, 'CBoW/Skipgram OR DM/DBoW': 'DM', 'Silhouette Score': 0.0073670647, 'WSS Score': 139.65150451660156, 'Cluster Size': 5}\n",
            "Training doc2vec_dm | vec_size=100 | window=5 | epochs=40 | k=9\n"
          ]
        },
        {
          "name": "stderr",
          "output_type": "stream",
          "text": [
            "\r  9%|▉         | 20/216 [00:13<03:09,  1.03it/s]"
          ]
        },
        {
          "name": "stdout",
          "output_type": "stream",
          "text": [
            "{'Vectorizer Type': 'doc2vec_dm', 'vector_size': 100, 'window': 5, 'Epochs Count': 40, 'CBoW/Skipgram OR DM/DBoW': 'DM', 'Silhouette Score': -0.0065543144, 'WSS Score': 136.7859649658203, 'Cluster Size': 9}\n",
            "Training doc2vec_dm | vec_size=100 | window=5 | epochs=40 | k=13\n"
          ]
        },
        {
          "name": "stderr",
          "output_type": "stream",
          "text": [
            "\r 10%|▉         | 21/216 [00:14<03:13,  1.01it/s]"
          ]
        },
        {
          "name": "stdout",
          "output_type": "stream",
          "text": [
            "{'Vectorizer Type': 'doc2vec_dm', 'vector_size': 100, 'window': 5, 'Epochs Count': 40, 'CBoW/Skipgram OR DM/DBoW': 'DM', 'Silhouette Score': -0.025134504, 'WSS Score': 133.8250732421875, 'Cluster Size': 13}\n",
            "Training doc2vec_dbow | vec_size=100 | window=5 | epochs=40 | k=5\n"
          ]
        },
        {
          "name": "stderr",
          "output_type": "stream",
          "text": [
            "\r 10%|█         | 22/216 [00:14<02:55,  1.10it/s]"
          ]
        },
        {
          "name": "stdout",
          "output_type": "stream",
          "text": [
            "{'Vectorizer Type': 'doc2vec_dbow', 'vector_size': 100, 'window': 5, 'Epochs Count': 40, 'CBoW/Skipgram OR DM/DBoW': 'DBoW', 'Silhouette Score': -0.0023350166, 'WSS Score': 142.34860229492188, 'Cluster Size': 5}\n",
            "Training doc2vec_dbow | vec_size=100 | window=5 | epochs=40 | k=9\n"
          ]
        },
        {
          "name": "stderr",
          "output_type": "stream",
          "text": [
            "\r 11%|█         | 23/216 [00:15<02:43,  1.18it/s]"
          ]
        },
        {
          "name": "stdout",
          "output_type": "stream",
          "text": [
            "{'Vectorizer Type': 'doc2vec_dbow', 'vector_size': 100, 'window': 5, 'Epochs Count': 40, 'CBoW/Skipgram OR DM/DBoW': 'DBoW', 'Silhouette Score': -0.0037000622, 'WSS Score': 138.9871368408203, 'Cluster Size': 9}\n",
            "Training doc2vec_dbow | vec_size=100 | window=5 | epochs=40 | k=13\n"
          ]
        },
        {
          "name": "stderr",
          "output_type": "stream",
          "text": [
            "\r 11%|█         | 24/216 [00:16<02:35,  1.23it/s]"
          ]
        },
        {
          "name": "stdout",
          "output_type": "stream",
          "text": [
            "{'Vectorizer Type': 'doc2vec_dbow', 'vector_size': 100, 'window': 5, 'Epochs Count': 40, 'CBoW/Skipgram OR DM/DBoW': 'DBoW', 'Silhouette Score': -0.0032364323, 'WSS Score': 136.20928955078125, 'Cluster Size': 13}\n",
            "Training word2vec_cbow | vec_size=100 | window=8 | epochs=20 | k=5\n"
          ]
        },
        {
          "name": "stderr",
          "output_type": "stream",
          "text": [
            "\r 12%|█▏        | 25/216 [00:16<02:07,  1.49it/s]"
          ]
        },
        {
          "name": "stdout",
          "output_type": "stream",
          "text": [
            "{'Vectorizer Type': 'word2vec_cbow', 'vector_size': 100, 'window': 8, 'Epochs Count': 20, 'CBoW/Skipgram OR DM/DBoW': 'CBOW', 'Silhouette Score': 0.041537974, 'WSS Score': 239.849609375, 'Cluster Size': 5}\n",
            "Training word2vec_cbow | vec_size=100 | window=8 | epochs=20 | k=9\n"
          ]
        },
        {
          "name": "stderr",
          "output_type": "stream",
          "text": [
            "\r 12%|█▏        | 26/216 [00:16<01:48,  1.75it/s]"
          ]
        },
        {
          "name": "stdout",
          "output_type": "stream",
          "text": [
            "{'Vectorizer Type': 'word2vec_cbow', 'vector_size': 100, 'window': 8, 'Epochs Count': 20, 'CBoW/Skipgram OR DM/DBoW': 'CBOW', 'Silhouette Score': -0.01692005, 'WSS Score': 232.10008239746094, 'Cluster Size': 9}\n",
            "Training word2vec_cbow | vec_size=100 | window=8 | epochs=20 | k=13\n"
          ]
        },
        {
          "name": "stderr",
          "output_type": "stream",
          "text": [
            "\r 12%|█▎        | 27/216 [00:17<01:37,  1.94it/s]"
          ]
        },
        {
          "name": "stdout",
          "output_type": "stream",
          "text": [
            "{'Vectorizer Type': 'word2vec_cbow', 'vector_size': 100, 'window': 8, 'Epochs Count': 20, 'CBoW/Skipgram OR DM/DBoW': 'CBOW', 'Silhouette Score': -0.013565029, 'WSS Score': 226.879150390625, 'Cluster Size': 13}\n",
            "Training word2vec_skipgram | vec_size=100 | window=8 | epochs=20 | k=5\n"
          ]
        },
        {
          "name": "stderr",
          "output_type": "stream",
          "text": [
            "\r 13%|█▎        | 28/216 [00:17<01:43,  1.82it/s]"
          ]
        },
        {
          "name": "stdout",
          "output_type": "stream",
          "text": [
            "{'Vectorizer Type': 'word2vec_skipgram', 'vector_size': 100, 'window': 8, 'Epochs Count': 20, 'CBoW/Skipgram OR DM/DBoW': 'Skip-gram', 'Silhouette Score': 0.036421146, 'WSS Score': 1.3446159362792969, 'Cluster Size': 5}\n",
            "Training word2vec_skipgram | vec_size=100 | window=8 | epochs=20 | k=9\n"
          ]
        },
        {
          "name": "stderr",
          "output_type": "stream",
          "text": [
            "\r 13%|█▎        | 29/216 [00:18<01:49,  1.71it/s]"
          ]
        },
        {
          "name": "stdout",
          "output_type": "stream",
          "text": [
            "{'Vectorizer Type': 'word2vec_skipgram', 'vector_size': 100, 'window': 8, 'Epochs Count': 20, 'CBoW/Skipgram OR DM/DBoW': 'Skip-gram', 'Silhouette Score': 0.050070588, 'WSS Score': 1.2396739721298218, 'Cluster Size': 9}\n",
            "Training word2vec_skipgram | vec_size=100 | window=8 | epochs=20 | k=13\n"
          ]
        },
        {
          "name": "stderr",
          "output_type": "stream",
          "text": [
            "\r 14%|█▍        | 30/216 [00:19<02:07,  1.46it/s]"
          ]
        },
        {
          "name": "stdout",
          "output_type": "stream",
          "text": [
            "{'Vectorizer Type': 'word2vec_skipgram', 'vector_size': 100, 'window': 8, 'Epochs Count': 20, 'CBoW/Skipgram OR DM/DBoW': 'Skip-gram', 'Silhouette Score': 0.045488723, 'WSS Score': 1.160042405128479, 'Cluster Size': 13}\n",
            "Training doc2vec_dm | vec_size=100 | window=8 | epochs=20 | k=5\n"
          ]
        },
        {
          "name": "stderr",
          "output_type": "stream",
          "text": [
            "\r 14%|█▍        | 31/216 [00:20<02:17,  1.35it/s]"
          ]
        },
        {
          "name": "stdout",
          "output_type": "stream",
          "text": [
            "{'Vectorizer Type': 'doc2vec_dm', 'vector_size': 100, 'window': 8, 'Epochs Count': 20, 'CBoW/Skipgram OR DM/DBoW': 'DM', 'Silhouette Score': 0.011014433, 'WSS Score': 425.0747375488281, 'Cluster Size': 5}\n",
            "Training doc2vec_dm | vec_size=100 | window=8 | epochs=20 | k=9\n"
          ]
        },
        {
          "name": "stderr",
          "output_type": "stream",
          "text": [
            "\r 15%|█▍        | 32/216 [00:21<02:27,  1.25it/s]"
          ]
        },
        {
          "name": "stdout",
          "output_type": "stream",
          "text": [
            "{'Vectorizer Type': 'doc2vec_dm', 'vector_size': 100, 'window': 8, 'Epochs Count': 20, 'CBoW/Skipgram OR DM/DBoW': 'DM', 'Silhouette Score': 0.010156988, 'WSS Score': 415.0207214355469, 'Cluster Size': 9}\n",
            "Training doc2vec_dm | vec_size=100 | window=8 | epochs=20 | k=13\n"
          ]
        },
        {
          "name": "stderr",
          "output_type": "stream",
          "text": [
            "\r 15%|█▌        | 33/216 [00:22<02:16,  1.34it/s]"
          ]
        },
        {
          "name": "stdout",
          "output_type": "stream",
          "text": [
            "{'Vectorizer Type': 'doc2vec_dm', 'vector_size': 100, 'window': 8, 'Epochs Count': 20, 'CBoW/Skipgram OR DM/DBoW': 'DM', 'Silhouette Score': 0.0071541416, 'WSS Score': 408.525390625, 'Cluster Size': 13}\n",
            "Training doc2vec_dbow | vec_size=100 | window=8 | epochs=20 | k=5\n"
          ]
        },
        {
          "name": "stderr",
          "output_type": "stream",
          "text": [
            "\r 16%|█▌        | 34/216 [00:22<01:57,  1.55it/s]"
          ]
        },
        {
          "name": "stdout",
          "output_type": "stream",
          "text": [
            "{'Vectorizer Type': 'doc2vec_dbow', 'vector_size': 100, 'window': 8, 'Epochs Count': 20, 'CBoW/Skipgram OR DM/DBoW': 'DBoW', 'Silhouette Score': 0.01078461, 'WSS Score': 416.05035400390625, 'Cluster Size': 5}\n",
            "Training doc2vec_dbow | vec_size=100 | window=8 | epochs=20 | k=9\n"
          ]
        },
        {
          "name": "stderr",
          "output_type": "stream",
          "text": [
            "\r 16%|█▌        | 35/216 [00:22<01:46,  1.71it/s]"
          ]
        },
        {
          "name": "stdout",
          "output_type": "stream",
          "text": [
            "{'Vectorizer Type': 'doc2vec_dbow', 'vector_size': 100, 'window': 8, 'Epochs Count': 20, 'CBoW/Skipgram OR DM/DBoW': 'DBoW', 'Silhouette Score': 0.009226336, 'WSS Score': 407.14031982421875, 'Cluster Size': 9}\n",
            "Training doc2vec_dbow | vec_size=100 | window=8 | epochs=20 | k=13\n"
          ]
        },
        {
          "name": "stderr",
          "output_type": "stream",
          "text": [
            "\r 17%|█▋        | 36/216 [00:23<01:38,  1.82it/s]"
          ]
        },
        {
          "name": "stdout",
          "output_type": "stream",
          "text": [
            "{'Vectorizer Type': 'doc2vec_dbow', 'vector_size': 100, 'window': 8, 'Epochs Count': 20, 'CBoW/Skipgram OR DM/DBoW': 'DBoW', 'Silhouette Score': 0.008561734, 'WSS Score': 399.0057373046875, 'Cluster Size': 13}\n",
            "Training word2vec_cbow | vec_size=100 | window=8 | epochs=40 | k=5\n"
          ]
        },
        {
          "name": "stderr",
          "output_type": "stream",
          "text": [
            "\r 17%|█▋        | 37/216 [00:23<01:35,  1.87it/s]"
          ]
        },
        {
          "name": "stdout",
          "output_type": "stream",
          "text": [
            "{'Vectorizer Type': 'word2vec_cbow', 'vector_size': 100, 'window': 8, 'Epochs Count': 40, 'CBoW/Skipgram OR DM/DBoW': 'CBOW', 'Silhouette Score': 0.028481886, 'WSS Score': 3.6108312606811523, 'Cluster Size': 5}\n",
            "Training word2vec_cbow | vec_size=100 | window=8 | epochs=40 | k=9\n"
          ]
        },
        {
          "name": "stderr",
          "output_type": "stream",
          "text": [
            "\r 18%|█▊        | 38/216 [00:24<01:34,  1.89it/s]"
          ]
        },
        {
          "name": "stdout",
          "output_type": "stream",
          "text": [
            "{'Vectorizer Type': 'word2vec_cbow', 'vector_size': 100, 'window': 8, 'Epochs Count': 40, 'CBoW/Skipgram OR DM/DBoW': 'CBOW', 'Silhouette Score': 0.034322098, 'WSS Score': 3.3805994987487793, 'Cluster Size': 9}\n",
            "Training word2vec_cbow | vec_size=100 | window=8 | epochs=40 | k=13\n"
          ]
        },
        {
          "name": "stderr",
          "output_type": "stream",
          "text": [
            "\r 18%|█▊        | 39/216 [00:24<01:35,  1.86it/s]"
          ]
        },
        {
          "name": "stdout",
          "output_type": "stream",
          "text": [
            "{'Vectorizer Type': 'word2vec_cbow', 'vector_size': 100, 'window': 8, 'Epochs Count': 40, 'CBoW/Skipgram OR DM/DBoW': 'CBOW', 'Silhouette Score': 0.042003796, 'WSS Score': 3.1468703746795654, 'Cluster Size': 13}\n",
            "Training word2vec_skipgram | vec_size=100 | window=8 | epochs=40 | k=5\n"
          ]
        },
        {
          "name": "stderr",
          "output_type": "stream",
          "text": [
            "\r 19%|█▊        | 40/216 [00:25<02:03,  1.42it/s]"
          ]
        },
        {
          "name": "stdout",
          "output_type": "stream",
          "text": [
            "{'Vectorizer Type': 'word2vec_skipgram', 'vector_size': 100, 'window': 8, 'Epochs Count': 40, 'CBoW/Skipgram OR DM/DBoW': 'Skip-gram', 'Silhouette Score': 0.2221049, 'WSS Score': 20.508657455444336, 'Cluster Size': 5}\n",
            "Training word2vec_skipgram | vec_size=100 | window=8 | epochs=40 | k=9\n"
          ]
        },
        {
          "name": "stderr",
          "output_type": "stream",
          "text": [
            "\r 19%|█▉        | 41/216 [00:27<02:24,  1.21it/s]"
          ]
        },
        {
          "name": "stdout",
          "output_type": "stream",
          "text": [
            "{'Vectorizer Type': 'word2vec_skipgram', 'vector_size': 100, 'window': 8, 'Epochs Count': 40, 'CBoW/Skipgram OR DM/DBoW': 'Skip-gram', 'Silhouette Score': 0.24502651, 'WSS Score': 15.945036888122559, 'Cluster Size': 9}\n",
            "Training word2vec_skipgram | vec_size=100 | window=8 | epochs=40 | k=13\n"
          ]
        },
        {
          "name": "stderr",
          "output_type": "stream",
          "text": [
            "\r 19%|█▉        | 42/216 [00:28<02:39,  1.09it/s]"
          ]
        },
        {
          "name": "stdout",
          "output_type": "stream",
          "text": [
            "{'Vectorizer Type': 'word2vec_skipgram', 'vector_size': 100, 'window': 8, 'Epochs Count': 40, 'CBoW/Skipgram OR DM/DBoW': 'Skip-gram', 'Silhouette Score': 0.24130632, 'WSS Score': 13.149911880493164, 'Cluster Size': 13}\n",
            "Training doc2vec_dm | vec_size=100 | window=8 | epochs=40 | k=5\n"
          ]
        },
        {
          "name": "stderr",
          "output_type": "stream",
          "text": [
            "\r 20%|█▉        | 43/216 [00:29<02:43,  1.06it/s]"
          ]
        },
        {
          "name": "stdout",
          "output_type": "stream",
          "text": [
            "{'Vectorizer Type': 'doc2vec_dm', 'vector_size': 100, 'window': 8, 'Epochs Count': 40, 'CBoW/Skipgram OR DM/DBoW': 'DM', 'Silhouette Score': -0.006448529, 'WSS Score': 84.65428924560547, 'Cluster Size': 5}\n",
            "Training doc2vec_dm | vec_size=100 | window=8 | epochs=40 | k=9\n"
          ]
        },
        {
          "name": "stderr",
          "output_type": "stream",
          "text": [
            "\r 20%|██        | 44/216 [00:30<02:46,  1.03it/s]"
          ]
        },
        {
          "name": "stdout",
          "output_type": "stream",
          "text": [
            "{'Vectorizer Type': 'doc2vec_dm', 'vector_size': 100, 'window': 8, 'Epochs Count': 40, 'CBoW/Skipgram OR DM/DBoW': 'DM', 'Silhouette Score': -0.00018318197, 'WSS Score': 82.79641723632812, 'Cluster Size': 9}\n",
            "Training doc2vec_dm | vec_size=100 | window=8 | epochs=40 | k=13\n"
          ]
        },
        {
          "name": "stderr",
          "output_type": "stream",
          "text": [
            "\r 21%|██        | 45/216 [00:31<02:49,  1.01it/s]"
          ]
        },
        {
          "name": "stdout",
          "output_type": "stream",
          "text": [
            "{'Vectorizer Type': 'doc2vec_dm', 'vector_size': 100, 'window': 8, 'Epochs Count': 40, 'CBoW/Skipgram OR DM/DBoW': 'DM', 'Silhouette Score': -0.015777694, 'WSS Score': 81.1180648803711, 'Cluster Size': 13}\n",
            "Training doc2vec_dbow | vec_size=100 | window=8 | epochs=40 | k=5\n"
          ]
        },
        {
          "name": "stderr",
          "output_type": "stream",
          "text": [
            "\r 21%|██▏       | 46/216 [00:32<02:51,  1.01s/it]"
          ]
        },
        {
          "name": "stdout",
          "output_type": "stream",
          "text": [
            "{'Vectorizer Type': 'doc2vec_dbow', 'vector_size': 100, 'window': 8, 'Epochs Count': 40, 'CBoW/Skipgram OR DM/DBoW': 'DBoW', 'Silhouette Score': -0.0023350166, 'WSS Score': 142.34860229492188, 'Cluster Size': 5}\n",
            "Training doc2vec_dbow | vec_size=100 | window=8 | epochs=40 | k=9\n"
          ]
        },
        {
          "name": "stderr",
          "output_type": "stream",
          "text": [
            "\r 22%|██▏       | 47/216 [00:33<02:52,  1.02s/it]"
          ]
        },
        {
          "name": "stdout",
          "output_type": "stream",
          "text": [
            "{'Vectorizer Type': 'doc2vec_dbow', 'vector_size': 100, 'window': 8, 'Epochs Count': 40, 'CBoW/Skipgram OR DM/DBoW': 'DBoW', 'Silhouette Score': -0.0037000622, 'WSS Score': 138.9871368408203, 'Cluster Size': 9}\n",
            "Training doc2vec_dbow | vec_size=100 | window=8 | epochs=40 | k=13\n"
          ]
        },
        {
          "name": "stderr",
          "output_type": "stream",
          "text": [
            "\r 22%|██▏       | 48/216 [00:34<02:42,  1.04it/s]"
          ]
        },
        {
          "name": "stdout",
          "output_type": "stream",
          "text": [
            "{'Vectorizer Type': 'doc2vec_dbow', 'vector_size': 100, 'window': 8, 'Epochs Count': 40, 'CBoW/Skipgram OR DM/DBoW': 'DBoW', 'Silhouette Score': -0.0032364323, 'WSS Score': 136.20928955078125, 'Cluster Size': 13}\n",
            "Training word2vec_cbow | vec_size=100 | window=10 | epochs=20 | k=5\n"
          ]
        },
        {
          "name": "stderr",
          "output_type": "stream",
          "text": [
            "\r 23%|██▎       | 49/216 [00:34<02:09,  1.29it/s]"
          ]
        },
        {
          "name": "stdout",
          "output_type": "stream",
          "text": [
            "{'Vectorizer Type': 'word2vec_cbow', 'vector_size': 100, 'window': 10, 'Epochs Count': 20, 'CBoW/Skipgram OR DM/DBoW': 'CBOW', 'Silhouette Score': -0.021817552, 'WSS Score': 220.60787963867188, 'Cluster Size': 5}\n",
            "Training word2vec_cbow | vec_size=100 | window=10 | epochs=20 | k=9\n"
          ]
        },
        {
          "name": "stderr",
          "output_type": "stream",
          "text": [
            "\r 23%|██▎       | 50/216 [00:34<01:47,  1.54it/s]"
          ]
        },
        {
          "name": "stdout",
          "output_type": "stream",
          "text": [
            "{'Vectorizer Type': 'word2vec_cbow', 'vector_size': 100, 'window': 10, 'Epochs Count': 20, 'CBoW/Skipgram OR DM/DBoW': 'CBOW', 'Silhouette Score': -0.037390478, 'WSS Score': 213.996826171875, 'Cluster Size': 9}\n",
            "Training word2vec_cbow | vec_size=100 | window=10 | epochs=20 | k=13\n"
          ]
        },
        {
          "name": "stderr",
          "output_type": "stream",
          "text": [
            "\r 24%|██▎       | 51/216 [00:35<01:33,  1.76it/s]"
          ]
        },
        {
          "name": "stdout",
          "output_type": "stream",
          "text": [
            "{'Vectorizer Type': 'word2vec_cbow', 'vector_size': 100, 'window': 10, 'Epochs Count': 20, 'CBoW/Skipgram OR DM/DBoW': 'CBOW', 'Silhouette Score': -0.033619303, 'WSS Score': 208.6536407470703, 'Cluster Size': 13}\n",
            "Training word2vec_skipgram | vec_size=100 | window=10 | epochs=20 | k=5\n"
          ]
        },
        {
          "name": "stderr",
          "output_type": "stream",
          "text": [
            "\r 24%|██▍       | 52/216 [00:35<01:36,  1.69it/s]"
          ]
        },
        {
          "name": "stdout",
          "output_type": "stream",
          "text": [
            "{'Vectorizer Type': 'word2vec_skipgram', 'vector_size': 100, 'window': 10, 'Epochs Count': 20, 'CBoW/Skipgram OR DM/DBoW': 'Skip-gram', 'Silhouette Score': 0.05724444, 'WSS Score': 0.994288980960846, 'Cluster Size': 5}\n",
            "Training word2vec_skipgram | vec_size=100 | window=10 | epochs=20 | k=9\n"
          ]
        },
        {
          "name": "stderr",
          "output_type": "stream",
          "text": [
            "\r 25%|██▍       | 53/216 [00:36<01:40,  1.62it/s]"
          ]
        },
        {
          "name": "stdout",
          "output_type": "stream",
          "text": [
            "{'Vectorizer Type': 'word2vec_skipgram', 'vector_size': 100, 'window': 10, 'Epochs Count': 20, 'CBoW/Skipgram OR DM/DBoW': 'Skip-gram', 'Silhouette Score': 0.06596056, 'WSS Score': 0.9119880199432373, 'Cluster Size': 9}\n",
            "Training word2vec_skipgram | vec_size=100 | window=10 | epochs=20 | k=13\n"
          ]
        },
        {
          "name": "stderr",
          "output_type": "stream",
          "text": [
            "\r 25%|██▌       | 54/216 [00:37<01:44,  1.55it/s]"
          ]
        },
        {
          "name": "stdout",
          "output_type": "stream",
          "text": [
            "{'Vectorizer Type': 'word2vec_skipgram', 'vector_size': 100, 'window': 10, 'Epochs Count': 20, 'CBoW/Skipgram OR DM/DBoW': 'Skip-gram', 'Silhouette Score': 0.07004751, 'WSS Score': 0.8508656024932861, 'Cluster Size': 13}\n",
            "Training doc2vec_dm | vec_size=100 | window=10 | epochs=20 | k=5\n"
          ]
        },
        {
          "name": "stderr",
          "output_type": "stream",
          "text": [
            "\r 25%|██▌       | 55/216 [00:37<01:40,  1.61it/s]"
          ]
        },
        {
          "name": "stdout",
          "output_type": "stream",
          "text": [
            "{'Vectorizer Type': 'doc2vec_dm', 'vector_size': 100, 'window': 10, 'Epochs Count': 20, 'CBoW/Skipgram OR DM/DBoW': 'DM', 'Silhouette Score': 0.010155506, 'WSS Score': 424.94879150390625, 'Cluster Size': 5}\n",
            "Training doc2vec_dm | vec_size=100 | window=10 | epochs=20 | k=9\n"
          ]
        },
        {
          "name": "stderr",
          "output_type": "stream",
          "text": [
            "\r 26%|██▌       | 56/216 [00:38<01:39,  1.61it/s]"
          ]
        },
        {
          "name": "stdout",
          "output_type": "stream",
          "text": [
            "{'Vectorizer Type': 'doc2vec_dm', 'vector_size': 100, 'window': 10, 'Epochs Count': 20, 'CBoW/Skipgram OR DM/DBoW': 'DM', 'Silhouette Score': 0.00958697, 'WSS Score': 414.9992370605469, 'Cluster Size': 9}\n",
            "Training doc2vec_dm | vec_size=100 | window=10 | epochs=20 | k=13\n"
          ]
        },
        {
          "name": "stderr",
          "output_type": "stream",
          "text": [
            "\r 26%|██▋       | 57/216 [00:39<01:39,  1.60it/s]"
          ]
        },
        {
          "name": "stdout",
          "output_type": "stream",
          "text": [
            "{'Vectorizer Type': 'doc2vec_dm', 'vector_size': 100, 'window': 10, 'Epochs Count': 20, 'CBoW/Skipgram OR DM/DBoW': 'DM', 'Silhouette Score': 0.008482491, 'WSS Score': 406.7185974121094, 'Cluster Size': 13}\n",
            "Training doc2vec_dbow | vec_size=100 | window=10 | epochs=20 | k=5\n"
          ]
        },
        {
          "name": "stderr",
          "output_type": "stream",
          "text": [
            "\r 27%|██▋       | 58/216 [00:39<01:28,  1.79it/s]"
          ]
        },
        {
          "name": "stdout",
          "output_type": "stream",
          "text": [
            "{'Vectorizer Type': 'doc2vec_dbow', 'vector_size': 100, 'window': 10, 'Epochs Count': 20, 'CBoW/Skipgram OR DM/DBoW': 'DBoW', 'Silhouette Score': 0.01078461, 'WSS Score': 416.05035400390625, 'Cluster Size': 5}\n",
            "Training doc2vec_dbow | vec_size=100 | window=10 | epochs=20 | k=9\n"
          ]
        },
        {
          "name": "stderr",
          "output_type": "stream",
          "text": [
            "\r 27%|██▋       | 59/216 [00:40<01:21,  1.92it/s]"
          ]
        },
        {
          "name": "stdout",
          "output_type": "stream",
          "text": [
            "{'Vectorizer Type': 'doc2vec_dbow', 'vector_size': 100, 'window': 10, 'Epochs Count': 20, 'CBoW/Skipgram OR DM/DBoW': 'DBoW', 'Silhouette Score': 0.009226336, 'WSS Score': 407.14031982421875, 'Cluster Size': 9}\n",
            "Training doc2vec_dbow | vec_size=100 | window=10 | epochs=20 | k=13\n"
          ]
        },
        {
          "name": "stderr",
          "output_type": "stream",
          "text": [
            "\r 28%|██▊       | 60/216 [00:40<01:18,  1.98it/s]"
          ]
        },
        {
          "name": "stdout",
          "output_type": "stream",
          "text": [
            "{'Vectorizer Type': 'doc2vec_dbow', 'vector_size': 100, 'window': 10, 'Epochs Count': 20, 'CBoW/Skipgram OR DM/DBoW': 'DBoW', 'Silhouette Score': 0.008561734, 'WSS Score': 399.0057373046875, 'Cluster Size': 13}\n",
            "Training word2vec_cbow | vec_size=100 | window=10 | epochs=40 | k=5\n"
          ]
        },
        {
          "name": "stderr",
          "output_type": "stream",
          "text": [
            "\r 28%|██▊       | 61/216 [00:40<01:18,  1.99it/s]"
          ]
        },
        {
          "name": "stdout",
          "output_type": "stream",
          "text": [
            "{'Vectorizer Type': 'word2vec_cbow', 'vector_size': 100, 'window': 10, 'Epochs Count': 40, 'CBoW/Skipgram OR DM/DBoW': 'CBOW', 'Silhouette Score': 0.068020366, 'WSS Score': 2.5782268047332764, 'Cluster Size': 5}\n",
            "Training word2vec_cbow | vec_size=100 | window=10 | epochs=40 | k=9\n"
          ]
        },
        {
          "name": "stderr",
          "output_type": "stream",
          "text": [
            "\r 29%|██▊       | 62/216 [00:41<01:20,  1.92it/s]"
          ]
        },
        {
          "name": "stdout",
          "output_type": "stream",
          "text": [
            "{'Vectorizer Type': 'word2vec_cbow', 'vector_size': 100, 'window': 10, 'Epochs Count': 40, 'CBoW/Skipgram OR DM/DBoW': 'CBOW', 'Silhouette Score': 0.06540918, 'WSS Score': 2.3688271045684814, 'Cluster Size': 9}\n",
            "Training word2vec_cbow | vec_size=100 | window=10 | epochs=40 | k=13\n"
          ]
        },
        {
          "name": "stderr",
          "output_type": "stream",
          "text": [
            "\r 29%|██▉       | 63/216 [00:42<01:20,  1.90it/s]"
          ]
        },
        {
          "name": "stdout",
          "output_type": "stream",
          "text": [
            "{'Vectorizer Type': 'word2vec_cbow', 'vector_size': 100, 'window': 10, 'Epochs Count': 40, 'CBoW/Skipgram OR DM/DBoW': 'CBOW', 'Silhouette Score': 0.020217212, 'WSS Score': 2.2264788150787354, 'Cluster Size': 13}\n",
            "Training word2vec_skipgram | vec_size=100 | window=10 | epochs=40 | k=5\n"
          ]
        },
        {
          "name": "stderr",
          "output_type": "stream",
          "text": [
            "\r 30%|██▉       | 64/216 [00:43<01:48,  1.40it/s]"
          ]
        },
        {
          "name": "stdout",
          "output_type": "stream",
          "text": [
            "{'Vectorizer Type': 'word2vec_skipgram', 'vector_size': 100, 'window': 10, 'Epochs Count': 40, 'CBoW/Skipgram OR DM/DBoW': 'Skip-gram', 'Silhouette Score': 0.2158202, 'WSS Score': 30.90204429626465, 'Cluster Size': 5}\n",
            "Training word2vec_skipgram | vec_size=100 | window=10 | epochs=40 | k=9\n"
          ]
        },
        {
          "name": "stderr",
          "output_type": "stream",
          "text": [
            "\r 30%|███       | 65/216 [00:44<02:22,  1.06it/s]"
          ]
        },
        {
          "name": "stdout",
          "output_type": "stream",
          "text": [
            "{'Vectorizer Type': 'word2vec_skipgram', 'vector_size': 100, 'window': 10, 'Epochs Count': 40, 'CBoW/Skipgram OR DM/DBoW': 'Skip-gram', 'Silhouette Score': 0.20948224, 'WSS Score': 24.610721588134766, 'Cluster Size': 9}\n",
            "Training word2vec_skipgram | vec_size=100 | window=10 | epochs=40 | k=13\n"
          ]
        },
        {
          "name": "stderr",
          "output_type": "stream",
          "text": [
            "\r 31%|███       | 66/216 [00:46<02:51,  1.14s/it]"
          ]
        },
        {
          "name": "stdout",
          "output_type": "stream",
          "text": [
            "{'Vectorizer Type': 'word2vec_skipgram', 'vector_size': 100, 'window': 10, 'Epochs Count': 40, 'CBoW/Skipgram OR DM/DBoW': 'Skip-gram', 'Silhouette Score': 0.2236208, 'WSS Score': 20.4022274017334, 'Cluster Size': 13}\n",
            "Training doc2vec_dm | vec_size=100 | window=10 | epochs=40 | k=5\n"
          ]
        },
        {
          "name": "stderr",
          "output_type": "stream",
          "text": [
            "\r 31%|███       | 67/216 [00:47<02:44,  1.10s/it]"
          ]
        },
        {
          "name": "stdout",
          "output_type": "stream",
          "text": [
            "{'Vectorizer Type': 'doc2vec_dm', 'vector_size': 100, 'window': 10, 'Epochs Count': 40, 'CBoW/Skipgram OR DM/DBoW': 'DM', 'Silhouette Score': -0.0026038124, 'WSS Score': 67.24244689941406, 'Cluster Size': 5}\n",
            "Training doc2vec_dm | vec_size=100 | window=10 | epochs=40 | k=9\n"
          ]
        },
        {
          "name": "stderr",
          "output_type": "stream",
          "text": [
            "\r 31%|███▏      | 68/216 [00:48<02:41,  1.09s/it]"
          ]
        },
        {
          "name": "stdout",
          "output_type": "stream",
          "text": [
            "{'Vectorizer Type': 'doc2vec_dm', 'vector_size': 100, 'window': 10, 'Epochs Count': 40, 'CBoW/Skipgram OR DM/DBoW': 'DM', 'Silhouette Score': -0.008467155, 'WSS Score': 65.62031555175781, 'Cluster Size': 9}\n",
            "Training doc2vec_dm | vec_size=100 | window=10 | epochs=40 | k=13\n"
          ]
        },
        {
          "name": "stderr",
          "output_type": "stream",
          "text": [
            "\r 32%|███▏      | 69/216 [00:49<02:38,  1.08s/it]"
          ]
        },
        {
          "name": "stdout",
          "output_type": "stream",
          "text": [
            "{'Vectorizer Type': 'doc2vec_dm', 'vector_size': 100, 'window': 10, 'Epochs Count': 40, 'CBoW/Skipgram OR DM/DBoW': 'DM', 'Silhouette Score': -0.0372472, 'WSS Score': 64.19512176513672, 'Cluster Size': 13}\n",
            "Training doc2vec_dbow | vec_size=100 | window=10 | epochs=40 | k=5\n"
          ]
        },
        {
          "name": "stderr",
          "output_type": "stream",
          "text": [
            "\r 32%|███▏      | 70/216 [00:50<02:19,  1.05it/s]"
          ]
        },
        {
          "name": "stdout",
          "output_type": "stream",
          "text": [
            "{'Vectorizer Type': 'doc2vec_dbow', 'vector_size': 100, 'window': 10, 'Epochs Count': 40, 'CBoW/Skipgram OR DM/DBoW': 'DBoW', 'Silhouette Score': -0.0023350166, 'WSS Score': 142.34860229492188, 'Cluster Size': 5}\n",
            "Training doc2vec_dbow | vec_size=100 | window=10 | epochs=40 | k=9\n"
          ]
        },
        {
          "name": "stderr",
          "output_type": "stream",
          "text": [
            "\r 33%|███▎      | 71/216 [00:50<02:06,  1.14it/s]"
          ]
        },
        {
          "name": "stdout",
          "output_type": "stream",
          "text": [
            "{'Vectorizer Type': 'doc2vec_dbow', 'vector_size': 100, 'window': 10, 'Epochs Count': 40, 'CBoW/Skipgram OR DM/DBoW': 'DBoW', 'Silhouette Score': -0.0037000622, 'WSS Score': 138.9871368408203, 'Cluster Size': 9}\n",
            "Training doc2vec_dbow | vec_size=100 | window=10 | epochs=40 | k=13\n"
          ]
        },
        {
          "name": "stderr",
          "output_type": "stream",
          "text": [
            "\r 33%|███▎      | 72/216 [00:51<01:59,  1.21it/s]"
          ]
        },
        {
          "name": "stdout",
          "output_type": "stream",
          "text": [
            "{'Vectorizer Type': 'doc2vec_dbow', 'vector_size': 100, 'window': 10, 'Epochs Count': 40, 'CBoW/Skipgram OR DM/DBoW': 'DBoW', 'Silhouette Score': -0.0032364323, 'WSS Score': 136.20928955078125, 'Cluster Size': 13}\n",
            "Training word2vec_cbow | vec_size=200 | window=5 | epochs=20 | k=5\n"
          ]
        },
        {
          "name": "stderr",
          "output_type": "stream",
          "text": [
            "\r 34%|███▍      | 73/216 [00:51<01:39,  1.44it/s]"
          ]
        },
        {
          "name": "stdout",
          "output_type": "stream",
          "text": [
            "{'Vectorizer Type': 'word2vec_cbow', 'vector_size': 200, 'window': 5, 'Epochs Count': 20, 'CBoW/Skipgram OR DM/DBoW': 'CBOW', 'Silhouette Score': -0.024839785, 'WSS Score': 303.2674560546875, 'Cluster Size': 5}\n",
            "Training word2vec_cbow | vec_size=200 | window=5 | epochs=20 | k=9\n"
          ]
        },
        {
          "name": "stderr",
          "output_type": "stream",
          "text": [
            "\r 34%|███▍      | 74/216 [00:52<01:26,  1.65it/s]"
          ]
        },
        {
          "name": "stdout",
          "output_type": "stream",
          "text": [
            "{'Vectorizer Type': 'word2vec_cbow', 'vector_size': 200, 'window': 5, 'Epochs Count': 20, 'CBoW/Skipgram OR DM/DBoW': 'CBOW', 'Silhouette Score': -0.0093987165, 'WSS Score': 297.49566650390625, 'Cluster Size': 9}\n",
            "Training word2vec_cbow | vec_size=200 | window=5 | epochs=20 | k=13\n"
          ]
        },
        {
          "name": "stderr",
          "output_type": "stream",
          "text": [
            "\r 35%|███▍      | 75/216 [00:52<01:18,  1.79it/s]"
          ]
        },
        {
          "name": "stdout",
          "output_type": "stream",
          "text": [
            "{'Vectorizer Type': 'word2vec_cbow', 'vector_size': 200, 'window': 5, 'Epochs Count': 20, 'CBoW/Skipgram OR DM/DBoW': 'CBOW', 'Silhouette Score': -0.008102081, 'WSS Score': 290.12890625, 'Cluster Size': 13}\n",
            "Training word2vec_skipgram | vec_size=200 | window=5 | epochs=20 | k=5\n"
          ]
        },
        {
          "name": "stderr",
          "output_type": "stream",
          "text": [
            "\r 35%|███▌      | 76/216 [00:53<01:22,  1.69it/s]"
          ]
        },
        {
          "name": "stdout",
          "output_type": "stream",
          "text": [
            "{'Vectorizer Type': 'word2vec_skipgram', 'vector_size': 200, 'window': 5, 'Epochs Count': 20, 'CBoW/Skipgram OR DM/DBoW': 'Skip-gram', 'Silhouette Score': 0.043927427, 'WSS Score': 6.419071197509766, 'Cluster Size': 5}\n",
            "Training word2vec_skipgram | vec_size=200 | window=5 | epochs=20 | k=9\n"
          ]
        },
        {
          "name": "stderr",
          "output_type": "stream",
          "text": [
            "\r 36%|███▌      | 77/216 [00:54<01:26,  1.60it/s]"
          ]
        },
        {
          "name": "stdout",
          "output_type": "stream",
          "text": [
            "{'Vectorizer Type': 'word2vec_skipgram', 'vector_size': 200, 'window': 5, 'Epochs Count': 20, 'CBoW/Skipgram OR DM/DBoW': 'Skip-gram', 'Silhouette Score': -0.0015436751, 'WSS Score': 6.036556243896484, 'Cluster Size': 9}\n",
            "Training word2vec_skipgram | vec_size=200 | window=5 | epochs=20 | k=13\n"
          ]
        },
        {
          "name": "stderr",
          "output_type": "stream",
          "text": [
            "\r 36%|███▌      | 78/216 [00:54<01:30,  1.52it/s]"
          ]
        },
        {
          "name": "stdout",
          "output_type": "stream",
          "text": [
            "{'Vectorizer Type': 'word2vec_skipgram', 'vector_size': 200, 'window': 5, 'Epochs Count': 20, 'CBoW/Skipgram OR DM/DBoW': 'Skip-gram', 'Silhouette Score': -0.009629432, 'WSS Score': 5.7218732833862305, 'Cluster Size': 13}\n",
            "Training doc2vec_dm | vec_size=200 | window=5 | epochs=20 | k=5\n"
          ]
        },
        {
          "name": "stderr",
          "output_type": "stream",
          "text": [
            "\r 37%|███▋      | 79/216 [00:55<01:28,  1.55it/s]"
          ]
        },
        {
          "name": "stdout",
          "output_type": "stream",
          "text": [
            "{'Vectorizer Type': 'doc2vec_dm', 'vector_size': 200, 'window': 5, 'Epochs Count': 20, 'CBoW/Skipgram OR DM/DBoW': 'DM', 'Silhouette Score': 0.0049690693, 'WSS Score': 433.4523010253906, 'Cluster Size': 5}\n",
            "Training doc2vec_dm | vec_size=200 | window=5 | epochs=20 | k=9\n"
          ]
        },
        {
          "name": "stderr",
          "output_type": "stream",
          "text": [
            "\r 37%|███▋      | 80/216 [00:56<01:29,  1.52it/s]"
          ]
        },
        {
          "name": "stdout",
          "output_type": "stream",
          "text": [
            "{'Vectorizer Type': 'doc2vec_dm', 'vector_size': 200, 'window': 5, 'Epochs Count': 20, 'CBoW/Skipgram OR DM/DBoW': 'DM', 'Silhouette Score': 0.0034882918, 'WSS Score': 426.517578125, 'Cluster Size': 9}\n",
            "Training doc2vec_dm | vec_size=200 | window=5 | epochs=20 | k=13\n"
          ]
        },
        {
          "name": "stderr",
          "output_type": "stream",
          "text": [
            "\r 38%|███▊      | 81/216 [00:57<01:49,  1.23it/s]"
          ]
        },
        {
          "name": "stdout",
          "output_type": "stream",
          "text": [
            "{'Vectorizer Type': 'doc2vec_dm', 'vector_size': 200, 'window': 5, 'Epochs Count': 20, 'CBoW/Skipgram OR DM/DBoW': 'DM', 'Silhouette Score': 0.0025128745, 'WSS Score': 420.76800537109375, 'Cluster Size': 13}\n",
            "Training doc2vec_dbow | vec_size=200 | window=5 | epochs=20 | k=5\n"
          ]
        },
        {
          "name": "stderr",
          "output_type": "stream",
          "text": [
            "\r 38%|███▊      | 82/216 [00:58<01:44,  1.28it/s]"
          ]
        },
        {
          "name": "stdout",
          "output_type": "stream",
          "text": [
            "{'Vectorizer Type': 'doc2vec_dbow', 'vector_size': 200, 'window': 5, 'Epochs Count': 20, 'CBoW/Skipgram OR DM/DBoW': 'DBoW', 'Silhouette Score': 0.0055454033, 'WSS Score': 420.03948974609375, 'Cluster Size': 5}\n",
            "Training doc2vec_dbow | vec_size=200 | window=5 | epochs=20 | k=9\n"
          ]
        },
        {
          "name": "stderr",
          "output_type": "stream",
          "text": [
            "\r 38%|███▊      | 83/216 [00:58<01:38,  1.35it/s]"
          ]
        },
        {
          "name": "stdout",
          "output_type": "stream",
          "text": [
            "{'Vectorizer Type': 'doc2vec_dbow', 'vector_size': 200, 'window': 5, 'Epochs Count': 20, 'CBoW/Skipgram OR DM/DBoW': 'DBoW', 'Silhouette Score': 0.0036107495, 'WSS Score': 413.62255859375, 'Cluster Size': 9}\n",
            "Training doc2vec_dbow | vec_size=200 | window=5 | epochs=20 | k=13\n"
          ]
        },
        {
          "name": "stderr",
          "output_type": "stream",
          "text": [
            "\r 39%|███▉      | 84/216 [00:59<01:28,  1.49it/s]"
          ]
        },
        {
          "name": "stdout",
          "output_type": "stream",
          "text": [
            "{'Vectorizer Type': 'doc2vec_dbow', 'vector_size': 200, 'window': 5, 'Epochs Count': 20, 'CBoW/Skipgram OR DM/DBoW': 'DBoW', 'Silhouette Score': 0.0012092184, 'WSS Score': 408.2716064453125, 'Cluster Size': 13}\n",
            "Training word2vec_cbow | vec_size=200 | window=5 | epochs=40 | k=5\n"
          ]
        },
        {
          "name": "stderr",
          "output_type": "stream",
          "text": [
            "\r 39%|███▉      | 85/216 [00:59<01:23,  1.57it/s]"
          ]
        },
        {
          "name": "stdout",
          "output_type": "stream",
          "text": [
            "{'Vectorizer Type': 'word2vec_cbow', 'vector_size': 200, 'window': 5, 'Epochs Count': 40, 'CBoW/Skipgram OR DM/DBoW': 'CBOW', 'Silhouette Score': 0.12919453, 'WSS Score': 11.352744102478027, 'Cluster Size': 5}\n",
            "Training word2vec_cbow | vec_size=200 | window=5 | epochs=40 | k=9\n"
          ]
        },
        {
          "name": "stderr",
          "output_type": "stream",
          "text": [
            "\r 40%|███▉      | 86/216 [01:00<01:21,  1.59it/s]"
          ]
        },
        {
          "name": "stdout",
          "output_type": "stream",
          "text": [
            "{'Vectorizer Type': 'word2vec_cbow', 'vector_size': 200, 'window': 5, 'Epochs Count': 40, 'CBoW/Skipgram OR DM/DBoW': 'CBOW', 'Silhouette Score': -0.0078100706, 'WSS Score': 10.688933372497559, 'Cluster Size': 9}\n",
            "Training word2vec_cbow | vec_size=200 | window=5 | epochs=40 | k=13\n"
          ]
        },
        {
          "name": "stderr",
          "output_type": "stream",
          "text": [
            "\r 40%|████      | 87/216 [01:01<01:22,  1.57it/s]"
          ]
        },
        {
          "name": "stdout",
          "output_type": "stream",
          "text": [
            "{'Vectorizer Type': 'word2vec_cbow', 'vector_size': 200, 'window': 5, 'Epochs Count': 40, 'CBoW/Skipgram OR DM/DBoW': 'CBOW', 'Silhouette Score': 0.0036574802, 'WSS Score': 10.23772144317627, 'Cluster Size': 13}\n",
            "Training word2vec_skipgram | vec_size=200 | window=5 | epochs=40 | k=5\n"
          ]
        },
        {
          "name": "stderr",
          "output_type": "stream",
          "text": [
            "\r 41%|████      | 88/216 [01:02<01:41,  1.26it/s]"
          ]
        },
        {
          "name": "stdout",
          "output_type": "stream",
          "text": [
            "{'Vectorizer Type': 'word2vec_skipgram', 'vector_size': 200, 'window': 5, 'Epochs Count': 40, 'CBoW/Skipgram OR DM/DBoW': 'Skip-gram', 'Silhouette Score': 0.21825919, 'WSS Score': 2.1285953521728516, 'Cluster Size': 5}\n",
            "Training word2vec_skipgram | vec_size=200 | window=5 | epochs=40 | k=9\n"
          ]
        },
        {
          "name": "stderr",
          "output_type": "stream",
          "text": [
            "\r 41%|████      | 89/216 [01:03<01:54,  1.11it/s]"
          ]
        },
        {
          "name": "stdout",
          "output_type": "stream",
          "text": [
            "{'Vectorizer Type': 'word2vec_skipgram', 'vector_size': 200, 'window': 5, 'Epochs Count': 40, 'CBoW/Skipgram OR DM/DBoW': 'Skip-gram', 'Silhouette Score': 0.18146744, 'WSS Score': 1.6571950912475586, 'Cluster Size': 9}\n",
            "Training word2vec_skipgram | vec_size=200 | window=5 | epochs=40 | k=13\n"
          ]
        },
        {
          "name": "stderr",
          "output_type": "stream",
          "text": [
            "\r 42%|████▏     | 90/216 [01:04<02:04,  1.01it/s]"
          ]
        },
        {
          "name": "stdout",
          "output_type": "stream",
          "text": [
            "{'Vectorizer Type': 'word2vec_skipgram', 'vector_size': 200, 'window': 5, 'Epochs Count': 40, 'CBoW/Skipgram OR DM/DBoW': 'Skip-gram', 'Silhouette Score': 0.19752946, 'WSS Score': 1.4075651168823242, 'Cluster Size': 13}\n",
            "Training doc2vec_dm | vec_size=200 | window=5 | epochs=40 | k=5\n"
          ]
        },
        {
          "name": "stderr",
          "output_type": "stream",
          "text": [
            "\r 42%|████▏     | 91/216 [01:05<02:07,  1.02s/it]"
          ]
        },
        {
          "name": "stdout",
          "output_type": "stream",
          "text": [
            "{'Vectorizer Type': 'doc2vec_dm', 'vector_size': 200, 'window': 5, 'Epochs Count': 40, 'CBoW/Skipgram OR DM/DBoW': 'DM', 'Silhouette Score': 0.007956158, 'WSS Score': 145.95042419433594, 'Cluster Size': 5}\n",
            "Training doc2vec_dm | vec_size=200 | window=5 | epochs=40 | k=9\n"
          ]
        },
        {
          "name": "stderr",
          "output_type": "stream",
          "text": [
            "\r 43%|████▎     | 92/216 [01:06<02:09,  1.05s/it]"
          ]
        },
        {
          "name": "stdout",
          "output_type": "stream",
          "text": [
            "{'Vectorizer Type': 'doc2vec_dm', 'vector_size': 200, 'window': 5, 'Epochs Count': 40, 'CBoW/Skipgram OR DM/DBoW': 'DM', 'Silhouette Score': -0.014730327, 'WSS Score': 143.48985290527344, 'Cluster Size': 9}\n",
            "Training doc2vec_dm | vec_size=200 | window=5 | epochs=40 | k=13\n"
          ]
        },
        {
          "name": "stderr",
          "output_type": "stream",
          "text": [
            "\r 43%|████▎     | 93/216 [01:07<02:12,  1.08s/it]"
          ]
        },
        {
          "name": "stdout",
          "output_type": "stream",
          "text": [
            "{'Vectorizer Type': 'doc2vec_dm', 'vector_size': 200, 'window': 5, 'Epochs Count': 40, 'CBoW/Skipgram OR DM/DBoW': 'DM', 'Silhouette Score': -0.027298585, 'WSS Score': 141.54159545898438, 'Cluster Size': 13}\n",
            "Training doc2vec_dbow | vec_size=200 | window=5 | epochs=40 | k=5\n"
          ]
        },
        {
          "name": "stderr",
          "output_type": "stream",
          "text": [
            "\r 44%|████▎     | 94/216 [01:08<02:06,  1.04s/it]"
          ]
        },
        {
          "name": "stdout",
          "output_type": "stream",
          "text": [
            "{'Vectorizer Type': 'doc2vec_dbow', 'vector_size': 200, 'window': 5, 'Epochs Count': 40, 'CBoW/Skipgram OR DM/DBoW': 'DBoW', 'Silhouette Score': 0.002173842, 'WSS Score': 130.8131866455078, 'Cluster Size': 5}\n",
            "Training doc2vec_dbow | vec_size=200 | window=5 | epochs=40 | k=9\n"
          ]
        },
        {
          "name": "stderr",
          "output_type": "stream",
          "text": [
            "\r 44%|████▍     | 95/216 [01:10<02:12,  1.10s/it]"
          ]
        },
        {
          "name": "stdout",
          "output_type": "stream",
          "text": [
            "{'Vectorizer Type': 'doc2vec_dbow', 'vector_size': 200, 'window': 5, 'Epochs Count': 40, 'CBoW/Skipgram OR DM/DBoW': 'DBoW', 'Silhouette Score': -0.01485165, 'WSS Score': 128.5835723876953, 'Cluster Size': 9}\n",
            "Training doc2vec_dbow | vec_size=200 | window=5 | epochs=40 | k=13\n"
          ]
        },
        {
          "name": "stderr",
          "output_type": "stream",
          "text": [
            "\r 44%|████▍     | 96/216 [01:11<02:13,  1.11s/it]"
          ]
        },
        {
          "name": "stdout",
          "output_type": "stream",
          "text": [
            "{'Vectorizer Type': 'doc2vec_dbow', 'vector_size': 200, 'window': 5, 'Epochs Count': 40, 'CBoW/Skipgram OR DM/DBoW': 'DBoW', 'Silhouette Score': -0.03464246, 'WSS Score': 126.412109375, 'Cluster Size': 13}\n",
            "Training word2vec_cbow | vec_size=200 | window=8 | epochs=20 | k=5\n"
          ]
        },
        {
          "name": "stderr",
          "output_type": "stream",
          "text": [
            "\r 45%|████▍     | 97/216 [01:11<01:46,  1.11it/s]"
          ]
        },
        {
          "name": "stdout",
          "output_type": "stream",
          "text": [
            "{'Vectorizer Type': 'word2vec_cbow', 'vector_size': 200, 'window': 8, 'Epochs Count': 20, 'CBoW/Skipgram OR DM/DBoW': 'CBOW', 'Silhouette Score': -0.017044341, 'WSS Score': 247.04782104492188, 'Cluster Size': 5}\n",
            "Training word2vec_cbow | vec_size=200 | window=8 | epochs=20 | k=9\n"
          ]
        },
        {
          "name": "stderr",
          "output_type": "stream",
          "text": [
            "\r 45%|████▌     | 98/216 [01:12<01:28,  1.33it/s]"
          ]
        },
        {
          "name": "stdout",
          "output_type": "stream",
          "text": [
            "{'Vectorizer Type': 'word2vec_cbow', 'vector_size': 200, 'window': 8, 'Epochs Count': 20, 'CBoW/Skipgram OR DM/DBoW': 'CBOW', 'Silhouette Score': 0.0008226325, 'WSS Score': 241.54286193847656, 'Cluster Size': 9}\n",
            "Training word2vec_cbow | vec_size=200 | window=8 | epochs=20 | k=13\n"
          ]
        },
        {
          "name": "stderr",
          "output_type": "stream",
          "text": [
            "\r 46%|████▌     | 99/216 [01:12<01:17,  1.50it/s]"
          ]
        },
        {
          "name": "stdout",
          "output_type": "stream",
          "text": [
            "{'Vectorizer Type': 'word2vec_cbow', 'vector_size': 200, 'window': 8, 'Epochs Count': 20, 'CBoW/Skipgram OR DM/DBoW': 'CBOW', 'Silhouette Score': -0.0033720837, 'WSS Score': 234.92420959472656, 'Cluster Size': 13}\n",
            "Training word2vec_skipgram | vec_size=200 | window=8 | epochs=20 | k=5\n"
          ]
        },
        {
          "name": "stderr",
          "output_type": "stream",
          "text": [
            "\r 46%|████▋     | 100/216 [01:13<01:20,  1.44it/s]"
          ]
        },
        {
          "name": "stdout",
          "output_type": "stream",
          "text": [
            "{'Vectorizer Type': 'word2vec_skipgram', 'vector_size': 200, 'window': 8, 'Epochs Count': 20, 'CBoW/Skipgram OR DM/DBoW': 'Skip-gram', 'Silhouette Score': 0.01394076, 'WSS Score': 0.916819155216217, 'Cluster Size': 5}\n",
            "Training word2vec_skipgram | vec_size=200 | window=8 | epochs=20 | k=9\n"
          ]
        },
        {
          "name": "stderr",
          "output_type": "stream",
          "text": [
            "\r 47%|████▋     | 101/216 [01:14<01:23,  1.38it/s]"
          ]
        },
        {
          "name": "stdout",
          "output_type": "stream",
          "text": [
            "{'Vectorizer Type': 'word2vec_skipgram', 'vector_size': 200, 'window': 8, 'Epochs Count': 20, 'CBoW/Skipgram OR DM/DBoW': 'Skip-gram', 'Silhouette Score': 0.013502121, 'WSS Score': 0.8646727204322815, 'Cluster Size': 9}\n",
            "Training word2vec_skipgram | vec_size=200 | window=8 | epochs=20 | k=13\n"
          ]
        },
        {
          "name": "stderr",
          "output_type": "stream",
          "text": [
            "\r 47%|████▋     | 102/216 [01:14<01:25,  1.33it/s]"
          ]
        },
        {
          "name": "stdout",
          "output_type": "stream",
          "text": [
            "{'Vectorizer Type': 'word2vec_skipgram', 'vector_size': 200, 'window': 8, 'Epochs Count': 20, 'CBoW/Skipgram OR DM/DBoW': 'Skip-gram', 'Silhouette Score': 0.024182046, 'WSS Score': 0.805754542350769, 'Cluster Size': 13}\n",
            "Training doc2vec_dm | vec_size=200 | window=8 | epochs=20 | k=5\n"
          ]
        },
        {
          "name": "stderr",
          "output_type": "stream",
          "text": [
            "\r 48%|████▊     | 103/216 [01:15<01:21,  1.39it/s]"
          ]
        },
        {
          "name": "stdout",
          "output_type": "stream",
          "text": [
            "{'Vectorizer Type': 'doc2vec_dm', 'vector_size': 200, 'window': 8, 'Epochs Count': 20, 'CBoW/Skipgram OR DM/DBoW': 'DM', 'Silhouette Score': 0.0049084816, 'WSS Score': 431.8963317871094, 'Cluster Size': 5}\n",
            "Training doc2vec_dm | vec_size=200 | window=8 | epochs=20 | k=9\n"
          ]
        },
        {
          "name": "stderr",
          "output_type": "stream",
          "text": [
            "\r 48%|████▊     | 104/216 [01:16<01:18,  1.43it/s]"
          ]
        },
        {
          "name": "stdout",
          "output_type": "stream",
          "text": [
            "{'Vectorizer Type': 'doc2vec_dm', 'vector_size': 200, 'window': 8, 'Epochs Count': 20, 'CBoW/Skipgram OR DM/DBoW': 'DM', 'Silhouette Score': 0.003884145, 'WSS Score': 425.0423889160156, 'Cluster Size': 9}\n",
            "Training doc2vec_dm | vec_size=200 | window=8 | epochs=20 | k=13\n"
          ]
        },
        {
          "name": "stderr",
          "output_type": "stream",
          "text": [
            "\r 49%|████▊     | 105/216 [01:16<01:17,  1.44it/s]"
          ]
        },
        {
          "name": "stdout",
          "output_type": "stream",
          "text": [
            "{'Vectorizer Type': 'doc2vec_dm', 'vector_size': 200, 'window': 8, 'Epochs Count': 20, 'CBoW/Skipgram OR DM/DBoW': 'DM', 'Silhouette Score': 0.0022461107, 'WSS Score': 419.5564880371094, 'Cluster Size': 13}\n",
            "Training doc2vec_dbow | vec_size=200 | window=8 | epochs=20 | k=5\n"
          ]
        },
        {
          "name": "stderr",
          "output_type": "stream",
          "text": [
            "\r 49%|████▉     | 106/216 [01:17<01:08,  1.61it/s]"
          ]
        },
        {
          "name": "stdout",
          "output_type": "stream",
          "text": [
            "{'Vectorizer Type': 'doc2vec_dbow', 'vector_size': 200, 'window': 8, 'Epochs Count': 20, 'CBoW/Skipgram OR DM/DBoW': 'DBoW', 'Silhouette Score': 0.0055454033, 'WSS Score': 420.03948974609375, 'Cluster Size': 5}\n",
            "Training doc2vec_dbow | vec_size=200 | window=8 | epochs=20 | k=9\n"
          ]
        },
        {
          "name": "stderr",
          "output_type": "stream",
          "text": [
            "\r 50%|████▉     | 107/216 [01:17<01:02,  1.73it/s]"
          ]
        },
        {
          "name": "stdout",
          "output_type": "stream",
          "text": [
            "{'Vectorizer Type': 'doc2vec_dbow', 'vector_size': 200, 'window': 8, 'Epochs Count': 20, 'CBoW/Skipgram OR DM/DBoW': 'DBoW', 'Silhouette Score': 0.0036107495, 'WSS Score': 413.62255859375, 'Cluster Size': 9}\n",
            "Training doc2vec_dbow | vec_size=200 | window=8 | epochs=20 | k=13\n"
          ]
        },
        {
          "name": "stderr",
          "output_type": "stream",
          "text": [
            "\r 50%|█████     | 108/216 [01:18<00:59,  1.81it/s]"
          ]
        },
        {
          "name": "stdout",
          "output_type": "stream",
          "text": [
            "{'Vectorizer Type': 'doc2vec_dbow', 'vector_size': 200, 'window': 8, 'Epochs Count': 20, 'CBoW/Skipgram OR DM/DBoW': 'DBoW', 'Silhouette Score': 0.0012092184, 'WSS Score': 408.2716064453125, 'Cluster Size': 13}\n",
            "Training word2vec_cbow | vec_size=200 | window=8 | epochs=40 | k=5\n"
          ]
        },
        {
          "name": "stderr",
          "output_type": "stream",
          "text": [
            "\r 50%|█████     | 109/216 [01:18<01:00,  1.77it/s]"
          ]
        },
        {
          "name": "stdout",
          "output_type": "stream",
          "text": [
            "{'Vectorizer Type': 'word2vec_cbow', 'vector_size': 200, 'window': 8, 'Epochs Count': 40, 'CBoW/Skipgram OR DM/DBoW': 'CBOW', 'Silhouette Score': 0.07319297, 'WSS Score': 3.6848840713500977, 'Cluster Size': 5}\n",
            "Training word2vec_cbow | vec_size=200 | window=8 | epochs=40 | k=9\n"
          ]
        },
        {
          "name": "stderr",
          "output_type": "stream",
          "text": [
            "\r 51%|█████     | 110/216 [01:19<01:02,  1.70it/s]"
          ]
        },
        {
          "name": "stdout",
          "output_type": "stream",
          "text": [
            "{'Vectorizer Type': 'word2vec_cbow', 'vector_size': 200, 'window': 8, 'Epochs Count': 40, 'CBoW/Skipgram OR DM/DBoW': 'CBOW', 'Silhouette Score': -0.0076316143, 'WSS Score': 3.3892927169799805, 'Cluster Size': 9}\n",
            "Training word2vec_cbow | vec_size=200 | window=8 | epochs=40 | k=13\n"
          ]
        },
        {
          "name": "stderr",
          "output_type": "stream",
          "text": [
            "\r 51%|█████▏    | 111/216 [01:20<01:04,  1.64it/s]"
          ]
        },
        {
          "name": "stdout",
          "output_type": "stream",
          "text": [
            "{'Vectorizer Type': 'word2vec_cbow', 'vector_size': 200, 'window': 8, 'Epochs Count': 40, 'CBoW/Skipgram OR DM/DBoW': 'CBOW', 'Silhouette Score': -0.021033665, 'WSS Score': 3.1901042461395264, 'Cluster Size': 13}\n",
            "Training word2vec_skipgram | vec_size=200 | window=8 | epochs=40 | k=5\n"
          ]
        },
        {
          "name": "stderr",
          "output_type": "stream",
          "text": [
            "\r 52%|█████▏    | 112/216 [01:21<01:35,  1.09it/s]"
          ]
        },
        {
          "name": "stdout",
          "output_type": "stream",
          "text": [
            "{'Vectorizer Type': 'word2vec_skipgram', 'vector_size': 200, 'window': 8, 'Epochs Count': 40, 'CBoW/Skipgram OR DM/DBoW': 'Skip-gram', 'Silhouette Score': 0.30095047, 'WSS Score': 11.528916358947754, 'Cluster Size': 5}\n",
            "Training word2vec_skipgram | vec_size=200 | window=8 | epochs=40 | k=9\n"
          ]
        },
        {
          "name": "stderr",
          "output_type": "stream",
          "text": [
            "\r 52%|█████▏    | 113/216 [01:23<02:03,  1.20s/it]"
          ]
        },
        {
          "name": "stdout",
          "output_type": "stream",
          "text": [
            "{'Vectorizer Type': 'word2vec_skipgram', 'vector_size': 200, 'window': 8, 'Epochs Count': 40, 'CBoW/Skipgram OR DM/DBoW': 'Skip-gram', 'Silhouette Score': 0.22667179, 'WSS Score': 8.737997055053711, 'Cluster Size': 9}\n",
            "Training word2vec_skipgram | vec_size=200 | window=8 | epochs=40 | k=13\n"
          ]
        },
        {
          "name": "stderr",
          "output_type": "stream",
          "text": [
            "\r 53%|█████▎    | 114/216 [01:25<02:08,  1.26s/it]"
          ]
        },
        {
          "name": "stdout",
          "output_type": "stream",
          "text": [
            "{'Vectorizer Type': 'word2vec_skipgram', 'vector_size': 200, 'window': 8, 'Epochs Count': 40, 'CBoW/Skipgram OR DM/DBoW': 'Skip-gram', 'Silhouette Score': 0.25376537, 'WSS Score': 7.0591206550598145, 'Cluster Size': 13}\n",
            "Training doc2vec_dm | vec_size=200 | window=8 | epochs=40 | k=5\n"
          ]
        },
        {
          "name": "stderr",
          "output_type": "stream",
          "text": [
            "\r 53%|█████▎    | 115/216 [01:26<02:02,  1.22s/it]"
          ]
        },
        {
          "name": "stdout",
          "output_type": "stream",
          "text": [
            "{'Vectorizer Type': 'doc2vec_dm', 'vector_size': 200, 'window': 8, 'Epochs Count': 40, 'CBoW/Skipgram OR DM/DBoW': 'DM', 'Silhouette Score': 0.04495125, 'WSS Score': 86.76056671142578, 'Cluster Size': 5}\n",
            "Training doc2vec_dm | vec_size=200 | window=8 | epochs=40 | k=9\n"
          ]
        },
        {
          "name": "stderr",
          "output_type": "stream",
          "text": [
            "\r 54%|█████▎    | 116/216 [01:27<01:59,  1.20s/it]"
          ]
        },
        {
          "name": "stdout",
          "output_type": "stream",
          "text": [
            "{'Vectorizer Type': 'doc2vec_dm', 'vector_size': 200, 'window': 8, 'Epochs Count': 40, 'CBoW/Skipgram OR DM/DBoW': 'DM', 'Silhouette Score': 0.05762679, 'WSS Score': 85.044189453125, 'Cluster Size': 9}\n",
            "Training doc2vec_dm | vec_size=200 | window=8 | epochs=40 | k=13\n"
          ]
        },
        {
          "name": "stderr",
          "output_type": "stream",
          "text": [
            "\r 54%|█████▍    | 117/216 [01:28<01:57,  1.19s/it]"
          ]
        },
        {
          "name": "stdout",
          "output_type": "stream",
          "text": [
            "{'Vectorizer Type': 'doc2vec_dm', 'vector_size': 200, 'window': 8, 'Epochs Count': 40, 'CBoW/Skipgram OR DM/DBoW': 'DM', 'Silhouette Score': -0.02603389, 'WSS Score': 83.31494140625, 'Cluster Size': 13}\n",
            "Training doc2vec_dbow | vec_size=200 | window=8 | epochs=40 | k=5\n"
          ]
        },
        {
          "name": "stderr",
          "output_type": "stream",
          "text": [
            "\r 55%|█████▍    | 118/216 [01:29<01:43,  1.06s/it]"
          ]
        },
        {
          "name": "stdout",
          "output_type": "stream",
          "text": [
            "{'Vectorizer Type': 'doc2vec_dbow', 'vector_size': 200, 'window': 8, 'Epochs Count': 40, 'CBoW/Skipgram OR DM/DBoW': 'DBoW', 'Silhouette Score': 0.002173842, 'WSS Score': 130.8131866455078, 'Cluster Size': 5}\n",
            "Training doc2vec_dbow | vec_size=200 | window=8 | epochs=40 | k=9\n"
          ]
        },
        {
          "name": "stderr",
          "output_type": "stream",
          "text": [
            "\r 55%|█████▌    | 119/216 [01:29<01:34,  1.03it/s]"
          ]
        },
        {
          "name": "stdout",
          "output_type": "stream",
          "text": [
            "{'Vectorizer Type': 'doc2vec_dbow', 'vector_size': 200, 'window': 8, 'Epochs Count': 40, 'CBoW/Skipgram OR DM/DBoW': 'DBoW', 'Silhouette Score': -0.01485165, 'WSS Score': 128.5835723876953, 'Cluster Size': 9}\n",
            "Training doc2vec_dbow | vec_size=200 | window=8 | epochs=40 | k=13\n"
          ]
        },
        {
          "name": "stderr",
          "output_type": "stream",
          "text": [
            "\r 56%|█████▌    | 120/216 [01:30<01:28,  1.08it/s]"
          ]
        },
        {
          "name": "stdout",
          "output_type": "stream",
          "text": [
            "{'Vectorizer Type': 'doc2vec_dbow', 'vector_size': 200, 'window': 8, 'Epochs Count': 40, 'CBoW/Skipgram OR DM/DBoW': 'DBoW', 'Silhouette Score': -0.03464246, 'WSS Score': 126.412109375, 'Cluster Size': 13}\n",
            "Training word2vec_cbow | vec_size=200 | window=10 | epochs=20 | k=5\n"
          ]
        },
        {
          "name": "stderr",
          "output_type": "stream",
          "text": [
            "\r 56%|█████▌    | 121/216 [01:31<01:12,  1.31it/s]"
          ]
        },
        {
          "name": "stdout",
          "output_type": "stream",
          "text": [
            "{'Vectorizer Type': 'word2vec_cbow', 'vector_size': 200, 'window': 10, 'Epochs Count': 20, 'CBoW/Skipgram OR DM/DBoW': 'CBOW', 'Silhouette Score': -0.032263394, 'WSS Score': 229.1304931640625, 'Cluster Size': 5}\n",
            "Training word2vec_cbow | vec_size=200 | window=10 | epochs=20 | k=9\n"
          ]
        },
        {
          "name": "stderr",
          "output_type": "stream",
          "text": [
            "\r 56%|█████▋    | 122/216 [01:31<01:01,  1.52it/s]"
          ]
        },
        {
          "name": "stdout",
          "output_type": "stream",
          "text": [
            "{'Vectorizer Type': 'word2vec_cbow', 'vector_size': 200, 'window': 10, 'Epochs Count': 20, 'CBoW/Skipgram OR DM/DBoW': 'CBOW', 'Silhouette Score': 0.007137858, 'WSS Score': 222.85714721679688, 'Cluster Size': 9}\n",
            "Training word2vec_cbow | vec_size=200 | window=10 | epochs=20 | k=13\n"
          ]
        },
        {
          "name": "stderr",
          "output_type": "stream",
          "text": [
            "\r 57%|█████▋    | 123/216 [01:32<00:55,  1.67it/s]"
          ]
        },
        {
          "name": "stdout",
          "output_type": "stream",
          "text": [
            "{'Vectorizer Type': 'word2vec_cbow', 'vector_size': 200, 'window': 10, 'Epochs Count': 20, 'CBoW/Skipgram OR DM/DBoW': 'CBOW', 'Silhouette Score': -0.01378988, 'WSS Score': 217.90325927734375, 'Cluster Size': 13}\n",
            "Training word2vec_skipgram | vec_size=200 | window=10 | epochs=20 | k=5\n"
          ]
        },
        {
          "name": "stderr",
          "output_type": "stream",
          "text": [
            "\r 57%|█████▋    | 124/216 [01:32<01:00,  1.52it/s]"
          ]
        },
        {
          "name": "stdout",
          "output_type": "stream",
          "text": [
            "{'Vectorizer Type': 'word2vec_skipgram', 'vector_size': 200, 'window': 10, 'Epochs Count': 20, 'CBoW/Skipgram OR DM/DBoW': 'Skip-gram', 'Silhouette Score': 0.041268837, 'WSS Score': 0.607840895652771, 'Cluster Size': 5}\n",
            "Training word2vec_skipgram | vec_size=200 | window=10 | epochs=20 | k=9\n"
          ]
        },
        {
          "name": "stderr",
          "output_type": "stream",
          "text": [
            "\r 58%|█████▊    | 125/216 [01:33<01:11,  1.27it/s]"
          ]
        },
        {
          "name": "stdout",
          "output_type": "stream",
          "text": [
            "{'Vectorizer Type': 'word2vec_skipgram', 'vector_size': 200, 'window': 10, 'Epochs Count': 20, 'CBoW/Skipgram OR DM/DBoW': 'Skip-gram', 'Silhouette Score': 0.042608943, 'WSS Score': 0.5689213275909424, 'Cluster Size': 9}\n",
            "Training word2vec_skipgram | vec_size=200 | window=10 | epochs=20 | k=13\n"
          ]
        },
        {
          "name": "stderr",
          "output_type": "stream",
          "text": [
            "\r 58%|█████▊    | 126/216 [01:35<01:24,  1.06it/s]"
          ]
        },
        {
          "name": "stdout",
          "output_type": "stream",
          "text": [
            "{'Vectorizer Type': 'word2vec_skipgram', 'vector_size': 200, 'window': 10, 'Epochs Count': 20, 'CBoW/Skipgram OR DM/DBoW': 'Skip-gram', 'Silhouette Score': 0.023765573, 'WSS Score': 0.534018337726593, 'Cluster Size': 13}\n",
            "Training doc2vec_dm | vec_size=200 | window=10 | epochs=20 | k=5\n"
          ]
        },
        {
          "name": "stderr",
          "output_type": "stream",
          "text": [
            "\r 59%|█████▉    | 127/216 [01:36<01:19,  1.12it/s]"
          ]
        },
        {
          "name": "stdout",
          "output_type": "stream",
          "text": [
            "{'Vectorizer Type': 'doc2vec_dm', 'vector_size': 200, 'window': 10, 'Epochs Count': 20, 'CBoW/Skipgram OR DM/DBoW': 'DM', 'Silhouette Score': 0.0046976213, 'WSS Score': 431.54949951171875, 'Cluster Size': 5}\n",
            "Training doc2vec_dm | vec_size=200 | window=10 | epochs=20 | k=9\n"
          ]
        },
        {
          "name": "stderr",
          "output_type": "stream",
          "text": [
            "\r 59%|█████▉    | 128/216 [01:36<01:12,  1.21it/s]"
          ]
        },
        {
          "name": "stdout",
          "output_type": "stream",
          "text": [
            "{'Vectorizer Type': 'doc2vec_dm', 'vector_size': 200, 'window': 10, 'Epochs Count': 20, 'CBoW/Skipgram OR DM/DBoW': 'DM', 'Silhouette Score': 0.0036171253, 'WSS Score': 424.6391296386719, 'Cluster Size': 9}\n",
            "Training doc2vec_dm | vec_size=200 | window=10 | epochs=20 | k=13\n"
          ]
        },
        {
          "name": "stderr",
          "output_type": "stream",
          "text": [
            "\r 60%|█████▉    | 129/216 [01:37<01:08,  1.27it/s]"
          ]
        },
        {
          "name": "stdout",
          "output_type": "stream",
          "text": [
            "{'Vectorizer Type': 'doc2vec_dm', 'vector_size': 200, 'window': 10, 'Epochs Count': 20, 'CBoW/Skipgram OR DM/DBoW': 'DM', 'Silhouette Score': 0.00156188, 'WSS Score': 419.2996520996094, 'Cluster Size': 13}\n",
            "Training doc2vec_dbow | vec_size=200 | window=10 | epochs=20 | k=5\n"
          ]
        },
        {
          "name": "stderr",
          "output_type": "stream",
          "text": [
            "\r 60%|██████    | 130/216 [01:37<00:58,  1.46it/s]"
          ]
        },
        {
          "name": "stdout",
          "output_type": "stream",
          "text": [
            "{'Vectorizer Type': 'doc2vec_dbow', 'vector_size': 200, 'window': 10, 'Epochs Count': 20, 'CBoW/Skipgram OR DM/DBoW': 'DBoW', 'Silhouette Score': 0.0055454033, 'WSS Score': 420.03948974609375, 'Cluster Size': 5}\n",
            "Training doc2vec_dbow | vec_size=200 | window=10 | epochs=20 | k=9\n"
          ]
        },
        {
          "name": "stderr",
          "output_type": "stream",
          "text": [
            "\r 61%|██████    | 131/216 [01:38<00:53,  1.58it/s]"
          ]
        },
        {
          "name": "stdout",
          "output_type": "stream",
          "text": [
            "{'Vectorizer Type': 'doc2vec_dbow', 'vector_size': 200, 'window': 10, 'Epochs Count': 20, 'CBoW/Skipgram OR DM/DBoW': 'DBoW', 'Silhouette Score': 0.0036107495, 'WSS Score': 413.62255859375, 'Cluster Size': 9}\n",
            "Training doc2vec_dbow | vec_size=200 | window=10 | epochs=20 | k=13\n"
          ]
        },
        {
          "name": "stderr",
          "output_type": "stream",
          "text": [
            "\r 61%|██████    | 132/216 [01:38<00:49,  1.68it/s]"
          ]
        },
        {
          "name": "stdout",
          "output_type": "stream",
          "text": [
            "{'Vectorizer Type': 'doc2vec_dbow', 'vector_size': 200, 'window': 10, 'Epochs Count': 20, 'CBoW/Skipgram OR DM/DBoW': 'DBoW', 'Silhouette Score': 0.0012092184, 'WSS Score': 408.2716064453125, 'Cluster Size': 13}\n",
            "Training word2vec_cbow | vec_size=200 | window=10 | epochs=40 | k=5\n"
          ]
        },
        {
          "name": "stderr",
          "output_type": "stream",
          "text": [
            "\r 62%|██████▏   | 133/216 [01:39<00:48,  1.70it/s]"
          ]
        },
        {
          "name": "stdout",
          "output_type": "stream",
          "text": [
            "{'Vectorizer Type': 'word2vec_cbow', 'vector_size': 200, 'window': 10, 'Epochs Count': 40, 'CBoW/Skipgram OR DM/DBoW': 'CBOW', 'Silhouette Score': 0.18288645, 'WSS Score': 2.50882887840271, 'Cluster Size': 5}\n",
            "Training word2vec_cbow | vec_size=200 | window=10 | epochs=40 | k=9\n"
          ]
        },
        {
          "name": "stderr",
          "output_type": "stream",
          "text": [
            "\r 62%|██████▏   | 134/216 [01:40<00:48,  1.68it/s]"
          ]
        },
        {
          "name": "stdout",
          "output_type": "stream",
          "text": [
            "{'Vectorizer Type': 'word2vec_cbow', 'vector_size': 200, 'window': 10, 'Epochs Count': 40, 'CBoW/Skipgram OR DM/DBoW': 'CBOW', 'Silhouette Score': 0.06265134, 'WSS Score': 2.3446879386901855, 'Cluster Size': 9}\n",
            "Training word2vec_cbow | vec_size=200 | window=10 | epochs=40 | k=13\n"
          ]
        },
        {
          "name": "stderr",
          "output_type": "stream",
          "text": [
            "\r 62%|██████▎   | 135/216 [01:40<00:49,  1.63it/s]"
          ]
        },
        {
          "name": "stdout",
          "output_type": "stream",
          "text": [
            "{'Vectorizer Type': 'word2vec_cbow', 'vector_size': 200, 'window': 10, 'Epochs Count': 40, 'CBoW/Skipgram OR DM/DBoW': 'CBOW', 'Silhouette Score': -0.00041159574, 'WSS Score': 2.2358644008636475, 'Cluster Size': 13}\n",
            "Training word2vec_skipgram | vec_size=200 | window=10 | epochs=40 | k=5\n"
          ]
        },
        {
          "name": "stderr",
          "output_type": "stream",
          "text": [
            "\r 63%|██████▎   | 136/216 [01:42<01:08,  1.17it/s]"
          ]
        },
        {
          "name": "stdout",
          "output_type": "stream",
          "text": [
            "{'Vectorizer Type': 'word2vec_skipgram', 'vector_size': 200, 'window': 10, 'Epochs Count': 40, 'CBoW/Skipgram OR DM/DBoW': 'Skip-gram', 'Silhouette Score': 0.22471726, 'WSS Score': 18.829936981201172, 'Cluster Size': 5}\n",
            "Training word2vec_skipgram | vec_size=200 | window=10 | epochs=40 | k=9\n"
          ]
        },
        {
          "name": "stderr",
          "output_type": "stream",
          "text": [
            "\r 63%|██████▎   | 137/216 [01:43<01:21,  1.03s/it]"
          ]
        },
        {
          "name": "stdout",
          "output_type": "stream",
          "text": [
            "{'Vectorizer Type': 'word2vec_skipgram', 'vector_size': 200, 'window': 10, 'Epochs Count': 40, 'CBoW/Skipgram OR DM/DBoW': 'Skip-gram', 'Silhouette Score': 0.22837645, 'WSS Score': 14.609210014343262, 'Cluster Size': 9}\n",
            "Training word2vec_skipgram | vec_size=200 | window=10 | epochs=40 | k=13\n"
          ]
        },
        {
          "name": "stderr",
          "output_type": "stream",
          "text": [
            "\r 64%|██████▍   | 138/216 [01:45<01:30,  1.16s/it]"
          ]
        },
        {
          "name": "stdout",
          "output_type": "stream",
          "text": [
            "{'Vectorizer Type': 'word2vec_skipgram', 'vector_size': 200, 'window': 10, 'Epochs Count': 40, 'CBoW/Skipgram OR DM/DBoW': 'Skip-gram', 'Silhouette Score': 0.2406842, 'WSS Score': 11.777652740478516, 'Cluster Size': 13}\n",
            "Training doc2vec_dm | vec_size=200 | window=10 | epochs=40 | k=5\n"
          ]
        },
        {
          "name": "stderr",
          "output_type": "stream",
          "text": [
            "\r 64%|██████▍   | 139/216 [01:46<01:36,  1.26s/it]"
          ]
        },
        {
          "name": "stdout",
          "output_type": "stream",
          "text": [
            "{'Vectorizer Type': 'doc2vec_dm', 'vector_size': 200, 'window': 10, 'Epochs Count': 40, 'CBoW/Skipgram OR DM/DBoW': 'DM', 'Silhouette Score': 0.008993401, 'WSS Score': 69.4661865234375, 'Cluster Size': 5}\n",
            "Training doc2vec_dm | vec_size=200 | window=10 | epochs=40 | k=9\n"
          ]
        },
        {
          "name": "stderr",
          "output_type": "stream",
          "text": [
            "\r 65%|██████▍   | 140/216 [01:48<01:59,  1.58s/it]"
          ]
        },
        {
          "name": "stdout",
          "output_type": "stream",
          "text": [
            "{'Vectorizer Type': 'doc2vec_dm', 'vector_size': 200, 'window': 10, 'Epochs Count': 40, 'CBoW/Skipgram OR DM/DBoW': 'DM', 'Silhouette Score': -0.008065948, 'WSS Score': 67.82940673828125, 'Cluster Size': 9}\n",
            "Training doc2vec_dm | vec_size=200 | window=10 | epochs=40 | k=13\n"
          ]
        },
        {
          "name": "stderr",
          "output_type": "stream",
          "text": [
            "\r 65%|██████▌   | 141/216 [01:50<01:58,  1.58s/it]"
          ]
        },
        {
          "name": "stdout",
          "output_type": "stream",
          "text": [
            "{'Vectorizer Type': 'doc2vec_dm', 'vector_size': 200, 'window': 10, 'Epochs Count': 40, 'CBoW/Skipgram OR DM/DBoW': 'DM', 'Silhouette Score': 0.011268654, 'WSS Score': 66.71449279785156, 'Cluster Size': 13}\n",
            "Training doc2vec_dbow | vec_size=200 | window=10 | epochs=40 | k=5\n"
          ]
        },
        {
          "name": "stderr",
          "output_type": "stream",
          "text": [
            "\r 66%|██████▌   | 142/216 [01:51<01:38,  1.33s/it]"
          ]
        },
        {
          "name": "stdout",
          "output_type": "stream",
          "text": [
            "{'Vectorizer Type': 'doc2vec_dbow', 'vector_size': 200, 'window': 10, 'Epochs Count': 40, 'CBoW/Skipgram OR DM/DBoW': 'DBoW', 'Silhouette Score': 0.002173842, 'WSS Score': 130.8131866455078, 'Cluster Size': 5}\n",
            "Training doc2vec_dbow | vec_size=200 | window=10 | epochs=40 | k=9\n"
          ]
        },
        {
          "name": "stderr",
          "output_type": "stream",
          "text": [
            "\r 66%|██████▌   | 143/216 [01:51<01:25,  1.17s/it]"
          ]
        },
        {
          "name": "stdout",
          "output_type": "stream",
          "text": [
            "{'Vectorizer Type': 'doc2vec_dbow', 'vector_size': 200, 'window': 10, 'Epochs Count': 40, 'CBoW/Skipgram OR DM/DBoW': 'DBoW', 'Silhouette Score': -0.01485165, 'WSS Score': 128.5835723876953, 'Cluster Size': 9}\n",
            "Training doc2vec_dbow | vec_size=200 | window=10 | epochs=40 | k=13\n"
          ]
        },
        {
          "name": "stderr",
          "output_type": "stream",
          "text": [
            "\r 67%|██████▋   | 144/216 [01:52<01:16,  1.06s/it]"
          ]
        },
        {
          "name": "stdout",
          "output_type": "stream",
          "text": [
            "{'Vectorizer Type': 'doc2vec_dbow', 'vector_size': 200, 'window': 10, 'Epochs Count': 40, 'CBoW/Skipgram OR DM/DBoW': 'DBoW', 'Silhouette Score': -0.03464246, 'WSS Score': 126.412109375, 'Cluster Size': 13}\n",
            "Training word2vec_cbow | vec_size=300 | window=5 | epochs=20 | k=5\n"
          ]
        },
        {
          "name": "stderr",
          "output_type": "stream",
          "text": [
            "\r 67%|██████▋   | 145/216 [01:53<01:02,  1.14it/s]"
          ]
        },
        {
          "name": "stdout",
          "output_type": "stream",
          "text": [
            "{'Vectorizer Type': 'word2vec_cbow', 'vector_size': 300, 'window': 5, 'Epochs Count': 20, 'CBoW/Skipgram OR DM/DBoW': 'CBOW', 'Silhouette Score': -0.027439706, 'WSS Score': 297.6341247558594, 'Cluster Size': 5}\n",
            "Training word2vec_cbow | vec_size=300 | window=5 | epochs=20 | k=9\n"
          ]
        },
        {
          "name": "stderr",
          "output_type": "stream",
          "text": [
            "\r 68%|██████▊   | 146/216 [01:53<00:52,  1.33it/s]"
          ]
        },
        {
          "name": "stdout",
          "output_type": "stream",
          "text": [
            "{'Vectorizer Type': 'word2vec_cbow', 'vector_size': 300, 'window': 5, 'Epochs Count': 20, 'CBoW/Skipgram OR DM/DBoW': 'CBOW', 'Silhouette Score': -0.018837081, 'WSS Score': 289.2684631347656, 'Cluster Size': 9}\n",
            "Training word2vec_cbow | vec_size=300 | window=5 | epochs=20 | k=13\n"
          ]
        },
        {
          "name": "stderr",
          "output_type": "stream",
          "text": [
            "\r 68%|██████▊   | 147/216 [01:54<00:46,  1.47it/s]"
          ]
        },
        {
          "name": "stdout",
          "output_type": "stream",
          "text": [
            "{'Vectorizer Type': 'word2vec_cbow', 'vector_size': 300, 'window': 5, 'Epochs Count': 20, 'CBoW/Skipgram OR DM/DBoW': 'CBOW', 'Silhouette Score': -0.008983654, 'WSS Score': 283.8287353515625, 'Cluster Size': 13}\n",
            "Training word2vec_skipgram | vec_size=300 | window=5 | epochs=20 | k=5\n"
          ]
        },
        {
          "name": "stderr",
          "output_type": "stream",
          "text": [
            "\r 69%|██████▊   | 148/216 [01:54<00:48,  1.42it/s]"
          ]
        },
        {
          "name": "stdout",
          "output_type": "stream",
          "text": [
            "{'Vectorizer Type': 'word2vec_skipgram', 'vector_size': 300, 'window': 5, 'Epochs Count': 20, 'CBoW/Skipgram OR DM/DBoW': 'Skip-gram', 'Silhouette Score': 0.07438506, 'WSS Score': 5.928328990936279, 'Cluster Size': 5}\n",
            "Training word2vec_skipgram | vec_size=300 | window=5 | epochs=20 | k=9\n"
          ]
        },
        {
          "name": "stderr",
          "output_type": "stream",
          "text": [
            "\r 69%|██████▉   | 149/216 [01:55<00:49,  1.36it/s]"
          ]
        },
        {
          "name": "stdout",
          "output_type": "stream",
          "text": [
            "{'Vectorizer Type': 'word2vec_skipgram', 'vector_size': 300, 'window': 5, 'Epochs Count': 20, 'CBoW/Skipgram OR DM/DBoW': 'Skip-gram', 'Silhouette Score': 0.021957291, 'WSS Score': 5.769075393676758, 'Cluster Size': 9}\n",
            "Training word2vec_skipgram | vec_size=300 | window=5 | epochs=20 | k=13\n"
          ]
        },
        {
          "name": "stderr",
          "output_type": "stream",
          "text": [
            "\r 69%|██████▉   | 150/216 [01:56<00:50,  1.30it/s]"
          ]
        },
        {
          "name": "stdout",
          "output_type": "stream",
          "text": [
            "{'Vectorizer Type': 'word2vec_skipgram', 'vector_size': 300, 'window': 5, 'Epochs Count': 20, 'CBoW/Skipgram OR DM/DBoW': 'Skip-gram', 'Silhouette Score': 0.0024014704, 'WSS Score': 5.388380527496338, 'Cluster Size': 13}\n",
            "Training doc2vec_dm | vec_size=300 | window=5 | epochs=20 | k=5\n"
          ]
        },
        {
          "name": "stderr",
          "output_type": "stream",
          "text": [
            "\r 70%|██████▉   | 151/216 [01:57<00:48,  1.33it/s]"
          ]
        },
        {
          "name": "stdout",
          "output_type": "stream",
          "text": [
            "{'Vectorizer Type': 'doc2vec_dm', 'vector_size': 300, 'window': 5, 'Epochs Count': 20, 'CBoW/Skipgram OR DM/DBoW': 'DM', 'Silhouette Score': 0.0035284865, 'WSS Score': 434.7449645996094, 'Cluster Size': 5}\n",
            "Training doc2vec_dm | vec_size=300 | window=5 | epochs=20 | k=9\n"
          ]
        },
        {
          "name": "stderr",
          "output_type": "stream",
          "text": [
            "\r 70%|███████   | 152/216 [01:58<00:47,  1.34it/s]"
          ]
        },
        {
          "name": "stdout",
          "output_type": "stream",
          "text": [
            "{'Vectorizer Type': 'doc2vec_dm', 'vector_size': 300, 'window': 5, 'Epochs Count': 20, 'CBoW/Skipgram OR DM/DBoW': 'DM', 'Silhouette Score': 0.0016532148, 'WSS Score': 429.3981018066406, 'Cluster Size': 9}\n",
            "Training doc2vec_dm | vec_size=300 | window=5 | epochs=20 | k=13\n"
          ]
        },
        {
          "name": "stderr",
          "output_type": "stream",
          "text": [
            "\r 71%|███████   | 153/216 [01:58<00:46,  1.35it/s]"
          ]
        },
        {
          "name": "stdout",
          "output_type": "stream",
          "text": [
            "{'Vectorizer Type': 'doc2vec_dm', 'vector_size': 300, 'window': 5, 'Epochs Count': 20, 'CBoW/Skipgram OR DM/DBoW': 'DM', 'Silhouette Score': 0.0002567509, 'WSS Score': 424.36309814453125, 'Cluster Size': 13}\n",
            "Training doc2vec_dbow | vec_size=300 | window=5 | epochs=20 | k=5\n"
          ]
        },
        {
          "name": "stderr",
          "output_type": "stream",
          "text": [
            "\r 71%|███████▏  | 154/216 [01:59<00:46,  1.33it/s]"
          ]
        },
        {
          "name": "stdout",
          "output_type": "stream",
          "text": [
            "{'Vectorizer Type': 'doc2vec_dbow', 'vector_size': 300, 'window': 5, 'Epochs Count': 20, 'CBoW/Skipgram OR DM/DBoW': 'DBoW', 'Silhouette Score': 0.003078464, 'WSS Score': 424.2949523925781, 'Cluster Size': 5}\n",
            "Training doc2vec_dbow | vec_size=300 | window=5 | epochs=20 | k=9\n"
          ]
        },
        {
          "name": "stderr",
          "output_type": "stream",
          "text": [
            "\r 72%|███████▏  | 155/216 [02:00<00:48,  1.27it/s]"
          ]
        },
        {
          "name": "stdout",
          "output_type": "stream",
          "text": [
            "{'Vectorizer Type': 'doc2vec_dbow', 'vector_size': 300, 'window': 5, 'Epochs Count': 20, 'CBoW/Skipgram OR DM/DBoW': 'DBoW', 'Silhouette Score': 0.0010209191, 'WSS Score': 419.22869873046875, 'Cluster Size': 9}\n",
            "Training doc2vec_dbow | vec_size=300 | window=5 | epochs=20 | k=13\n"
          ]
        },
        {
          "name": "stderr",
          "output_type": "stream",
          "text": [
            "\r 72%|███████▏  | 156/216 [02:01<00:50,  1.19it/s]"
          ]
        },
        {
          "name": "stdout",
          "output_type": "stream",
          "text": [
            "{'Vectorizer Type': 'doc2vec_dbow', 'vector_size': 300, 'window': 5, 'Epochs Count': 20, 'CBoW/Skipgram OR DM/DBoW': 'DBoW', 'Silhouette Score': -6.425923e-05, 'WSS Score': 413.9142761230469, 'Cluster Size': 13}\n",
            "Training word2vec_cbow | vec_size=300 | window=5 | epochs=40 | k=5\n"
          ]
        },
        {
          "name": "stderr",
          "output_type": "stream",
          "text": [
            "\r 73%|███████▎  | 157/216 [02:02<00:46,  1.28it/s]"
          ]
        },
        {
          "name": "stdout",
          "output_type": "stream",
          "text": [
            "{'Vectorizer Type': 'word2vec_cbow', 'vector_size': 300, 'window': 5, 'Epochs Count': 40, 'CBoW/Skipgram OR DM/DBoW': 'CBOW', 'Silhouette Score': 0.110029966, 'WSS Score': 10.37117862701416, 'Cluster Size': 5}\n",
            "Training word2vec_cbow | vec_size=300 | window=5 | epochs=40 | k=9\n"
          ]
        },
        {
          "name": "stderr",
          "output_type": "stream",
          "text": [
            "\r 73%|███████▎  | 158/216 [02:02<00:43,  1.32it/s]"
          ]
        },
        {
          "name": "stdout",
          "output_type": "stream",
          "text": [
            "{'Vectorizer Type': 'word2vec_cbow', 'vector_size': 300, 'window': 5, 'Epochs Count': 40, 'CBoW/Skipgram OR DM/DBoW': 'CBOW', 'Silhouette Score': 0.005888395, 'WSS Score': 9.864471435546875, 'Cluster Size': 9}\n",
            "Training word2vec_cbow | vec_size=300 | window=5 | epochs=40 | k=13\n"
          ]
        },
        {
          "name": "stderr",
          "output_type": "stream",
          "text": [
            "\r 74%|███████▎  | 159/216 [02:03<00:42,  1.34it/s]"
          ]
        },
        {
          "name": "stdout",
          "output_type": "stream",
          "text": [
            "{'Vectorizer Type': 'word2vec_cbow', 'vector_size': 300, 'window': 5, 'Epochs Count': 40, 'CBoW/Skipgram OR DM/DBoW': 'CBOW', 'Silhouette Score': 0.06842262, 'WSS Score': 9.377386093139648, 'Cluster Size': 13}\n",
            "Training word2vec_skipgram | vec_size=300 | window=5 | epochs=40 | k=5\n"
          ]
        },
        {
          "name": "stderr",
          "output_type": "stream",
          "text": [
            "\r 74%|███████▍  | 160/216 [02:04<00:51,  1.08it/s]"
          ]
        },
        {
          "name": "stdout",
          "output_type": "stream",
          "text": [
            "{'Vectorizer Type': 'word2vec_skipgram', 'vector_size': 300, 'window': 5, 'Epochs Count': 40, 'CBoW/Skipgram OR DM/DBoW': 'Skip-gram', 'Silhouette Score': 0.4072118, 'WSS Score': 1.4092007875442505, 'Cluster Size': 5}\n",
            "Training word2vec_skipgram | vec_size=300 | window=5 | epochs=40 | k=9\n"
          ]
        },
        {
          "name": "stderr",
          "output_type": "stream",
          "text": [
            "\r 75%|███████▍  | 161/216 [02:06<00:58,  1.06s/it]"
          ]
        },
        {
          "name": "stdout",
          "output_type": "stream",
          "text": [
            "{'Vectorizer Type': 'word2vec_skipgram', 'vector_size': 300, 'window': 5, 'Epochs Count': 40, 'CBoW/Skipgram OR DM/DBoW': 'Skip-gram', 'Silhouette Score': 0.18275408, 'WSS Score': 1.1007193326950073, 'Cluster Size': 9}\n",
            "Training word2vec_skipgram | vec_size=300 | window=5 | epochs=40 | k=13\n"
          ]
        },
        {
          "name": "stderr",
          "output_type": "stream",
          "text": [
            "\r 75%|███████▌  | 162/216 [02:07<01:02,  1.16s/it]"
          ]
        },
        {
          "name": "stdout",
          "output_type": "stream",
          "text": [
            "{'Vectorizer Type': 'word2vec_skipgram', 'vector_size': 300, 'window': 5, 'Epochs Count': 40, 'CBoW/Skipgram OR DM/DBoW': 'Skip-gram', 'Silhouette Score': 0.19406667, 'WSS Score': 0.9112012386322021, 'Cluster Size': 13}\n",
            "Training doc2vec_dm | vec_size=300 | window=5 | epochs=40 | k=5\n"
          ]
        },
        {
          "name": "stderr",
          "output_type": "stream",
          "text": [
            "\r 75%|███████▌  | 163/216 [02:08<01:03,  1.20s/it]"
          ]
        },
        {
          "name": "stdout",
          "output_type": "stream",
          "text": [
            "{'Vectorizer Type': 'doc2vec_dm', 'vector_size': 300, 'window': 5, 'Epochs Count': 40, 'CBoW/Skipgram OR DM/DBoW': 'DM', 'Silhouette Score': 0.00908679, 'WSS Score': 137.30715942382812, 'Cluster Size': 5}\n",
            "Training doc2vec_dm | vec_size=300 | window=5 | epochs=40 | k=9\n"
          ]
        },
        {
          "name": "stderr",
          "output_type": "stream",
          "text": [
            "\r 76%|███████▌  | 164/216 [02:10<01:04,  1.23s/it]"
          ]
        },
        {
          "name": "stdout",
          "output_type": "stream",
          "text": [
            "{'Vectorizer Type': 'doc2vec_dm', 'vector_size': 300, 'window': 5, 'Epochs Count': 40, 'CBoW/Skipgram OR DM/DBoW': 'DM', 'Silhouette Score': 0.02923032, 'WSS Score': 135.0906524658203, 'Cluster Size': 9}\n",
            "Training doc2vec_dm | vec_size=300 | window=5 | epochs=40 | k=13\n"
          ]
        },
        {
          "name": "stderr",
          "output_type": "stream",
          "text": [
            "\r 76%|███████▋  | 165/216 [02:11<01:05,  1.28s/it]"
          ]
        },
        {
          "name": "stdout",
          "output_type": "stream",
          "text": [
            "{'Vectorizer Type': 'doc2vec_dm', 'vector_size': 300, 'window': 5, 'Epochs Count': 40, 'CBoW/Skipgram OR DM/DBoW': 'DM', 'Silhouette Score': -0.0019114855, 'WSS Score': 132.413330078125, 'Cluster Size': 13}\n",
            "Training doc2vec_dbow | vec_size=300 | window=5 | epochs=40 | k=5\n"
          ]
        },
        {
          "name": "stderr",
          "output_type": "stream",
          "text": [
            "\r 77%|███████▋  | 166/216 [02:12<01:04,  1.29s/it]"
          ]
        },
        {
          "name": "stdout",
          "output_type": "stream",
          "text": [
            "{'Vectorizer Type': 'doc2vec_dbow', 'vector_size': 300, 'window': 5, 'Epochs Count': 40, 'CBoW/Skipgram OR DM/DBoW': 'DBoW', 'Silhouette Score': 0.022568287, 'WSS Score': 140.20904541015625, 'Cluster Size': 5}\n",
            "Training doc2vec_dbow | vec_size=300 | window=5 | epochs=40 | k=9\n"
          ]
        },
        {
          "name": "stderr",
          "output_type": "stream",
          "text": [
            "\r 77%|███████▋  | 167/216 [02:14<01:01,  1.26s/it]"
          ]
        },
        {
          "name": "stdout",
          "output_type": "stream",
          "text": [
            "{'Vectorizer Type': 'doc2vec_dbow', 'vector_size': 300, 'window': 5, 'Epochs Count': 40, 'CBoW/Skipgram OR DM/DBoW': 'DBoW', 'Silhouette Score': 0.016460884, 'WSS Score': 138.11219787597656, 'Cluster Size': 9}\n",
            "Training doc2vec_dbow | vec_size=300 | window=5 | epochs=40 | k=13\n"
          ]
        },
        {
          "name": "stderr",
          "output_type": "stream",
          "text": [
            "\r 78%|███████▊  | 168/216 [02:14<00:55,  1.15s/it]"
          ]
        },
        {
          "name": "stdout",
          "output_type": "stream",
          "text": [
            "{'Vectorizer Type': 'doc2vec_dbow', 'vector_size': 300, 'window': 5, 'Epochs Count': 40, 'CBoW/Skipgram OR DM/DBoW': 'DBoW', 'Silhouette Score': -0.006012657, 'WSS Score': 135.67864990234375, 'Cluster Size': 13}\n",
            "Training word2vec_cbow | vec_size=300 | window=8 | epochs=20 | k=5\n"
          ]
        },
        {
          "name": "stderr",
          "output_type": "stream",
          "text": [
            "\r 78%|███████▊  | 169/216 [02:15<00:44,  1.07it/s]"
          ]
        },
        {
          "name": "stdout",
          "output_type": "stream",
          "text": [
            "{'Vectorizer Type': 'word2vec_cbow', 'vector_size': 300, 'window': 8, 'Epochs Count': 20, 'CBoW/Skipgram OR DM/DBoW': 'CBOW', 'Silhouette Score': 0.032797426, 'WSS Score': 244.009521484375, 'Cluster Size': 5}\n",
            "Training word2vec_cbow | vec_size=300 | window=8 | epochs=20 | k=9\n"
          ]
        },
        {
          "name": "stderr",
          "output_type": "stream",
          "text": [
            "\r 79%|███████▊  | 170/216 [02:15<00:36,  1.25it/s]"
          ]
        },
        {
          "name": "stdout",
          "output_type": "stream",
          "text": [
            "{'Vectorizer Type': 'word2vec_cbow', 'vector_size': 300, 'window': 8, 'Epochs Count': 20, 'CBoW/Skipgram OR DM/DBoW': 'CBOW', 'Silhouette Score': -0.0155511815, 'WSS Score': 238.06463623046875, 'Cluster Size': 9}\n",
            "Training word2vec_cbow | vec_size=300 | window=8 | epochs=20 | k=13\n"
          ]
        },
        {
          "name": "stderr",
          "output_type": "stream",
          "text": [
            "\r 79%|███████▉  | 171/216 [02:16<00:32,  1.40it/s]"
          ]
        },
        {
          "name": "stdout",
          "output_type": "stream",
          "text": [
            "{'Vectorizer Type': 'word2vec_cbow', 'vector_size': 300, 'window': 8, 'Epochs Count': 20, 'CBoW/Skipgram OR DM/DBoW': 'CBOW', 'Silhouette Score': -0.0012070305, 'WSS Score': 233.3120880126953, 'Cluster Size': 13}\n",
            "Training word2vec_skipgram | vec_size=300 | window=8 | epochs=20 | k=5\n"
          ]
        },
        {
          "name": "stderr",
          "output_type": "stream",
          "text": [
            "\r 80%|███████▉  | 172/216 [02:17<00:33,  1.30it/s]"
          ]
        },
        {
          "name": "stdout",
          "output_type": "stream",
          "text": [
            "{'Vectorizer Type': 'word2vec_skipgram', 'vector_size': 300, 'window': 8, 'Epochs Count': 20, 'CBoW/Skipgram OR DM/DBoW': 'Skip-gram', 'Silhouette Score': 0.07604551, 'WSS Score': 0.8116797208786011, 'Cluster Size': 5}\n",
            "Training word2vec_skipgram | vec_size=300 | window=8 | epochs=20 | k=9\n"
          ]
        },
        {
          "name": "stderr",
          "output_type": "stream",
          "text": [
            "\r 80%|████████  | 173/216 [02:18<00:35,  1.22it/s]"
          ]
        },
        {
          "name": "stdout",
          "output_type": "stream",
          "text": [
            "{'Vectorizer Type': 'word2vec_skipgram', 'vector_size': 300, 'window': 8, 'Epochs Count': 20, 'CBoW/Skipgram OR DM/DBoW': 'Skip-gram', 'Silhouette Score': -0.0099833235, 'WSS Score': 0.762829601764679, 'Cluster Size': 9}\n",
            "Training word2vec_skipgram | vec_size=300 | window=8 | epochs=20 | k=13\n"
          ]
        },
        {
          "name": "stderr",
          "output_type": "stream",
          "text": [
            "\r 81%|████████  | 174/216 [02:19<00:36,  1.16it/s]"
          ]
        },
        {
          "name": "stdout",
          "output_type": "stream",
          "text": [
            "{'Vectorizer Type': 'word2vec_skipgram', 'vector_size': 300, 'window': 8, 'Epochs Count': 20, 'CBoW/Skipgram OR DM/DBoW': 'Skip-gram', 'Silhouette Score': 0.026192503, 'WSS Score': 0.7025983333587646, 'Cluster Size': 13}\n",
            "Training doc2vec_dm | vec_size=300 | window=8 | epochs=20 | k=5\n"
          ]
        },
        {
          "name": "stderr",
          "output_type": "stream",
          "text": [
            "\r 81%|████████  | 175/216 [02:19<00:33,  1.22it/s]"
          ]
        },
        {
          "name": "stdout",
          "output_type": "stream",
          "text": [
            "{'Vectorizer Type': 'doc2vec_dm', 'vector_size': 300, 'window': 8, 'Epochs Count': 20, 'CBoW/Skipgram OR DM/DBoW': 'DM', 'Silhouette Score': 0.0034070297, 'WSS Score': 433.248291015625, 'Cluster Size': 5}\n",
            "Training doc2vec_dm | vec_size=300 | window=8 | epochs=20 | k=9\n"
          ]
        },
        {
          "name": "stderr",
          "output_type": "stream",
          "text": [
            "\r 81%|████████▏ | 176/216 [02:20<00:31,  1.26it/s]"
          ]
        },
        {
          "name": "stdout",
          "output_type": "stream",
          "text": [
            "{'Vectorizer Type': 'doc2vec_dm', 'vector_size': 300, 'window': 8, 'Epochs Count': 20, 'CBoW/Skipgram OR DM/DBoW': 'DM', 'Silhouette Score': 0.0017686615, 'WSS Score': 427.92889404296875, 'Cluster Size': 9}\n",
            "Training doc2vec_dm | vec_size=300 | window=8 | epochs=20 | k=13\n"
          ]
        },
        {
          "name": "stderr",
          "output_type": "stream",
          "text": [
            "\r 82%|████████▏ | 177/216 [02:21<00:30,  1.27it/s]"
          ]
        },
        {
          "name": "stdout",
          "output_type": "stream",
          "text": [
            "{'Vectorizer Type': 'doc2vec_dm', 'vector_size': 300, 'window': 8, 'Epochs Count': 20, 'CBoW/Skipgram OR DM/DBoW': 'DM', 'Silhouette Score': 0.00010817001, 'WSS Score': 422.86053466796875, 'Cluster Size': 13}\n",
            "Training doc2vec_dbow | vec_size=300 | window=8 | epochs=20 | k=5\n"
          ]
        },
        {
          "name": "stderr",
          "output_type": "stream",
          "text": [
            "\r 82%|████████▏ | 178/216 [02:21<00:26,  1.42it/s]"
          ]
        },
        {
          "name": "stdout",
          "output_type": "stream",
          "text": [
            "{'Vectorizer Type': 'doc2vec_dbow', 'vector_size': 300, 'window': 8, 'Epochs Count': 20, 'CBoW/Skipgram OR DM/DBoW': 'DBoW', 'Silhouette Score': 0.003078464, 'WSS Score': 424.2949523925781, 'Cluster Size': 5}\n",
            "Training doc2vec_dbow | vec_size=300 | window=8 | epochs=20 | k=9\n"
          ]
        },
        {
          "name": "stderr",
          "output_type": "stream",
          "text": [
            "\r 83%|████████▎ | 179/216 [02:22<00:24,  1.53it/s]"
          ]
        },
        {
          "name": "stdout",
          "output_type": "stream",
          "text": [
            "{'Vectorizer Type': 'doc2vec_dbow', 'vector_size': 300, 'window': 8, 'Epochs Count': 20, 'CBoW/Skipgram OR DM/DBoW': 'DBoW', 'Silhouette Score': 0.0010209191, 'WSS Score': 419.22869873046875, 'Cluster Size': 9}\n",
            "Training doc2vec_dbow | vec_size=300 | window=8 | epochs=20 | k=13\n"
          ]
        },
        {
          "name": "stderr",
          "output_type": "stream",
          "text": [
            "\r 83%|████████▎ | 180/216 [02:23<00:22,  1.59it/s]"
          ]
        },
        {
          "name": "stdout",
          "output_type": "stream",
          "text": [
            "{'Vectorizer Type': 'doc2vec_dbow', 'vector_size': 300, 'window': 8, 'Epochs Count': 20, 'CBoW/Skipgram OR DM/DBoW': 'DBoW', 'Silhouette Score': -6.425923e-05, 'WSS Score': 413.9142761230469, 'Cluster Size': 13}\n",
            "Training word2vec_cbow | vec_size=300 | window=8 | epochs=40 | k=5\n"
          ]
        },
        {
          "name": "stderr",
          "output_type": "stream",
          "text": [
            "\r 84%|████████▍ | 181/216 [02:23<00:22,  1.55it/s]"
          ]
        },
        {
          "name": "stdout",
          "output_type": "stream",
          "text": [
            "{'Vectorizer Type': 'word2vec_cbow', 'vector_size': 300, 'window': 8, 'Epochs Count': 40, 'CBoW/Skipgram OR DM/DBoW': 'CBOW', 'Silhouette Score': 0.17190915, 'WSS Score': 3.4671506881713867, 'Cluster Size': 5}\n",
            "Training word2vec_cbow | vec_size=300 | window=8 | epochs=40 | k=9\n"
          ]
        },
        {
          "name": "stderr",
          "output_type": "stream",
          "text": [
            "\r 84%|████████▍ | 182/216 [02:24<00:26,  1.29it/s]"
          ]
        },
        {
          "name": "stdout",
          "output_type": "stream",
          "text": [
            "{'Vectorizer Type': 'word2vec_cbow', 'vector_size': 300, 'window': 8, 'Epochs Count': 40, 'CBoW/Skipgram OR DM/DBoW': 'CBOW', 'Silhouette Score': 0.04184623, 'WSS Score': 3.254983425140381, 'Cluster Size': 9}\n",
            "Training word2vec_cbow | vec_size=300 | window=8 | epochs=40 | k=13\n"
          ]
        },
        {
          "name": "stderr",
          "output_type": "stream",
          "text": [
            "\r 85%|████████▍ | 183/216 [02:26<00:30,  1.09it/s]"
          ]
        },
        {
          "name": "stdout",
          "output_type": "stream",
          "text": [
            "{'Vectorizer Type': 'word2vec_cbow', 'vector_size': 300, 'window': 8, 'Epochs Count': 40, 'CBoW/Skipgram OR DM/DBoW': 'CBOW', 'Silhouette Score': 0.06304403, 'WSS Score': 3.035921573638916, 'Cluster Size': 13}\n",
            "Training word2vec_skipgram | vec_size=300 | window=8 | epochs=40 | k=5\n"
          ]
        },
        {
          "name": "stderr",
          "output_type": "stream",
          "text": [
            "\r 85%|████████▌ | 184/216 [02:27<00:36,  1.13s/it]"
          ]
        },
        {
          "name": "stdout",
          "output_type": "stream",
          "text": [
            "{'Vectorizer Type': 'word2vec_skipgram', 'vector_size': 300, 'window': 8, 'Epochs Count': 40, 'CBoW/Skipgram OR DM/DBoW': 'Skip-gram', 'Silhouette Score': 0.44561633, 'WSS Score': 8.008879661560059, 'Cluster Size': 5}\n",
            "Training word2vec_skipgram | vec_size=300 | window=8 | epochs=40 | k=9\n"
          ]
        },
        {
          "name": "stderr",
          "output_type": "stream",
          "text": [
            "\r 86%|████████▌ | 185/216 [02:29<00:39,  1.28s/it]"
          ]
        },
        {
          "name": "stdout",
          "output_type": "stream",
          "text": [
            "{'Vectorizer Type': 'word2vec_skipgram', 'vector_size': 300, 'window': 8, 'Epochs Count': 40, 'CBoW/Skipgram OR DM/DBoW': 'Skip-gram', 'Silhouette Score': 0.21498442, 'WSS Score': 6.084505558013916, 'Cluster Size': 9}\n",
            "Training word2vec_skipgram | vec_size=300 | window=8 | epochs=40 | k=13\n"
          ]
        },
        {
          "name": "stderr",
          "output_type": "stream",
          "text": [
            "\r 86%|████████▌ | 186/216 [02:30<00:41,  1.39s/it]"
          ]
        },
        {
          "name": "stdout",
          "output_type": "stream",
          "text": [
            "{'Vectorizer Type': 'word2vec_skipgram', 'vector_size': 300, 'window': 8, 'Epochs Count': 40, 'CBoW/Skipgram OR DM/DBoW': 'Skip-gram', 'Silhouette Score': 0.24654293, 'WSS Score': 4.954076290130615, 'Cluster Size': 13}\n",
            "Training doc2vec_dm | vec_size=300 | window=8 | epochs=40 | k=5\n"
          ]
        },
        {
          "name": "stderr",
          "output_type": "stream",
          "text": [
            "\r 87%|████████▋ | 187/216 [02:32<00:39,  1.35s/it]"
          ]
        },
        {
          "name": "stdout",
          "output_type": "stream",
          "text": [
            "{'Vectorizer Type': 'doc2vec_dm', 'vector_size': 300, 'window': 8, 'Epochs Count': 40, 'CBoW/Skipgram OR DM/DBoW': 'DM', 'Silhouette Score': 0.039236628, 'WSS Score': 80.79053497314453, 'Cluster Size': 5}\n",
            "Training doc2vec_dm | vec_size=300 | window=8 | epochs=40 | k=9\n"
          ]
        },
        {
          "name": "stderr",
          "output_type": "stream",
          "text": [
            "\r 87%|████████▋ | 188/216 [02:33<00:37,  1.32s/it]"
          ]
        },
        {
          "name": "stdout",
          "output_type": "stream",
          "text": [
            "{'Vectorizer Type': 'doc2vec_dm', 'vector_size': 300, 'window': 8, 'Epochs Count': 40, 'CBoW/Skipgram OR DM/DBoW': 'DM', 'Silhouette Score': -0.0063153207, 'WSS Score': 79.53062438964844, 'Cluster Size': 9}\n",
            "Training doc2vec_dm | vec_size=300 | window=8 | epochs=40 | k=13\n"
          ]
        },
        {
          "name": "stderr",
          "output_type": "stream",
          "text": [
            "\r 88%|████████▊ | 189/216 [02:34<00:35,  1.32s/it]"
          ]
        },
        {
          "name": "stdout",
          "output_type": "stream",
          "text": [
            "{'Vectorizer Type': 'doc2vec_dm', 'vector_size': 300, 'window': 8, 'Epochs Count': 40, 'CBoW/Skipgram OR DM/DBoW': 'DM', 'Silhouette Score': 0.020904735, 'WSS Score': 78.15968322753906, 'Cluster Size': 13}\n",
            "Training doc2vec_dbow | vec_size=300 | window=8 | epochs=40 | k=5\n"
          ]
        },
        {
          "name": "stderr",
          "output_type": "stream",
          "text": [
            "\r 88%|████████▊ | 190/216 [02:35<00:30,  1.17s/it]"
          ]
        },
        {
          "name": "stdout",
          "output_type": "stream",
          "text": [
            "{'Vectorizer Type': 'doc2vec_dbow', 'vector_size': 300, 'window': 8, 'Epochs Count': 40, 'CBoW/Skipgram OR DM/DBoW': 'DBoW', 'Silhouette Score': 0.022568287, 'WSS Score': 140.20904541015625, 'Cluster Size': 5}\n",
            "Training doc2vec_dbow | vec_size=300 | window=8 | epochs=40 | k=9\n"
          ]
        },
        {
          "name": "stderr",
          "output_type": "stream",
          "text": [
            "\r 88%|████████▊ | 191/216 [02:36<00:28,  1.14s/it]"
          ]
        },
        {
          "name": "stdout",
          "output_type": "stream",
          "text": [
            "{'Vectorizer Type': 'doc2vec_dbow', 'vector_size': 300, 'window': 8, 'Epochs Count': 40, 'CBoW/Skipgram OR DM/DBoW': 'DBoW', 'Silhouette Score': 0.016460884, 'WSS Score': 138.11219787597656, 'Cluster Size': 9}\n",
            "Training doc2vec_dbow | vec_size=300 | window=8 | epochs=40 | k=13\n"
          ]
        },
        {
          "name": "stderr",
          "output_type": "stream",
          "text": [
            "\r 89%|████████▉ | 192/216 [02:38<00:29,  1.24s/it]"
          ]
        },
        {
          "name": "stdout",
          "output_type": "stream",
          "text": [
            "{'Vectorizer Type': 'doc2vec_dbow', 'vector_size': 300, 'window': 8, 'Epochs Count': 40, 'CBoW/Skipgram OR DM/DBoW': 'DBoW', 'Silhouette Score': -0.006012657, 'WSS Score': 135.67864990234375, 'Cluster Size': 13}\n",
            "Training word2vec_cbow | vec_size=300 | window=10 | epochs=20 | k=5\n"
          ]
        },
        {
          "name": "stderr",
          "output_type": "stream",
          "text": [
            "\r 89%|████████▉ | 193/216 [02:38<00:24,  1.07s/it]"
          ]
        },
        {
          "name": "stdout",
          "output_type": "stream",
          "text": [
            "{'Vectorizer Type': 'word2vec_cbow', 'vector_size': 300, 'window': 10, 'Epochs Count': 20, 'CBoW/Skipgram OR DM/DBoW': 'CBOW', 'Silhouette Score': 0.031567164, 'WSS Score': 222.8686981201172, 'Cluster Size': 5}\n",
            "Training word2vec_cbow | vec_size=300 | window=10 | epochs=20 | k=9\n"
          ]
        },
        {
          "name": "stderr",
          "output_type": "stream",
          "text": [
            "\r 90%|████████▉ | 194/216 [02:39<00:19,  1.12it/s]"
          ]
        },
        {
          "name": "stdout",
          "output_type": "stream",
          "text": [
            "{'Vectorizer Type': 'word2vec_cbow', 'vector_size': 300, 'window': 10, 'Epochs Count': 20, 'CBoW/Skipgram OR DM/DBoW': 'CBOW', 'Silhouette Score': -0.050031114, 'WSS Score': 216.82025146484375, 'Cluster Size': 9}\n",
            "Training word2vec_cbow | vec_size=300 | window=10 | epochs=20 | k=13\n"
          ]
        },
        {
          "name": "stderr",
          "output_type": "stream",
          "text": [
            "\r 90%|█████████ | 195/216 [02:39<00:16,  1.28it/s]"
          ]
        },
        {
          "name": "stdout",
          "output_type": "stream",
          "text": [
            "{'Vectorizer Type': 'word2vec_cbow', 'vector_size': 300, 'window': 10, 'Epochs Count': 20, 'CBoW/Skipgram OR DM/DBoW': 'CBOW', 'Silhouette Score': -0.030194264, 'WSS Score': 213.97219848632812, 'Cluster Size': 13}\n",
            "Training word2vec_skipgram | vec_size=300 | window=10 | epochs=20 | k=5\n"
          ]
        },
        {
          "name": "stderr",
          "output_type": "stream",
          "text": [
            "\r 91%|█████████ | 196/216 [02:40<00:16,  1.21it/s]"
          ]
        },
        {
          "name": "stdout",
          "output_type": "stream",
          "text": [
            "{'Vectorizer Type': 'word2vec_skipgram', 'vector_size': 300, 'window': 10, 'Epochs Count': 20, 'CBoW/Skipgram OR DM/DBoW': 'Skip-gram', 'Silhouette Score': 0.04535834, 'WSS Score': 0.5016929507255554, 'Cluster Size': 5}\n",
            "Training word2vec_skipgram | vec_size=300 | window=10 | epochs=20 | k=9\n"
          ]
        },
        {
          "name": "stderr",
          "output_type": "stream",
          "text": [
            "\r 91%|█████████ | 197/216 [02:41<00:16,  1.13it/s]"
          ]
        },
        {
          "name": "stdout",
          "output_type": "stream",
          "text": [
            "{'Vectorizer Type': 'word2vec_skipgram', 'vector_size': 300, 'window': 10, 'Epochs Count': 20, 'CBoW/Skipgram OR DM/DBoW': 'Skip-gram', 'Silhouette Score': 0.028770708, 'WSS Score': 0.46244898438453674, 'Cluster Size': 9}\n",
            "Training word2vec_skipgram | vec_size=300 | window=10 | epochs=20 | k=13\n"
          ]
        },
        {
          "name": "stderr",
          "output_type": "stream",
          "text": [
            "\r 92%|█████████▏| 198/216 [02:42<00:16,  1.08it/s]"
          ]
        },
        {
          "name": "stdout",
          "output_type": "stream",
          "text": [
            "{'Vectorizer Type': 'word2vec_skipgram', 'vector_size': 300, 'window': 10, 'Epochs Count': 20, 'CBoW/Skipgram OR DM/DBoW': 'Skip-gram', 'Silhouette Score': 0.05506936, 'WSS Score': 0.43088364601135254, 'Cluster Size': 13}\n",
            "Training doc2vec_dm | vec_size=300 | window=10 | epochs=20 | k=5\n"
          ]
        },
        {
          "name": "stderr",
          "output_type": "stream",
          "text": [
            "\r 92%|█████████▏| 199/216 [02:43<00:14,  1.17it/s]"
          ]
        },
        {
          "name": "stdout",
          "output_type": "stream",
          "text": [
            "{'Vectorizer Type': 'doc2vec_dm', 'vector_size': 300, 'window': 10, 'Epochs Count': 20, 'CBoW/Skipgram OR DM/DBoW': 'DM', 'Silhouette Score': 0.0034357738, 'WSS Score': 432.5270080566406, 'Cluster Size': 5}\n",
            "Training doc2vec_dm | vec_size=300 | window=10 | epochs=20 | k=9\n"
          ]
        },
        {
          "name": "stderr",
          "output_type": "stream",
          "text": [
            "\r 93%|█████████▎| 200/216 [02:44<00:13,  1.22it/s]"
          ]
        },
        {
          "name": "stdout",
          "output_type": "stream",
          "text": [
            "{'Vectorizer Type': 'doc2vec_dm', 'vector_size': 300, 'window': 10, 'Epochs Count': 20, 'CBoW/Skipgram OR DM/DBoW': 'DM', 'Silhouette Score': 0.0018704889, 'WSS Score': 426.9944763183594, 'Cluster Size': 9}\n",
            "Training doc2vec_dm | vec_size=300 | window=10 | epochs=20 | k=13\n"
          ]
        },
        {
          "name": "stderr",
          "output_type": "stream",
          "text": [
            "\r 93%|█████████▎| 201/216 [02:44<00:11,  1.25it/s]"
          ]
        },
        {
          "name": "stdout",
          "output_type": "stream",
          "text": [
            "{'Vectorizer Type': 'doc2vec_dm', 'vector_size': 300, 'window': 10, 'Epochs Count': 20, 'CBoW/Skipgram OR DM/DBoW': 'DM', 'Silhouette Score': 0.00051450054, 'WSS Score': 421.6596374511719, 'Cluster Size': 13}\n",
            "Training doc2vec_dbow | vec_size=300 | window=10 | epochs=20 | k=5\n"
          ]
        },
        {
          "name": "stderr",
          "output_type": "stream",
          "text": [
            "\r 94%|█████████▎| 202/216 [02:45<00:09,  1.41it/s]"
          ]
        },
        {
          "name": "stdout",
          "output_type": "stream",
          "text": [
            "{'Vectorizer Type': 'doc2vec_dbow', 'vector_size': 300, 'window': 10, 'Epochs Count': 20, 'CBoW/Skipgram OR DM/DBoW': 'DBoW', 'Silhouette Score': 0.003078464, 'WSS Score': 424.2949523925781, 'Cluster Size': 5}\n",
            "Training doc2vec_dbow | vec_size=300 | window=10 | epochs=20 | k=9\n"
          ]
        },
        {
          "name": "stderr",
          "output_type": "stream",
          "text": [
            "\r 94%|█████████▍| 203/216 [02:45<00:08,  1.53it/s]"
          ]
        },
        {
          "name": "stdout",
          "output_type": "stream",
          "text": [
            "{'Vectorizer Type': 'doc2vec_dbow', 'vector_size': 300, 'window': 10, 'Epochs Count': 20, 'CBoW/Skipgram OR DM/DBoW': 'DBoW', 'Silhouette Score': 0.0010209191, 'WSS Score': 419.22869873046875, 'Cluster Size': 9}\n",
            "Training doc2vec_dbow | vec_size=300 | window=10 | epochs=20 | k=13\n"
          ]
        },
        {
          "name": "stderr",
          "output_type": "stream",
          "text": [
            "\r 94%|█████████▍| 204/216 [02:46<00:07,  1.60it/s]"
          ]
        },
        {
          "name": "stdout",
          "output_type": "stream",
          "text": [
            "{'Vectorizer Type': 'doc2vec_dbow', 'vector_size': 300, 'window': 10, 'Epochs Count': 20, 'CBoW/Skipgram OR DM/DBoW': 'DBoW', 'Silhouette Score': -6.425923e-05, 'WSS Score': 413.9142761230469, 'Cluster Size': 13}\n",
            "Training word2vec_cbow | vec_size=300 | window=10 | epochs=40 | k=5\n"
          ]
        },
        {
          "name": "stderr",
          "output_type": "stream",
          "text": [
            "\r 95%|█████████▍| 205/216 [02:47<00:07,  1.57it/s]"
          ]
        },
        {
          "name": "stdout",
          "output_type": "stream",
          "text": [
            "{'Vectorizer Type': 'word2vec_cbow', 'vector_size': 300, 'window': 10, 'Epochs Count': 40, 'CBoW/Skipgram OR DM/DBoW': 'CBOW', 'Silhouette Score': 0.12625638, 'WSS Score': 2.2635464668273926, 'Cluster Size': 5}\n",
            "Training word2vec_cbow | vec_size=300 | window=10 | epochs=40 | k=9\n"
          ]
        },
        {
          "name": "stderr",
          "output_type": "stream",
          "text": [
            "\r 95%|█████████▌| 206/216 [02:47<00:06,  1.53it/s]"
          ]
        },
        {
          "name": "stdout",
          "output_type": "stream",
          "text": [
            "{'Vectorizer Type': 'word2vec_cbow', 'vector_size': 300, 'window': 10, 'Epochs Count': 40, 'CBoW/Skipgram OR DM/DBoW': 'CBOW', 'Silhouette Score': 0.1293332, 'WSS Score': 2.136247158050537, 'Cluster Size': 9}\n",
            "Training word2vec_cbow | vec_size=300 | window=10 | epochs=40 | k=13\n"
          ]
        },
        {
          "name": "stderr",
          "output_type": "stream",
          "text": [
            "\r 96%|█████████▌| 207/216 [02:48<00:06,  1.45it/s]"
          ]
        },
        {
          "name": "stdout",
          "output_type": "stream",
          "text": [
            "{'Vectorizer Type': 'word2vec_cbow', 'vector_size': 300, 'window': 10, 'Epochs Count': 40, 'CBoW/Skipgram OR DM/DBoW': 'CBOW', 'Silhouette Score': -0.023313098, 'WSS Score': 2.0415139198303223, 'Cluster Size': 13}\n",
            "Training word2vec_skipgram | vec_size=300 | window=10 | epochs=40 | k=5\n"
          ]
        },
        {
          "name": "stderr",
          "output_type": "stream",
          "text": [
            "\r 96%|█████████▋| 208/216 [02:51<00:09,  1.21s/it]"
          ]
        },
        {
          "name": "stdout",
          "output_type": "stream",
          "text": [
            "{'Vectorizer Type': 'word2vec_skipgram', 'vector_size': 300, 'window': 10, 'Epochs Count': 40, 'CBoW/Skipgram OR DM/DBoW': 'Skip-gram', 'Silhouette Score': 0.4050349, 'WSS Score': 14.293173789978027, 'Cluster Size': 5}\n",
            "Training word2vec_skipgram | vec_size=300 | window=10 | epochs=40 | k=9\n"
          ]
        },
        {
          "name": "stderr",
          "output_type": "stream",
          "text": [
            "\r 97%|█████████▋| 209/216 [02:52<00:09,  1.36s/it]"
          ]
        },
        {
          "name": "stdout",
          "output_type": "stream",
          "text": [
            "{'Vectorizer Type': 'word2vec_skipgram', 'vector_size': 300, 'window': 10, 'Epochs Count': 40, 'CBoW/Skipgram OR DM/DBoW': 'Skip-gram', 'Silhouette Score': 0.22746994, 'WSS Score': 10.943933486938477, 'Cluster Size': 9}\n",
            "Training word2vec_skipgram | vec_size=300 | window=10 | epochs=40 | k=13\n"
          ]
        },
        {
          "name": "stderr",
          "output_type": "stream",
          "text": [
            "\r 97%|█████████▋| 210/216 [02:54<00:08,  1.48s/it]"
          ]
        },
        {
          "name": "stdout",
          "output_type": "stream",
          "text": [
            "{'Vectorizer Type': 'word2vec_skipgram', 'vector_size': 300, 'window': 10, 'Epochs Count': 40, 'CBoW/Skipgram OR DM/DBoW': 'Skip-gram', 'Silhouette Score': 0.30684346, 'WSS Score': 8.679572105407715, 'Cluster Size': 13}\n",
            "Training doc2vec_dm | vec_size=300 | window=10 | epochs=40 | k=5\n"
          ]
        },
        {
          "name": "stderr",
          "output_type": "stream",
          "text": [
            "\r 98%|█████████▊| 211/216 [02:55<00:07,  1.40s/it]"
          ]
        },
        {
          "name": "stdout",
          "output_type": "stream",
          "text": [
            "{'Vectorizer Type': 'doc2vec_dm', 'vector_size': 300, 'window': 10, 'Epochs Count': 40, 'CBoW/Skipgram OR DM/DBoW': 'DM', 'Silhouette Score': 0.04635814, 'WSS Score': 63.403621673583984, 'Cluster Size': 5}\n",
            "Training doc2vec_dm | vec_size=300 | window=10 | epochs=40 | k=9\n"
          ]
        },
        {
          "name": "stderr",
          "output_type": "stream",
          "text": [
            "\r 98%|█████████▊| 212/216 [02:57<00:05,  1.36s/it]"
          ]
        },
        {
          "name": "stdout",
          "output_type": "stream",
          "text": [
            "{'Vectorizer Type': 'doc2vec_dm', 'vector_size': 300, 'window': 10, 'Epochs Count': 40, 'CBoW/Skipgram OR DM/DBoW': 'DM', 'Silhouette Score': 0.016304173, 'WSS Score': 62.13562774658203, 'Cluster Size': 9}\n",
            "Training doc2vec_dm | vec_size=300 | window=10 | epochs=40 | k=13\n"
          ]
        },
        {
          "name": "stderr",
          "output_type": "stream",
          "text": [
            "\r 99%|█████████▊| 213/216 [02:58<00:04,  1.35s/it]"
          ]
        },
        {
          "name": "stdout",
          "output_type": "stream",
          "text": [
            "{'Vectorizer Type': 'doc2vec_dm', 'vector_size': 300, 'window': 10, 'Epochs Count': 40, 'CBoW/Skipgram OR DM/DBoW': 'DM', 'Silhouette Score': 0.013990805, 'WSS Score': 60.64640426635742, 'Cluster Size': 13}\n",
            "Training doc2vec_dbow | vec_size=300 | window=10 | epochs=40 | k=5\n"
          ]
        },
        {
          "name": "stderr",
          "output_type": "stream",
          "text": [
            "\r 99%|█████████▉| 214/216 [02:59<00:02,  1.19s/it]"
          ]
        },
        {
          "name": "stdout",
          "output_type": "stream",
          "text": [
            "{'Vectorizer Type': 'doc2vec_dbow', 'vector_size': 300, 'window': 10, 'Epochs Count': 40, 'CBoW/Skipgram OR DM/DBoW': 'DBoW', 'Silhouette Score': 0.022568287, 'WSS Score': 140.20904541015625, 'Cluster Size': 5}\n",
            "Training doc2vec_dbow | vec_size=300 | window=10 | epochs=40 | k=9\n"
          ]
        },
        {
          "name": "stderr",
          "output_type": "stream",
          "text": [
            "\r100%|█████████▉| 215/216 [03:00<00:01,  1.09s/it]"
          ]
        },
        {
          "name": "stdout",
          "output_type": "stream",
          "text": [
            "{'Vectorizer Type': 'doc2vec_dbow', 'vector_size': 300, 'window': 10, 'Epochs Count': 40, 'CBoW/Skipgram OR DM/DBoW': 'DBoW', 'Silhouette Score': 0.016460884, 'WSS Score': 138.11219787597656, 'Cluster Size': 9}\n",
            "Training doc2vec_dbow | vec_size=300 | window=10 | epochs=40 | k=13\n"
          ]
        },
        {
          "name": "stderr",
          "output_type": "stream",
          "text": [
            "100%|██████████| 216/216 [03:00<00:00,  1.19it/s]"
          ]
        },
        {
          "name": "stdout",
          "output_type": "stream",
          "text": [
            "{'Vectorizer Type': 'doc2vec_dbow', 'vector_size': 300, 'window': 10, 'Epochs Count': 40, 'CBoW/Skipgram OR DM/DBoW': 'DBoW', 'Silhouette Score': -0.006012657, 'WSS Score': 135.67864990234375, 'Cluster Size': 13}\n",
            "       Vectorizer Type  vector_size  window  Epochs Count  \\\n",
            "0        word2vec_cbow          100       5            20   \n",
            "1        word2vec_cbow          100       5            20   \n",
            "2        word2vec_cbow          100       5            20   \n",
            "3    word2vec_skipgram          100       5            20   \n",
            "4    word2vec_skipgram          100       5            20   \n",
            "..                 ...          ...     ...           ...   \n",
            "211         doc2vec_dm          300      10            40   \n",
            "212         doc2vec_dm          300      10            40   \n",
            "213       doc2vec_dbow          300      10            40   \n",
            "214       doc2vec_dbow          300      10            40   \n",
            "215       doc2vec_dbow          300      10            40   \n",
            "\n",
            "    CBoW/Skipgram OR DM/DBoW  Silhouette Score   WSS Score  Cluster Size  \n",
            "0                       CBOW         -0.008257  293.066406             5  \n",
            "1                       CBOW         -0.003577  283.851776             9  \n",
            "2                       CBOW         -0.001316  276.882690            13  \n",
            "3                  Skip-gram          0.033408    6.611342             5  \n",
            "4                  Skip-gram          0.043901    6.357903             9  \n",
            "..                       ...               ...         ...           ...  \n",
            "211                       DM          0.016304   62.135628             9  \n",
            "212                       DM          0.013991   60.646404            13  \n",
            "213                     DBoW          0.022568  140.209045             5  \n",
            "214                     DBoW          0.016461  138.112198             9  \n",
            "215                     DBoW         -0.006013  135.678650            13  \n",
            "\n",
            "[216 rows x 8 columns]\n"
          ]
        },
        {
          "name": "stderr",
          "output_type": "stream",
          "text": [
            "\n"
          ]
        },
        {
          "data": {
            "image/png": "[encoded data removed]",
            "text/plain": [
              "<Figure size 1200x600 with 1 Axes>"
            ]
          },
          "metadata": {},
          "output_type": "display_data"
        },
        {
          "data": {
            "image/png": "[encoded data removed]",
            "text/plain": [
              "<Figure size 1200x600 with 1 Axes>"
            ]
          },
          "metadata": {},
          "output_type": "display_data"
        },
        {
          "name": "stdout",
          "output_type": "stream",
          "text": [
            "Top 10 configurations:\n",
            "       Vectorizer Type  vector_size  window  Epochs Count  \\\n",
            "183  word2vec_skipgram          300       8            40   \n",
            "159  word2vec_skipgram          300       5            40   \n",
            "207  word2vec_skipgram          300      10            40   \n",
            "209  word2vec_skipgram          300      10            40   \n",
            "111  word2vec_skipgram          200       8            40   \n",
            "113  word2vec_skipgram          200       8            40   \n",
            "185  word2vec_skipgram          300       8            40   \n",
            "40   word2vec_skipgram          100       8            40   \n",
            "41   word2vec_skipgram          100       8            40   \n",
            "137  word2vec_skipgram          200      10            40   \n",
            "\n",
            "    CBoW/Skipgram OR DM/DBoW  Silhouette Score  WSS Score  Cluster Size  \n",
            "183                Skip-gram          0.445616   8.008880             5  \n",
            "159                Skip-gram          0.407212   1.409201             5  \n",
            "207                Skip-gram          0.405035  14.293174             5  \n",
            "209                Skip-gram          0.306843   8.679572            13  \n",
            "111                Skip-gram          0.300950  11.528916             5  \n",
            "113                Skip-gram          0.253765   7.059121            13  \n",
            "185                Skip-gram          0.246543   4.954076            13  \n",
            "40                 Skip-gram          0.245027  15.945037             9  \n",
            "41                 Skip-gram          0.241306  13.149912            13  \n",
            "137                Skip-gram          0.240684  11.777653            13  \n"
          ]
        }
      ],
      "source": [
        "results_df = run_embedding_grid_search(df)\n",
        "print(results_df)\n",
        "\n",
        "# Visualize results\n",
        "top_configs = visualize_results(results_df)\n",
        "print(\"Top 10 configurations:\")\n",
        "print(top_configs)"
      ]
    },
    {
      "cell_type": "code",
      "execution_count": null,
      "metadata": {
        "id": "9ZZvE35I-iBe"
      },
      "outputs": [],
      "source": [
        "results_df"
      ]
    }
  ],
  "metadata": {
    "colab": {
      "provenance": []
    },
    "kernelspec": {
      "display_name": "llm",
      "language": "python",
      "name": "python3"
    },
    "language_info": {
      "name": "python",
      "version": "3.10.13"
    }
  },
  "nbformat": 4,
  "nbformat_minor": 0
}
